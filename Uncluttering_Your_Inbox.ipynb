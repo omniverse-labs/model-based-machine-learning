{
  "nbformat": 4,
  "nbformat_minor": 0,
  "metadata": {
    "colab": {
      "name": "Uncluttering_Your_Inbox.ipynb",
      "provenance": [],
      "collapsed_sections": []
    },
    "kernelspec": {
      "name": "python3",
      "display_name": "Python 3"
    },
    "language_info": {
      "name": "python"
    }
  },
  "cells": [
    {
      "cell_type": "markdown",
      "metadata": {
        "id": "uCPoENVHN17p"
      },
      "source": [
        "# Uncluttering Your Inbox\n"
      ]
    },
    {
      "cell_type": "markdown",
      "metadata": {
        "id": "4nGfbPy9OZqW"
      },
      "source": [
        "# 00. Introduction"
      ]
    },
    {
      "cell_type": "markdown",
      "metadata": {
        "id": "tMjewqflmg3N"
      },
      "source": [
        "## 00.01. Overall Idea"
      ]
    },
    {
      "cell_type": "markdown",
      "metadata": {
        "id": "znbZw3lAYloT"
      },
      "source": [
        "- The idea is that given a new email, predict whether the user will consider it clutter or non-clutter.\n",
        "- Inspired by the \"Uncluttering Your Inbox\" example in the [MBML Book](https://mbmlbook.com/EmailClassifier.html) which proposes a model that predicts whether the user will reply to an email or not based on a set of features not related to the actual body of the email.\n",
        "- We consider emails that are moved into the deleted folder as clutter, and those kept into the inbox folder as non-clutter. \n",
        "- We develop a number of classification models to compare various feature set choices as well as personalized and non-personalized classifiers.\n",
        "\n",
        "### Research Questions\n",
        "\n",
        "- How to extend the model suggested in the book to one that also uses topic modeling on the email body?\n",
        "- How to extend the model suggested in the book to a hierarchal one to better model personalized choices?\n",
        "- How do all the models compare?"
      ]
    },
    {
      "cell_type": "markdown",
      "metadata": {
        "id": "FwPrgf44m05J"
      },
      "source": [
        "## 00.02. Dataset"
      ]
    },
    {
      "cell_type": "markdown",
      "metadata": {
        "id": "BritRzmUN_af"
      },
      "source": [
        "- We used Enron Email Dataset (http://www.cs.cmu.edu/~enron/), which contains a total of about 0.5M messages and which is, as they mention, \"_the only substantial collection of \"real\" email that is public_\".\n",
        "- Separate scripts were developed and used to prepare and preprocess the dataset from the raw files, those same scripts are used here to load the processed data.\n",
        "- On a high level the preprocessing of the raw dataset included modeling and preprocessing email bodies.\n",
        "\n",
        "### Modeling\n",
        "\n",
        "#### Person\n",
        "- sname: short unique name\n",
        "- name: full name\n",
        "- email1: primary email\n",
        "- email2: secondary email\n",
        "\n",
        "#### Email\n",
        "- to: list of email addresses in the \"to\" field\n",
        "- from: sender's email address\n",
        "- date: the date of the email\n",
        "- cc: list of email addresses in the \"cc\" field\n",
        "- bcc: list of email addresses in the \"bcc\" field\n",
        "- subject: the subject of the email\n",
        "- body: the text body of the email\n",
        "\n",
        "### Text Preprocessing\n",
        "\n",
        "- Remove punctuation\n",
        "- Lemmatization\n",
        "- Make lowercase\n",
        "- Remove stopwords\n",
        "- Remove numbers and words with digits\n",
        "- Remove words of only 1 or 2 characters\n",
        "- Remove some words (http, www, com)"
      ]
    },
    {
      "cell_type": "markdown",
      "metadata": {
        "id": "J7zboTbHnMZw"
      },
      "source": [
        "## 00.03. How to Run this notebook?"
      ]
    },
    {
      "cell_type": "markdown",
      "metadata": {
        "id": "jrjZXBXwnUcy"
      },
      "source": [
        "1. You need the _processed-mail_ folder which contains the processed dataset (needs to be unzipped).\n",
        "2. You need the two files _DataPrepTools.py_ and _Dateset.py_ to load the processed dataset.\n",
        "3. You need to include the path to the directory containing these two code files in section 01.02.\n",
        "4. You need to include the path to the _processed-mail_ folder by setting the value of the variable _processed_dataset_path_ in section 02.01.\n",
        "5. If you got errors while installing packages in section 01.01 because of conflicting package versions (mostly when running in colab) then you need to restart the notebook runtime and run the cell again.\n",
        "6. The section 3.2. doesn't need to be run for the reasons described in the begining of that section.\n",
        "\n",
        "N.B. The notebook is developed and tested in Google Colab."
      ]
    },
    {
      "cell_type": "markdown",
      "metadata": {
        "id": "anPNNDSEHZ6w"
      },
      "source": [
        "# 01. Setup"
      ]
    },
    {
      "cell_type": "markdown",
      "metadata": {
        "id": "eugXgm6tIJ4g"
      },
      "source": [
        "## 01.01. Install Packages & Prerequisites"
      ]
    },
    {
      "cell_type": "code",
      "metadata": {
        "colab": {
          "base_uri": "https://localhost:8080/"
        },
        "id": "d8M7EXq08Ce7",
        "outputId": "d586adda-9d86-4ad1-bdad-68c07acffcb4"
      },
      "source": [
        "# Install packages & prerequisites\n",
        "!pip install pyro-ppl\n",
        "!pip install pyldavis\n",
        "!pip install seaborn\n",
        "!pip install nltk\n",
        "!pip install spacy\n",
        "!python -m spacy download en_core_web_sm"
      ],
      "execution_count": null,
      "outputs": [
        {
          "output_type": "stream",
          "text": [
            "Requirement already satisfied: pyro-ppl in /usr/local/lib/python3.7/dist-packages (1.6.0)\n",
            "Requirement already satisfied: tqdm>=4.36 in /usr/local/lib/python3.7/dist-packages (from pyro-ppl) (4.41.1)\n",
            "Requirement already satisfied: pyro-api>=0.1.1 in /usr/local/lib/python3.7/dist-packages (from pyro-ppl) (0.1.2)\n",
            "Requirement already satisfied: torch>=1.8.0 in /usr/local/lib/python3.7/dist-packages (from pyro-ppl) (1.8.1+cu101)\n",
            "Requirement already satisfied: opt-einsum>=2.3.2 in /usr/local/lib/python3.7/dist-packages (from pyro-ppl) (3.3.0)\n",
            "Requirement already satisfied: numpy>=1.7 in /usr/local/lib/python3.7/dist-packages (from pyro-ppl) (1.20.3)\n",
            "Requirement already satisfied: typing-extensions in /usr/local/lib/python3.7/dist-packages (from torch>=1.8.0->pyro-ppl) (3.7.4.3)\n",
            "Requirement already satisfied: pyldavis in /usr/local/lib/python3.7/dist-packages (3.3.1)\n",
            "Requirement already satisfied: setuptools in /usr/local/lib/python3.7/dist-packages (from pyldavis) (56.1.0)\n",
            "Requirement already satisfied: numpy>=1.20.0 in /usr/local/lib/python3.7/dist-packages (from pyldavis) (1.20.3)\n",
            "Requirement already satisfied: funcy in /usr/local/lib/python3.7/dist-packages (from pyldavis) (1.16)\n",
            "Requirement already satisfied: numexpr in /usr/local/lib/python3.7/dist-packages (from pyldavis) (2.7.3)\n",
            "Requirement already satisfied: future in /usr/local/lib/python3.7/dist-packages (from pyldavis) (0.16.0)\n",
            "Requirement already satisfied: scikit-learn in /usr/local/lib/python3.7/dist-packages (from pyldavis) (0.22.2.post1)\n",
            "Requirement already satisfied: pandas>=1.2.0 in /usr/local/lib/python3.7/dist-packages (from pyldavis) (1.2.4)\n",
            "Requirement already satisfied: scipy in /usr/local/lib/python3.7/dist-packages (from pyldavis) (1.4.1)\n",
            "Requirement already satisfied: jinja2 in /usr/local/lib/python3.7/dist-packages (from pyldavis) (2.11.3)\n",
            "Requirement already satisfied: gensim in /usr/local/lib/python3.7/dist-packages (from pyldavis) (3.6.0)\n",
            "Requirement already satisfied: joblib in /usr/local/lib/python3.7/dist-packages (from pyldavis) (1.0.1)\n",
            "Requirement already satisfied: sklearn in /usr/local/lib/python3.7/dist-packages (from pyldavis) (0.0)\n",
            "Requirement already satisfied: pytz>=2017.3 in /usr/local/lib/python3.7/dist-packages (from pandas>=1.2.0->pyldavis) (2018.9)\n",
            "Requirement already satisfied: python-dateutil>=2.7.3 in /usr/local/lib/python3.7/dist-packages (from pandas>=1.2.0->pyldavis) (2.8.1)\n",
            "Requirement already satisfied: MarkupSafe>=0.23 in /usr/local/lib/python3.7/dist-packages (from jinja2->pyldavis) (2.0.1)\n",
            "Requirement already satisfied: six>=1.5.0 in /usr/local/lib/python3.7/dist-packages (from gensim->pyldavis) (1.15.0)\n",
            "Requirement already satisfied: smart-open>=1.2.1 in /usr/local/lib/python3.7/dist-packages (from gensim->pyldavis) (5.0.0)\n",
            "Requirement already satisfied: seaborn in /usr/local/lib/python3.7/dist-packages (0.11.1)\n",
            "Requirement already satisfied: numpy>=1.15 in /usr/local/lib/python3.7/dist-packages (from seaborn) (1.20.3)\n",
            "Requirement already satisfied: scipy>=1.0 in /usr/local/lib/python3.7/dist-packages (from seaborn) (1.4.1)\n",
            "Requirement already satisfied: pandas>=0.23 in /usr/local/lib/python3.7/dist-packages (from seaborn) (1.2.4)\n",
            "Requirement already satisfied: matplotlib>=2.2 in /usr/local/lib/python3.7/dist-packages (from seaborn) (3.2.2)\n",
            "Requirement already satisfied: pytz>=2017.3 in /usr/local/lib/python3.7/dist-packages (from pandas>=0.23->seaborn) (2018.9)\n",
            "Requirement already satisfied: python-dateutil>=2.7.3 in /usr/local/lib/python3.7/dist-packages (from pandas>=0.23->seaborn) (2.8.1)\n",
            "Requirement already satisfied: pyparsing!=2.0.4,!=2.1.2,!=2.1.6,>=2.0.1 in /usr/local/lib/python3.7/dist-packages (from matplotlib>=2.2->seaborn) (2.4.7)\n",
            "Requirement already satisfied: cycler>=0.10 in /usr/local/lib/python3.7/dist-packages (from matplotlib>=2.2->seaborn) (0.10.0)\n",
            "Requirement already satisfied: kiwisolver>=1.0.1 in /usr/local/lib/python3.7/dist-packages (from matplotlib>=2.2->seaborn) (1.3.1)\n",
            "Requirement already satisfied: six>=1.5 in /usr/local/lib/python3.7/dist-packages (from python-dateutil>=2.7.3->pandas>=0.23->seaborn) (1.15.0)\n",
            "Requirement already satisfied: nltk in /usr/local/lib/python3.7/dist-packages (3.2.5)\n",
            "Requirement already satisfied: six in /usr/local/lib/python3.7/dist-packages (from nltk) (1.15.0)\n",
            "Requirement already satisfied: spacy in /usr/local/lib/python3.7/dist-packages (2.2.4)\n",
            "Requirement already satisfied: requests<3.0.0,>=2.13.0 in /usr/local/lib/python3.7/dist-packages (from spacy) (2.23.0)\n",
            "Requirement already satisfied: plac<1.2.0,>=0.9.6 in /usr/local/lib/python3.7/dist-packages (from spacy) (1.1.3)\n",
            "Requirement already satisfied: catalogue<1.1.0,>=0.0.7 in /usr/local/lib/python3.7/dist-packages (from spacy) (1.0.0)\n",
            "Requirement already satisfied: murmurhash<1.1.0,>=0.28.0 in /usr/local/lib/python3.7/dist-packages (from spacy) (1.0.5)\n",
            "Requirement already satisfied: wasabi<1.1.0,>=0.4.0 in /usr/local/lib/python3.7/dist-packages (from spacy) (0.8.2)\n",
            "Requirement already satisfied: tqdm<5.0.0,>=4.38.0 in /usr/local/lib/python3.7/dist-packages (from spacy) (4.41.1)\n",
            "Requirement already satisfied: blis<0.5.0,>=0.4.0 in /usr/local/lib/python3.7/dist-packages (from spacy) (0.4.1)\n",
            "Requirement already satisfied: setuptools in /usr/local/lib/python3.7/dist-packages (from spacy) (56.1.0)\n",
            "Requirement already satisfied: numpy>=1.15.0 in /usr/local/lib/python3.7/dist-packages (from spacy) (1.20.3)\n",
            "Requirement already satisfied: cymem<2.1.0,>=2.0.2 in /usr/local/lib/python3.7/dist-packages (from spacy) (2.0.5)\n",
            "Requirement already satisfied: srsly<1.1.0,>=1.0.2 in /usr/local/lib/python3.7/dist-packages (from spacy) (1.0.5)\n",
            "Requirement already satisfied: thinc==7.4.0 in /usr/local/lib/python3.7/dist-packages (from spacy) (7.4.0)\n",
            "Requirement already satisfied: preshed<3.1.0,>=3.0.2 in /usr/local/lib/python3.7/dist-packages (from spacy) (3.0.5)\n",
            "Requirement already satisfied: certifi>=2017.4.17 in /usr/local/lib/python3.7/dist-packages (from requests<3.0.0,>=2.13.0->spacy) (2020.12.5)\n",
            "Requirement already satisfied: idna<3,>=2.5 in /usr/local/lib/python3.7/dist-packages (from requests<3.0.0,>=2.13.0->spacy) (2.10)\n",
            "Requirement already satisfied: chardet<4,>=3.0.2 in /usr/local/lib/python3.7/dist-packages (from requests<3.0.0,>=2.13.0->spacy) (3.0.4)\n",
            "Requirement already satisfied: urllib3!=1.25.0,!=1.25.1,<1.26,>=1.21.1 in /usr/local/lib/python3.7/dist-packages (from requests<3.0.0,>=2.13.0->spacy) (1.24.3)\n",
            "Requirement already satisfied: importlib-metadata>=0.20; python_version < \"3.8\" in /usr/local/lib/python3.7/dist-packages (from catalogue<1.1.0,>=0.0.7->spacy) (4.0.1)\n",
            "Requirement already satisfied: zipp>=0.5 in /usr/local/lib/python3.7/dist-packages (from importlib-metadata>=0.20; python_version < \"3.8\"->catalogue<1.1.0,>=0.0.7->spacy) (3.4.1)\n",
            "Requirement already satisfied: typing-extensions>=3.6.4; python_version < \"3.8\" in /usr/local/lib/python3.7/dist-packages (from importlib-metadata>=0.20; python_version < \"3.8\"->catalogue<1.1.0,>=0.0.7->spacy) (3.7.4.3)\n",
            "Requirement already satisfied: en_core_web_sm==2.2.5 from https://github.com/explosion/spacy-models/releases/download/en_core_web_sm-2.2.5/en_core_web_sm-2.2.5.tar.gz#egg=en_core_web_sm==2.2.5 in /usr/local/lib/python3.7/dist-packages (2.2.5)\n",
            "Requirement already satisfied: spacy>=2.2.2 in /usr/local/lib/python3.7/dist-packages (from en_core_web_sm==2.2.5) (2.2.4)\n",
            "Requirement already satisfied: wasabi<1.1.0,>=0.4.0 in /usr/local/lib/python3.7/dist-packages (from spacy>=2.2.2->en_core_web_sm==2.2.5) (0.8.2)\n",
            "Requirement already satisfied: setuptools in /usr/local/lib/python3.7/dist-packages (from spacy>=2.2.2->en_core_web_sm==2.2.5) (56.1.0)\n",
            "Requirement already satisfied: plac<1.2.0,>=0.9.6 in /usr/local/lib/python3.7/dist-packages (from spacy>=2.2.2->en_core_web_sm==2.2.5) (1.1.3)\n",
            "Requirement already satisfied: thinc==7.4.0 in /usr/local/lib/python3.7/dist-packages (from spacy>=2.2.2->en_core_web_sm==2.2.5) (7.4.0)\n",
            "Requirement already satisfied: cymem<2.1.0,>=2.0.2 in /usr/local/lib/python3.7/dist-packages (from spacy>=2.2.2->en_core_web_sm==2.2.5) (2.0.5)\n",
            "Requirement already satisfied: requests<3.0.0,>=2.13.0 in /usr/local/lib/python3.7/dist-packages (from spacy>=2.2.2->en_core_web_sm==2.2.5) (2.23.0)\n",
            "Requirement already satisfied: preshed<3.1.0,>=3.0.2 in /usr/local/lib/python3.7/dist-packages (from spacy>=2.2.2->en_core_web_sm==2.2.5) (3.0.5)\n",
            "Requirement already satisfied: murmurhash<1.1.0,>=0.28.0 in /usr/local/lib/python3.7/dist-packages (from spacy>=2.2.2->en_core_web_sm==2.2.5) (1.0.5)\n",
            "Requirement already satisfied: numpy>=1.15.0 in /usr/local/lib/python3.7/dist-packages (from spacy>=2.2.2->en_core_web_sm==2.2.5) (1.20.3)\n",
            "Requirement already satisfied: tqdm<5.0.0,>=4.38.0 in /usr/local/lib/python3.7/dist-packages (from spacy>=2.2.2->en_core_web_sm==2.2.5) (4.41.1)\n",
            "Requirement already satisfied: blis<0.5.0,>=0.4.0 in /usr/local/lib/python3.7/dist-packages (from spacy>=2.2.2->en_core_web_sm==2.2.5) (0.4.1)\n",
            "Requirement already satisfied: srsly<1.1.0,>=1.0.2 in /usr/local/lib/python3.7/dist-packages (from spacy>=2.2.2->en_core_web_sm==2.2.5) (1.0.5)\n",
            "Requirement already satisfied: catalogue<1.1.0,>=0.0.7 in /usr/local/lib/python3.7/dist-packages (from spacy>=2.2.2->en_core_web_sm==2.2.5) (1.0.0)\n",
            "Requirement already satisfied: idna<3,>=2.5 in /usr/local/lib/python3.7/dist-packages (from requests<3.0.0,>=2.13.0->spacy>=2.2.2->en_core_web_sm==2.2.5) (2.10)\n",
            "Requirement already satisfied: urllib3!=1.25.0,!=1.25.1,<1.26,>=1.21.1 in /usr/local/lib/python3.7/dist-packages (from requests<3.0.0,>=2.13.0->spacy>=2.2.2->en_core_web_sm==2.2.5) (1.24.3)\n",
            "Requirement already satisfied: certifi>=2017.4.17 in /usr/local/lib/python3.7/dist-packages (from requests<3.0.0,>=2.13.0->spacy>=2.2.2->en_core_web_sm==2.2.5) (2020.12.5)\n",
            "Requirement already satisfied: chardet<4,>=3.0.2 in /usr/local/lib/python3.7/dist-packages (from requests<3.0.0,>=2.13.0->spacy>=2.2.2->en_core_web_sm==2.2.5) (3.0.4)\n",
            "Requirement already satisfied: importlib-metadata>=0.20; python_version < \"3.8\" in /usr/local/lib/python3.7/dist-packages (from catalogue<1.1.0,>=0.0.7->spacy>=2.2.2->en_core_web_sm==2.2.5) (4.0.1)\n",
            "Requirement already satisfied: zipp>=0.5 in /usr/local/lib/python3.7/dist-packages (from importlib-metadata>=0.20; python_version < \"3.8\"->catalogue<1.1.0,>=0.0.7->spacy>=2.2.2->en_core_web_sm==2.2.5) (3.4.1)\n",
            "Requirement already satisfied: typing-extensions>=3.6.4; python_version < \"3.8\" in /usr/local/lib/python3.7/dist-packages (from importlib-metadata>=0.20; python_version < \"3.8\"->catalogue<1.1.0,>=0.0.7->spacy>=2.2.2->en_core_web_sm==2.2.5) (3.7.4.3)\n",
            "\u001b[38;5;2m✔ Download and installation successful\u001b[0m\n",
            "You can now load the model via spacy.load('en_core_web_sm')\n"
          ],
          "name": "stdout"
        }
      ]
    },
    {
      "cell_type": "markdown",
      "metadata": {
        "id": "1fhCCMu7Ibi9"
      },
      "source": [
        "## 01.02. Load Preprocessing Files"
      ]
    },
    {
      "cell_type": "code",
      "metadata": {
        "id": "GzQ-Rvvz5PCy",
        "colab": {
          "base_uri": "https://localhost:8080/"
        },
        "outputId": "3e970f2b-84a9-4485-9b02-88b80a8d3b33"
      },
      "source": [
        "import sys\n",
        "\n",
        "# option 1: load from drive\n",
        "from google.colab import drive\n",
        "drive.mount('/content/drive')\n",
        "sys.path.insert(0, '/content/drive/MyDrive/Colab Data/MBML/code')\n",
        "\n",
        "# option 2: load from content if uploaded to this session (colab)\n",
        "# sys.path.insert(0, '/content')\n",
        "\n",
        "# option 3: load from local file system\n",
        "# sys.path.insert(0, '/path/to/code')\n",
        "\n",
        "from Dataset import Dataset\n",
        "from DataPrepTools import *"
      ],
      "execution_count": null,
      "outputs": [
        {
          "output_type": "stream",
          "text": [
            "Mounted at /content/drive\n",
            "[nltk_data] Downloading package punkt to /root/nltk_data...\n",
            "[nltk_data]   Unzipping tokenizers/punkt.zip.\n",
            "[nltk_data] Downloading package stopwords to /root/nltk_data...\n",
            "[nltk_data]   Unzipping corpora/stopwords.zip.\n"
          ],
          "name": "stdout"
        }
      ]
    },
    {
      "cell_type": "markdown",
      "metadata": {
        "id": "Hr1aN14fJ0q-"
      },
      "source": [
        "## 01.03. Import Packages"
      ]
    },
    {
      "cell_type": "code",
      "metadata": {
        "id": "GSg8-1U5dCVL"
      },
      "source": [
        "import numpy as np\n",
        "import pandas as pd\n",
        "import matplotlib.pyplot as plt\n",
        "from sklearn import linear_model\n",
        "import seaborn as sns\n",
        "\n",
        "import torch\n",
        "from torch import nn\n",
        "from torch.distributions import constraints\n",
        "import functools\n",
        "\n",
        "import pyro\n",
        "import pyro.distributions as dist\n",
        "from pyro.optim import Adam, ClippedAdam\n",
        "from pyro.infer import MCMC, NUTS, HMC, SVI, Trace_ELBO, JitTraceEnum_ELBO, TraceEnum_ELBO\n",
        "from pyro.contrib.autoguide import AutoDiagonalNormal, AutoMultivariateNormal, AutoGuideList, AutoDelta\n",
        "\n",
        "import gensim\n",
        "import pyLDAvis\n",
        "import pyLDAvis.gensim_models as pyldagensim\n",
        "\n",
        "# fix random generator seed (for reproducibility of results)\n",
        "np.random.seed(42)\n",
        "\n",
        "# matplotlib style options\n",
        "plt.style.use('ggplot')\n",
        "%matplotlib inline\n",
        "plt.rcParams['figure.figsize'] = (12, 8)\n",
        "\n",
        "import warnings\n",
        "warnings.filterwarnings(\"ignore\", category=DeprecationWarning)\n",
        "\n",
        "# to collect the accuracies of all  the models\n",
        "accuracies = []"
      ],
      "execution_count": null,
      "outputs": []
    },
    {
      "cell_type": "markdown",
      "metadata": {
        "id": "Goeq_zoOLCqk"
      },
      "source": [
        "# 02. Prepare Initial Datatset"
      ]
    },
    {
      "cell_type": "markdown",
      "metadata": {
        "id": "rnVhPXcFOtIk"
      },
      "source": [
        "## 02.01. Load Preprocessed Data"
      ]
    },
    {
      "cell_type": "markdown",
      "metadata": {
        "id": "pGRnH4WRuB6d"
      },
      "source": [
        "Preprocessing the Enron dataset to model individuals, their emails and preprocess the body of each email is a time consuming process. So this process has already been done and the results are saved as object files which need to be loaded here."
      ]
    },
    {
      "cell_type": "code",
      "metadata": {
        "colab": {
          "base_uri": "https://localhost:8080/"
        },
        "id": "m7n_24rg5a92",
        "outputId": "cced14c9-505a-459a-8ccb-39c60b1baa6b"
      },
      "source": [
        "# option 1: load from drive\n",
        "processed_dataset_path = '/content/drive/MyDrive/Colab Data/MBML/processed-mail'\n",
        "\n",
        "# option 2: load from content if uploaded to this session (colab)\n",
        "# processed_dataset_path = '/content/processed-mail'\n",
        "\n",
        "# option 3: load from local file system\n",
        "# processed_dataset_path = '/path/to/processed-mail'\n",
        "\n",
        "# the dataset is comprised of emails belonging to many individuals\n",
        "# here we can choose which individuals to load their emails\n",
        "individuals = ['allen-p', 'arnold-j', 'arora-h', 'watson-k',\n",
        "               'badeer-r', 'bailey-s', 'bass-e', 'dean-c',\n",
        "               'baughman-d', 'beck-s', 'benson-r', 'davis-d',\n",
        "               'meyers-a', 'carson-m', 'jones-t', 'hernandez-j',\n",
        "               'shapiro-r', 'shively-h', 'slinger-r', 'solberg-g',\n",
        "               'thomas-p', 'ward-k', 'zipper-a', 'parks-j',\n",
        "               'sanders-r', 'staab-t', 'tholt-j', 'whitt-m',\n",
        "               'scott-s', 'white-s', 'wolfe-j', 'smith-m']\n",
        "\n",
        "ds = Dataset.load_processed_dataset(processed_dataset_path, individuals)\n",
        "ds.load_dictionary(processed_dataset_path)\n",
        "\n",
        "print('Dictionary Size:', ds.get_dict_size())\n",
        "print('Total mails count: ', ds.get_mails_count())\n",
        "print('Individuals count: ', ds.get_individuals_count())\n",
        "print('------------------------------------------------')\n",
        "for i in ds.get_all():\n",
        "    print('{0}, inbox: {1}, deleted: {2} '.format(i.name, i.get_inbox_mail_count(), i.get_deleted_mail_count()))"
      ],
      "execution_count": null,
      "outputs": [
        {
          "output_type": "stream",
          "text": [
            "loading dictionary...\n",
            "done loading dictionary!\n",
            "Dictionary Size: 42859\n",
            "Total mails count:  9983\n",
            "Individuals count:  32\n",
            "------------------------------------------------\n",
            "Susan M Scott, inbox: 200, deleted: 200 \n",
            "Ward, Kim S., inbox: 200, deleted: 200 \n",
            "Jones, Tana, inbox: 200, deleted: 66 \n",
            "Bailey, Susan, inbox: 4, deleted: 200 \n",
            "Thomas, Paul D., inbox: 200, deleted: 200 \n",
            "Wolfe, Jason, inbox: 200, deleted: 108 \n",
            "Arora, Harry, inbox: 79, deleted: 197 \n",
            "Benson, Robert, inbox: 200, deleted: 200 \n",
            "Smith, Matt, inbox: 200, deleted: 85 \n",
            "Allen, Phillip K., inbox: 66, deleted: 200 \n",
            "Slinger, Ryan, inbox: 49, deleted: 35 \n",
            "Hernandez, Juan, inbox: 200, deleted: 40 \n",
            "Shively, Hunter S., inbox: 143, deleted: 200 \n",
            "Sally Beck, inbox: 200, deleted: 200 \n",
            "Watson, Kimberly, inbox: 200, deleted: 200 \n",
            "Solberg, Geir, inbox: 167, deleted: 200 \n",
            "Parks, Joe, inbox: 200, deleted: 200 \n",
            "Meyers, Albert, inbox: 22, deleted: 200 \n",
            "Bass, Eric, inbox: 200, deleted: 200 \n",
            "White, Stacey W., inbox: 200, deleted: 200 \n",
            "Baughman Jr., Don, inbox: 200, deleted: 200 \n",
            "Staab, Theresa, inbox: 90, deleted: 200 \n",
            "Badeer, Robert, inbox: 3, deleted: 13 \n",
            "Shapiro, Richard, inbox: 27, deleted: 200 \n",
            "Whitt, Mark, inbox: 200, deleted: 37 \n",
            "Carson, Mike, inbox: 141, deleted: 200 \n",
            "Tholt, Jane M., inbox: 85, deleted: 200 \n",
            "Zipper, Andy, inbox: 200, deleted: 200 \n",
            "Dean, Craig, inbox: 200, deleted: 200 \n",
            "Sanders, Richard B., inbox: 80, deleted: 200 \n",
            "John Arnold, inbox: 142, deleted: 200 \n",
            "Davis, Dana, inbox: 104, deleted: 200 \n"
          ],
          "name": "stdout"
        }
      ]
    },
    {
      "cell_type": "markdown",
      "metadata": {
        "id": "kynUvqgLO1QT"
      },
      "source": [
        "## 02.02. Prepare Initial DataFrame"
      ]
    },
    {
      "cell_type": "markdown",
      "metadata": {
        "id": "zEljM-2jvT2A"
      },
      "source": [
        "We put the dataset into an initial dataframe and we add the _ToCcPos_ features (using functions imported from the auxiliary scripts)."
      ]
    },
    {
      "cell_type": "code",
      "metadata": {
        "id": "T0w1iTrV5fvl"
      },
      "source": [
        "# build pandas dataset\n",
        "data = []\n",
        "\n",
        "for i in ds.get_all():\n",
        "\n",
        "  for m in i.get_deleted_mail():\n",
        "    ToCcPos = ToCcPosition(i, m)\n",
        "    row = []\n",
        "    row.append(i.sname)\n",
        "    row.append(i.name)\n",
        "    row.append(i.email1)\n",
        "    row.append(i.email2)\n",
        "    row.append(m.subject)\n",
        "    row.append(m.get_body_processed())\n",
        "    row.append(m.get_body_bow())\n",
        "    row.append(len(m.subject))\n",
        "    row.append(len(m.get_body_str()))\n",
        "    row.append(int(ToCcPos[0]))\n",
        "    row.append(int(ToCcPos[1]))\n",
        "    row.append(int(ToCcPos[2]))\n",
        "    row.append(int(ToCcPos[3]))\n",
        "    row.append(int(ToCcPos[4]))\n",
        "    row.append(int(ToCcPos[5]))\n",
        "    row.append(1) # deleted\n",
        "    data.append(row)\n",
        "    \n",
        "  for m in i.get_inbox_mail():\n",
        "    ToCcPos = ToCcPosition(i, m)\n",
        "    row = []\n",
        "    row.append(i.sname)\n",
        "    row.append(i.name)\n",
        "    row.append(i.email1)\n",
        "    row.append(i.email2)\n",
        "    row.append(m.subject)\n",
        "    row.append(m.get_body_processed())\n",
        "    row.append(m.get_body_bow())\n",
        "    row.append(len(m.subject))\n",
        "    row.append(len(m.get_body_str()))\n",
        "    row.append(int(ToCcPos[0]))\n",
        "    row.append(int(ToCcPos[1]))\n",
        "    row.append(int(ToCcPos[2]))\n",
        "    row.append(int(ToCcPos[3]))\n",
        "    row.append(int(ToCcPos[4]))\n",
        "    row.append(int(ToCcPos[5]))\n",
        "    row.append(0) # inbox\n",
        "    data.append(row)\n",
        "\n",
        "# create pandas DataFrame\n",
        "df = pd.DataFrame(data, columns = ['sname', 'name', 'email1', 'email2', \n",
        "                                   'subject', 'processedBody', 'bowBody','subjectLength', 'bodyLength',\n",
        "                                   'notOnToOrCcLine', 'firstOnToLine', 'secondOnToLine', 'thirdOrLaterOnToLine',\n",
        "                                   'firstOnCcLine', 'secondOrLaterOnCcLine', 'deleted'\n",
        "                                   ])"
      ],
      "execution_count": null,
      "outputs": []
    },
    {
      "cell_type": "code",
      "metadata": {
        "colab": {
          "base_uri": "https://localhost:8080/",
          "height": 649
        },
        "id": "DkN7w11BdHJ9",
        "outputId": "39e5e8e4-2290-4e53-8cfc-2184566bd46c"
      },
      "source": [
        "df.head()"
      ],
      "execution_count": null,
      "outputs": [
        {
          "output_type": "execute_result",
          "data": {
            "text/html": [
              "<div>\n",
              "<style scoped>\n",
              "    .dataframe tbody tr th:only-of-type {\n",
              "        vertical-align: middle;\n",
              "    }\n",
              "\n",
              "    .dataframe tbody tr th {\n",
              "        vertical-align: top;\n",
              "    }\n",
              "\n",
              "    .dataframe thead th {\n",
              "        text-align: right;\n",
              "    }\n",
              "</style>\n",
              "<table border=\"1\" class=\"dataframe\">\n",
              "  <thead>\n",
              "    <tr style=\"text-align: right;\">\n",
              "      <th></th>\n",
              "      <th>sname</th>\n",
              "      <th>name</th>\n",
              "      <th>email1</th>\n",
              "      <th>email2</th>\n",
              "      <th>subject</th>\n",
              "      <th>processedBody</th>\n",
              "      <th>bowBody</th>\n",
              "      <th>subjectLength</th>\n",
              "      <th>bodyLength</th>\n",
              "      <th>notOnToOrCcLine</th>\n",
              "      <th>firstOnToLine</th>\n",
              "      <th>secondOnToLine</th>\n",
              "      <th>thirdOrLaterOnToLine</th>\n",
              "      <th>firstOnCcLine</th>\n",
              "      <th>secondOrLaterOnCcLine</th>\n",
              "      <th>deleted</th>\n",
              "    </tr>\n",
              "  </thead>\n",
              "  <tbody>\n",
              "    <tr>\n",
              "      <th>0</th>\n",
              "      <td>scott-s</td>\n",
              "      <td>Susan M Scott</td>\n",
              "      <td>susan.scott@enron.com</td>\n",
              "      <td>susan.scott@enron.com</td>\n",
              "      <td>A.Word.A.Day--inkhorn term</td>\n",
              "      <td>[word, speech, appearance, book, useful, turm,...</td>\n",
              "      <td>[(0, 1), (15, 1), (43, 1), (50, 1), (56, 1), (...</td>\n",
              "      <td>26</td>\n",
              "      <td>1234</td>\n",
              "      <td>1</td>\n",
              "      <td>0</td>\n",
              "      <td>0</td>\n",
              "      <td>0</td>\n",
              "      <td>0</td>\n",
              "      <td>0</td>\n",
              "      <td>1</td>\n",
              "    </tr>\n",
              "    <tr>\n",
              "      <th>1</th>\n",
              "      <td>scott-s</td>\n",
              "      <td>Susan M Scott</td>\n",
              "      <td>susan.scott@enron.com</td>\n",
              "      <td>susan.scott@enron.com</td>\n",
              "      <td>A.Word.A.Day--euphemism</td>\n",
              "      <td>[budget, employer, send, thing, service, help,...</td>\n",
              "      <td>[(10, 1), (25, 1), (43, 1), (48, 1), (49, 1), ...</td>\n",
              "      <td>23</td>\n",
              "      <td>1840</td>\n",
              "      <td>1</td>\n",
              "      <td>0</td>\n",
              "      <td>0</td>\n",
              "      <td>0</td>\n",
              "      <td>0</td>\n",
              "      <td>0</td>\n",
              "      <td>1</td>\n",
              "    </tr>\n",
              "    <tr>\n",
              "      <th>2</th>\n",
              "      <td>scott-s</td>\n",
              "      <td>Susan M Scott</td>\n",
              "      <td>susan.scott@enron.com</td>\n",
              "      <td>susan.scott@enron.com</td>\n",
              "      <td>A.Word.A.Day--sticky wicket</td>\n",
              "      <td>[checkout, want, need, ground, coalition, play...</td>\n",
              "      <td>[(0, 1), (7, 1), (10, 1), (15, 1), (43, 1), (4...</td>\n",
              "      <td>27</td>\n",
              "      <td>2307</td>\n",
              "      <td>1</td>\n",
              "      <td>0</td>\n",
              "      <td>0</td>\n",
              "      <td>0</td>\n",
              "      <td>0</td>\n",
              "      <td>0</td>\n",
              "      <td>1</td>\n",
              "    </tr>\n",
              "    <tr>\n",
              "      <th>3</th>\n",
              "      <td>scott-s</td>\n",
              "      <td>Susan M Scott</td>\n",
              "      <td>susan.scott@enron.com</td>\n",
              "      <td>susan.scott@enron.com</td>\n",
              "      <td>A.Word.A.Day--dipsy doodle</td>\n",
              "      <td>[word, rather, kind, never, awad, know, useful...</td>\n",
              "      <td>[(10, 1), (43, 1), (48, 1), (50, 1), (56, 1), ...</td>\n",
              "      <td>26</td>\n",
              "      <td>1399</td>\n",
              "      <td>1</td>\n",
              "      <td>0</td>\n",
              "      <td>0</td>\n",
              "      <td>0</td>\n",
              "      <td>0</td>\n",
              "      <td>0</td>\n",
              "      <td>1</td>\n",
              "    </tr>\n",
              "    <tr>\n",
              "      <th>4</th>\n",
              "      <td>scott-s</td>\n",
              "      <td>Susan M Scott</td>\n",
              "      <td>susan.scott@enron.com</td>\n",
              "      <td>susan.scott@enron.com</td>\n",
              "      <td>A.Word.A.Day--hat trick</td>\n",
              "      <td>[today, treat, friend, goal, give, player, emp...</td>\n",
              "      <td>[(43, 1), (48, 1), (50, 1), (56, 1), (67, 1), ...</td>\n",
              "      <td>23</td>\n",
              "      <td>1799</td>\n",
              "      <td>1</td>\n",
              "      <td>0</td>\n",
              "      <td>0</td>\n",
              "      <td>0</td>\n",
              "      <td>0</td>\n",
              "      <td>0</td>\n",
              "      <td>1</td>\n",
              "    </tr>\n",
              "  </tbody>\n",
              "</table>\n",
              "</div>"
            ],
            "text/plain": [
              "     sname           name  ... secondOrLaterOnCcLine deleted\n",
              "0  scott-s  Susan M Scott  ...                     0       1\n",
              "1  scott-s  Susan M Scott  ...                     0       1\n",
              "2  scott-s  Susan M Scott  ...                     0       1\n",
              "3  scott-s  Susan M Scott  ...                     0       1\n",
              "4  scott-s  Susan M Scott  ...                     0       1\n",
              "\n",
              "[5 rows x 16 columns]"
            ]
          },
          "metadata": {
            "tags": []
          },
          "execution_count": 7
        }
      ]
    },
    {
      "cell_type": "markdown",
      "metadata": {
        "id": "mwVTlz04PH41"
      },
      "source": [
        "## 02.03. Adding Features"
      ]
    },
    {
      "cell_type": "markdown",
      "metadata": {
        "id": "93QVAQ1iv2gI"
      },
      "source": [
        "We divide the body length and the subject length into bins and we add the resulting features to the dataframe."
      ]
    },
    {
      "cell_type": "code",
      "metadata": {
        "id": "NtPcXFE7db_O"
      },
      "source": [
        "# we divide body lengths for emails into bins\n",
        "\n",
        "# group 1\n",
        "one = df.loc[(df['bodyLength'] >= 0) & (df['bodyLength'] <= 100)]\n",
        "d_one = one.loc[df['deleted'] == 1]\n",
        "df['bodyLength[0-100]'] = (df['bodyLength'] >= 0) & (df['bodyLength'] <= 100)\n",
        "df['bodyLength[0-100]'] = df['bodyLength[0-100]'].astype(int)\n",
        "\n",
        "# group 2\n",
        "two = df.loc[(df['bodyLength'] >= 101) & (df['bodyLength'] <= 200)]\n",
        "d_two = two.loc[df['deleted'] == 1]\n",
        "df['bodyLength[101-200]'] = (df['bodyLength'] >= 101) & (df['bodyLength'] <= 200)\n",
        "df['bodyLength[101-200]'] = df['bodyLength[101-200]'].astype(int)\n",
        "\n",
        "# group 3\n",
        "three = df.loc[(df['bodyLength'] >= 201) & (df['bodyLength'] <= 400)]\n",
        "d_three = three.loc[df['deleted'] == 1]\n",
        "df['bodyLength[201-400]'] = (df['bodyLength'] >= 201) & (df['bodyLength'] <= 400)\n",
        "df['bodyLength[201-400]'] = df['bodyLength[201-400]'].astype(int)\n",
        "\n",
        "# group 4\n",
        "four = df.loc[(df['bodyLength'] >= 401) & (df['bodyLength'] <= 1000)]\n",
        "d_four = four.loc[df['deleted'] == 1]\n",
        "df['bodyLength[401-1000]'] = (df['bodyLength'] >= 401) & (df['bodyLength'] <= 1000)\n",
        "df['bodyLength[401-1000]'] = df['bodyLength[401-1000]'].astype(int)\n",
        "\n",
        "# group 5\n",
        "five = df.loc[(df['bodyLength'] >= 1001) & (df['bodyLength'] <= 2000)]\n",
        "d_five = five.loc[df['deleted'] == 1]\n",
        "df['bodyLength[1001-2000]'] = (df['bodyLength'] >= 1001) & (df['bodyLength'] <= 2000)\n",
        "df['bodyLength[1001-2000]'] = df['bodyLength[1001-2000]'].astype(int)\n",
        "\n",
        "# group 6\n",
        "six = df.loc[(df['bodyLength'] >= 2001) & (df['bodyLength'] <= 5000)]\n",
        "d_six = six.loc[df['deleted'] == 1]\n",
        "df['bodyLength[2001-5000]'] = (df['bodyLength'] >= 2001) & (df['bodyLength'] <= 5000)\n",
        "df['bodyLength[2001-5000]'] = df['bodyLength[2001-5000]'].astype(int)\n",
        "\n",
        "# group 7\n",
        "seven = df.loc[(df['bodyLength'] >= 5001)]\n",
        "d_seven = seven.loc[df['deleted'] == 1]\n",
        "df['bodyLength[>5000]'] = (df['bodyLength'] >= 5001)\n",
        "df['bodyLength[>5000]'] = df['bodyLength[>5000]'].astype(int)"
      ],
      "execution_count": null,
      "outputs": []
    },
    {
      "cell_type": "code",
      "metadata": {
        "id": "EFBwDlQDvnJS"
      },
      "source": [
        "assert sum([len(one), len(two), len(three), len(four), len(five), len(six), len(seven)]) == len(df)"
      ],
      "execution_count": null,
      "outputs": []
    },
    {
      "cell_type": "code",
      "metadata": {
        "colab": {
          "base_uri": "https://localhost:8080/",
          "height": 624
        },
        "id": "VOrOEqiUo992",
        "outputId": "8fc2ee15-a093-4b9b-c7fc-a137960d8f3a"
      },
      "source": [
        "# plotting the fraction of deleted emails for various body lengths\n",
        "fig = plt.figure()\n",
        "ax = fig.add_axes([0,0,1,1])\n",
        "lengths = ['[0-100]', '[101-200]', '[201-400]', '[401-1000]', '[1001-2000]', '[2001-5000]', '[>5000]']\n",
        "deleted_fractions = [len(d_one)/len(one), len(d_two)/len(two), len(d_three)/len(three), \n",
        "            len(d_four)/len(four), len(d_five)/len(five), len(d_six)/len(six), \n",
        "            len(d_seven)/len(seven)]\n",
        "ax.bar(lengths, deleted_fractions)\n",
        "plt.show()"
      ],
      "execution_count": null,
      "outputs": [
        {
          "output_type": "display_data",
          "data": {
            "image/png": "[encoded data removed]",
            "text/plain": [
              "<Figure size 864x576 with 1 Axes>"
            ]
          },
          "metadata": {
            "tags": [],
            "needs_background": "light"
          }
        }
      ]
    },
    {
      "cell_type": "code",
      "metadata": {
        "id": "-2PtgnPPvpHU"
      },
      "source": [
        "# we divide subject lengths for emails into bins\n",
        "\n",
        "# group 1\n",
        "one = df.loc[(df['subjectLength'] >= 0) & (df['subjectLength'] <= 7)]\n",
        "d_one = one.loc[df['deleted'] == 1]\n",
        "df['subjectLength[0-7]'] = (df['subjectLength'] >= 0) & (df['subjectLength'] <= 7)\n",
        "df['subjectLength[0-7]'] = df['subjectLength[0-7]'].astype(int)\n",
        "\n",
        "# group 2\n",
        "two = df.loc[(df['subjectLength'] >= 8) & (df['subjectLength'] <= 13)]\n",
        "d_two = two.loc[df['deleted'] == 1]\n",
        "df['subjectLength[8-13]'] = (df['subjectLength'] >= 8) & (df['subjectLength'] <= 13)\n",
        "df['subjectLength[8-13]'] = df['subjectLength[8-13]'].astype(int)\n",
        "\n",
        "# group 3\n",
        "three = df.loc[(df['subjectLength'] >= 14) & (df['subjectLength'] <= 20)]\n",
        "d_three = three.loc[df['deleted'] == 1]\n",
        "df['subjectLength[14-20]'] = (df['subjectLength'] >= 14) & (df['subjectLength'] <= 20)\n",
        "df['subjectLength[14-20]'] = df['subjectLength[14-20]'].astype(int)\n",
        "\n",
        "# group 4\n",
        "four = df.loc[(df['subjectLength'] >= 21) & (df['subjectLength'] <= 30)]\n",
        "d_four = four.loc[df['deleted'] == 1]\n",
        "df['subjectLength[21-30]'] = (df['subjectLength'] >= 21) & (df['subjectLength'] <= 30)\n",
        "df['subjectLength[21-30]'] = df['subjectLength[21-30]'].astype(int)\n",
        "\n",
        "# group 5\n",
        "five = df.loc[(df['subjectLength'] >= 31) & (df['subjectLength'] <= 45)]\n",
        "d_five = five.loc[df['deleted'] == 1]\n",
        "df['subjectLength[31-45]'] = (df['subjectLength'] >= 31) & (df['subjectLength'] <= 45)\n",
        "df['subjectLength[31-45]'] = df['subjectLength[31-45]'].astype(int)\n",
        "\n",
        "# group 6\n",
        "six = df.loc[(df['subjectLength'] >= 46)]\n",
        "d_six = six.loc[df['deleted'] == 1]\n",
        "df['subjectLength[>45]'] = (df['subjectLength'] >= 46)\n",
        "df['subjectLength[>45]'] = df['subjectLength[>45]'].astype(int)"
      ],
      "execution_count": null,
      "outputs": []
    },
    {
      "cell_type": "code",
      "metadata": {
        "id": "Z4ldBDMZxwbb"
      },
      "source": [
        "assert sum([len(one), len(two), len(three), len(four), len(five), len(six)]) == len(df)"
      ],
      "execution_count": null,
      "outputs": []
    },
    {
      "cell_type": "code",
      "metadata": {
        "colab": {
          "base_uri": "https://localhost:8080/",
          "height": 624
        },
        "id": "qCn5mEzvxx-_",
        "outputId": "a03cf0f0-7b7f-4068-a182-9b974a989d3d"
      },
      "source": [
        "# plotting the fraction of deleted emails for various subject lengths.\n",
        "fig = plt.figure()\n",
        "ax = fig.add_axes([0,0,1,1])\n",
        "lengths = ['[0-7]', '[8-13]', '[14-20]', '[21-30]', '[31-45]', '[>45]']\n",
        "deleted_fractions = [len(d_one)/len(one), len(d_two)/len(two), \n",
        "                     len(d_three)/len(three), len(d_four)/len(four), \n",
        "                     len(d_five)/len(five), len(d_six)/len(six)]\n",
        "ax.bar(lengths, deleted_fractions)\n",
        "plt.show()"
      ],
      "execution_count": null,
      "outputs": [
        {
          "output_type": "display_data",
          "data": {
            "image/png": "[encoded data removed]",
            "text/plain": [
              "<Figure size 864x576 with 1 Axes>"
            ]
          },
          "metadata": {
            "tags": [],
            "needs_background": "light"
          }
        }
      ]
    },
    {
      "cell_type": "markdown",
      "metadata": {
        "id": "-rfYuwT8YMBi"
      },
      "source": [
        "## 02.04. Exploring the dataset"
      ]
    },
    {
      "cell_type": "code",
      "metadata": {
        "id": "Puv5Xdpf5mno"
      },
      "source": [
        "# moving lable to the end\n",
        "df = df[[c for c in df if c not in ['deleted']] + ['deleted']]"
      ],
      "execution_count": null,
      "outputs": []
    },
    {
      "cell_type": "code",
      "metadata": {
        "colab": {
          "base_uri": "https://localhost:8080/",
          "height": 666
        },
        "id": "5bXbCovz6JNN",
        "outputId": "f0b4badf-9e00-4de2-95f2-4a9dfc6a7dc1"
      },
      "source": [
        "df.head()"
      ],
      "execution_count": null,
      "outputs": [
        {
          "output_type": "execute_result",
          "data": {
            "text/html": [
              "<div>\n",
              "<style scoped>\n",
              "    .dataframe tbody tr th:only-of-type {\n",
              "        vertical-align: middle;\n",
              "    }\n",
              "\n",
              "    .dataframe tbody tr th {\n",
              "        vertical-align: top;\n",
              "    }\n",
              "\n",
              "    .dataframe thead th {\n",
              "        text-align: right;\n",
              "    }\n",
              "</style>\n",
              "<table border=\"1\" class=\"dataframe\">\n",
              "  <thead>\n",
              "    <tr style=\"text-align: right;\">\n",
              "      <th></th>\n",
              "      <th>sname</th>\n",
              "      <th>name</th>\n",
              "      <th>email1</th>\n",
              "      <th>email2</th>\n",
              "      <th>subject</th>\n",
              "      <th>processedBody</th>\n",
              "      <th>bowBody</th>\n",
              "      <th>subjectLength</th>\n",
              "      <th>bodyLength</th>\n",
              "      <th>notOnToOrCcLine</th>\n",
              "      <th>firstOnToLine</th>\n",
              "      <th>secondOnToLine</th>\n",
              "      <th>thirdOrLaterOnToLine</th>\n",
              "      <th>firstOnCcLine</th>\n",
              "      <th>secondOrLaterOnCcLine</th>\n",
              "      <th>bodyLength[0-100]</th>\n",
              "      <th>bodyLength[101-200]</th>\n",
              "      <th>bodyLength[201-400]</th>\n",
              "      <th>bodyLength[401-1000]</th>\n",
              "      <th>bodyLength[1001-2000]</th>\n",
              "      <th>bodyLength[2001-5000]</th>\n",
              "      <th>bodyLength[&gt;5000]</th>\n",
              "      <th>subjectLength[0-7]</th>\n",
              "      <th>subjectLength[8-13]</th>\n",
              "      <th>subjectLength[14-20]</th>\n",
              "      <th>subjectLength[21-30]</th>\n",
              "      <th>subjectLength[31-45]</th>\n",
              "      <th>subjectLength[&gt;45]</th>\n",
              "      <th>deleted</th>\n",
              "    </tr>\n",
              "  </thead>\n",
              "  <tbody>\n",
              "    <tr>\n",
              "      <th>0</th>\n",
              "      <td>scott-s</td>\n",
              "      <td>Susan M Scott</td>\n",
              "      <td>susan.scott@enron.com</td>\n",
              "      <td>susan.scott@enron.com</td>\n",
              "      <td>A.Word.A.Day--inkhorn term</td>\n",
              "      <td>[word, speech, appearance, book, useful, turm,...</td>\n",
              "      <td>[(0, 1), (15, 1), (43, 1), (50, 1), (56, 1), (...</td>\n",
              "      <td>26</td>\n",
              "      <td>1234</td>\n",
              "      <td>1</td>\n",
              "      <td>0</td>\n",
              "      <td>0</td>\n",
              "      <td>0</td>\n",
              "      <td>0</td>\n",
              "      <td>0</td>\n",
              "      <td>0</td>\n",
              "      <td>0</td>\n",
              "      <td>0</td>\n",
              "      <td>0</td>\n",
              "      <td>1</td>\n",
              "      <td>0</td>\n",
              "      <td>0</td>\n",
              "      <td>0</td>\n",
              "      <td>0</td>\n",
              "      <td>0</td>\n",
              "      <td>1</td>\n",
              "      <td>0</td>\n",
              "      <td>0</td>\n",
              "      <td>1</td>\n",
              "    </tr>\n",
              "    <tr>\n",
              "      <th>1</th>\n",
              "      <td>scott-s</td>\n",
              "      <td>Susan M Scott</td>\n",
              "      <td>susan.scott@enron.com</td>\n",
              "      <td>susan.scott@enron.com</td>\n",
              "      <td>A.Word.A.Day--euphemism</td>\n",
              "      <td>[budget, employer, send, thing, service, help,...</td>\n",
              "      <td>[(10, 1), (25, 1), (43, 1), (48, 1), (49, 1), ...</td>\n",
              "      <td>23</td>\n",
              "      <td>1840</td>\n",
              "      <td>1</td>\n",
              "      <td>0</td>\n",
              "      <td>0</td>\n",
              "      <td>0</td>\n",
              "      <td>0</td>\n",
              "      <td>0</td>\n",
              "      <td>0</td>\n",
              "      <td>0</td>\n",
              "      <td>0</td>\n",
              "      <td>0</td>\n",
              "      <td>1</td>\n",
              "      <td>0</td>\n",
              "      <td>0</td>\n",
              "      <td>0</td>\n",
              "      <td>0</td>\n",
              "      <td>0</td>\n",
              "      <td>1</td>\n",
              "      <td>0</td>\n",
              "      <td>0</td>\n",
              "      <td>1</td>\n",
              "    </tr>\n",
              "    <tr>\n",
              "      <th>2</th>\n",
              "      <td>scott-s</td>\n",
              "      <td>Susan M Scott</td>\n",
              "      <td>susan.scott@enron.com</td>\n",
              "      <td>susan.scott@enron.com</td>\n",
              "      <td>A.Word.A.Day--sticky wicket</td>\n",
              "      <td>[checkout, want, need, ground, coalition, play...</td>\n",
              "      <td>[(0, 1), (7, 1), (10, 1), (15, 1), (43, 1), (4...</td>\n",
              "      <td>27</td>\n",
              "      <td>2307</td>\n",
              "      <td>1</td>\n",
              "      <td>0</td>\n",
              "      <td>0</td>\n",
              "      <td>0</td>\n",
              "      <td>0</td>\n",
              "      <td>0</td>\n",
              "      <td>0</td>\n",
              "      <td>0</td>\n",
              "      <td>0</td>\n",
              "      <td>0</td>\n",
              "      <td>0</td>\n",
              "      <td>1</td>\n",
              "      <td>0</td>\n",
              "      <td>0</td>\n",
              "      <td>0</td>\n",
              "      <td>0</td>\n",
              "      <td>1</td>\n",
              "      <td>0</td>\n",
              "      <td>0</td>\n",
              "      <td>1</td>\n",
              "    </tr>\n",
              "    <tr>\n",
              "      <th>3</th>\n",
              "      <td>scott-s</td>\n",
              "      <td>Susan M Scott</td>\n",
              "      <td>susan.scott@enron.com</td>\n",
              "      <td>susan.scott@enron.com</td>\n",
              "      <td>A.Word.A.Day--dipsy doodle</td>\n",
              "      <td>[word, rather, kind, never, awad, know, useful...</td>\n",
              "      <td>[(10, 1), (43, 1), (48, 1), (50, 1), (56, 1), ...</td>\n",
              "      <td>26</td>\n",
              "      <td>1399</td>\n",
              "      <td>1</td>\n",
              "      <td>0</td>\n",
              "      <td>0</td>\n",
              "      <td>0</td>\n",
              "      <td>0</td>\n",
              "      <td>0</td>\n",
              "      <td>0</td>\n",
              "      <td>0</td>\n",
              "      <td>0</td>\n",
              "      <td>0</td>\n",
              "      <td>1</td>\n",
              "      <td>0</td>\n",
              "      <td>0</td>\n",
              "      <td>0</td>\n",
              "      <td>0</td>\n",
              "      <td>0</td>\n",
              "      <td>1</td>\n",
              "      <td>0</td>\n",
              "      <td>0</td>\n",
              "      <td>1</td>\n",
              "    </tr>\n",
              "    <tr>\n",
              "      <th>4</th>\n",
              "      <td>scott-s</td>\n",
              "      <td>Susan M Scott</td>\n",
              "      <td>susan.scott@enron.com</td>\n",
              "      <td>susan.scott@enron.com</td>\n",
              "      <td>A.Word.A.Day--hat trick</td>\n",
              "      <td>[today, treat, friend, goal, give, player, emp...</td>\n",
              "      <td>[(43, 1), (48, 1), (50, 1), (56, 1), (67, 1), ...</td>\n",
              "      <td>23</td>\n",
              "      <td>1799</td>\n",
              "      <td>1</td>\n",
              "      <td>0</td>\n",
              "      <td>0</td>\n",
              "      <td>0</td>\n",
              "      <td>0</td>\n",
              "      <td>0</td>\n",
              "      <td>0</td>\n",
              "      <td>0</td>\n",
              "      <td>0</td>\n",
              "      <td>0</td>\n",
              "      <td>1</td>\n",
              "      <td>0</td>\n",
              "      <td>0</td>\n",
              "      <td>0</td>\n",
              "      <td>0</td>\n",
              "      <td>0</td>\n",
              "      <td>1</td>\n",
              "      <td>0</td>\n",
              "      <td>0</td>\n",
              "      <td>1</td>\n",
              "    </tr>\n",
              "  </tbody>\n",
              "</table>\n",
              "</div>"
            ],
            "text/plain": [
              "     sname           name  ... subjectLength[>45] deleted\n",
              "0  scott-s  Susan M Scott  ...                  0       1\n",
              "1  scott-s  Susan M Scott  ...                  0       1\n",
              "2  scott-s  Susan M Scott  ...                  0       1\n",
              "3  scott-s  Susan M Scott  ...                  0       1\n",
              "4  scott-s  Susan M Scott  ...                  0       1\n",
              "\n",
              "[5 rows x 29 columns]"
            ]
          },
          "metadata": {
            "tags": []
          },
          "execution_count": 15
        }
      ]
    },
    {
      "cell_type": "code",
      "metadata": {
        "colab": {
          "base_uri": "https://localhost:8080/",
          "height": 551
        },
        "id": "7K0roARW6Ss0",
        "outputId": "06b6bd28-eabc-4b19-f02b-5a1c5d0332a5"
      },
      "source": [
        "print(\"Dataset size:\", len(df))\n",
        "print(\"Dataset shape:\", df.shape)\n",
        "df['deleted'].hist();\n",
        "plt.title('Inbox vs. Deleted')\n",
        "plt.xlabel('0-Inbox, 1-Deleted')\n",
        "plt.ylabel('Frequency')\n",
        "plt.xticks([0,1]);"
      ],
      "execution_count": null,
      "outputs": [
        {
          "output_type": "stream",
          "text": [
            "Dataset size: 9983\n",
            "Dataset shape: (9983, 29)\n"
          ],
          "name": "stdout"
        },
        {
          "output_type": "display_data",
          "data": {
            "image/png": "[encoded data removed]",
            "text/plain": [
              "<Figure size 864x576 with 1 Axes>"
            ]
          },
          "metadata": {
            "tags": [],
            "needs_background": "light"
          }
        }
      ]
    },
    {
      "cell_type": "markdown",
      "metadata": {
        "id": "_fyRXD0ILwh8"
      },
      "source": [
        "# 03. Topic Modeling"
      ]
    },
    {
      "cell_type": "markdown",
      "metadata": {
        "id": "63EF3q4GcPsD"
      },
      "source": [
        "## 03.01. Preparing dataset for topic modeling"
      ]
    },
    {
      "cell_type": "markdown",
      "metadata": {
        "id": "ANs7bxVOxDvh"
      },
      "source": [
        "The _bag of words (bow)_ for every email, along with the dictionary of the entire dataset were already generated in the preprocessing phase, here we need  to put them together in a form suitable for training the topic modeling models."
      ]
    },
    {
      "cell_type": "code",
      "metadata": {
        "id": "HbhxxFNJL4pa"
      },
      "source": [
        "dictionary = ds.get_dict()\n",
        "mails_bows = []\n",
        "mails_words = []\n",
        "\n",
        "for i in ds.get_all():\n",
        "  # add deleted emails of all individuals\n",
        "  for m in i.get_deleted_mail():\n",
        "    mails_words.append(m.get_body_processed())\n",
        "    mails_bows.append(m.get_body_bow())\n",
        "  # add inbox emails of all individuals\n",
        "  for m in i.get_inbox_mail():\n",
        "    mails_words.append(m.get_body_processed())\n",
        "    mails_bows.append(m.get_body_bow())\n",
        "\n",
        "# remove very short emails\n",
        "mails_bows = [x for x in mails_bows if len(x) >= 3]\n",
        "mails_words = [x for x in mails_words if len(x) >= 3]\n",
        "assert len(mails_words) == len(mails_bows)"
      ],
      "execution_count": null,
      "outputs": []
    },
    {
      "cell_type": "code",
      "metadata": {
        "id": "NMRz3KOYL8IO",
        "colab": {
          "base_uri": "https://localhost:8080/"
        },
        "outputId": "4a6917cc-4cb2-436c-a416-c8310af26038"
      },
      "source": [
        "print('Min email length:', min(len(x) for x in mails_bows))\n",
        "print('Max email length:', max(len(x) for x in mails_bows))\n",
        "print('Avg email length:', sum(len(x) for x in mails_bows) / len(mails_bows))"
      ],
      "execution_count": null,
      "outputs": [
        {
          "output_type": "stream",
          "text": [
            "Min email length: 3\n",
            "Max email length: 5665\n",
            "Avg email length: 67.68581150752732\n"
          ],
          "name": "stdout"
        }
      ]
    },
    {
      "cell_type": "markdown",
      "metadata": {
        "id": "fhlroym3MrWK"
      },
      "source": [
        "## 03.02. Topic Modeling with Pyro"
      ]
    },
    {
      "cell_type": "markdown",
      "metadata": {
        "id": "4UK69g5MchYT"
      },
      "source": [
        "An LDA model is used to perform topic modeling with Pyro. But despite many attempts this model is timing out during training. Even when a very small fraction of documents and a small number of words in each document are used, the model is taking very long time to train, and since the number of documents in training is very small the predications won't be that useful later for classification. This could be due to the large vocabulary size of (42859) but we're not sure. The model is kept here for completeness."
      ]
    },
    {
      "cell_type": "code",
      "metadata": {
        "colab": {
          "base_uri": "https://localhost:8080/"
        },
        "id": "ZDoFdjQfsUEk",
        "outputId": "de482e06-9a68-44ef-cd8f-7ced5535d7dc"
      },
      "source": [
        "# we need only word ids\n",
        "mails_ids = []\n",
        "for bow in mails_bows:\n",
        "  mails_ids.append([i[0] for i in bow])\n",
        "len(mails_ids)"
      ],
      "execution_count": null,
      "outputs": [
        {
          "output_type": "execute_result",
          "data": {
            "text/plain": [
              "9698"
            ]
          },
          "metadata": {
            "tags": []
          },
          "execution_count": 18
        }
      ]
    },
    {
      "cell_type": "code",
      "metadata": {
        "id": "POfrFlfmMssz",
        "colab": {
          "base_uri": "https://localhost:8080/"
        },
        "outputId": "c62b2b50-dcb8-42a1-829e-0616e9ce61d1"
      },
      "source": [
        "# number of words = dictionary size\n",
        "C = ds.get_dict_size()\n",
        "\n",
        "# num of topics\n",
        "K = 15\n",
        "\n",
        "# num of documents\n",
        "I = len(mails_bows)\n",
        "\n",
        "# num of words per document\n",
        "M = 20\n",
        "\n",
        "C, K, I, M"
      ],
      "execution_count": null,
      "outputs": [
        {
          "output_type": "execute_result",
          "data": {
            "text/plain": [
              "(42859, 15, 9698, 20)"
            ]
          },
          "metadata": {
            "tags": []
          },
          "execution_count": 28
        }
      ]
    },
    {
      "cell_type": "code",
      "metadata": {
        "id": "u0WpiZdNMvzW",
        "colab": {
          "base_uri": "https://localhost:8080/"
        },
        "outputId": "ddf06684-6ea7-4ae0-8aac-d1f3db053439"
      },
      "source": [
        "W = np.zeros((I, M), dtype=int )\n",
        "# W = np.full( (I, M), -1, dtype=int ) # var doc length\n",
        "print(W.shape)\n",
        "for i in range(I):\n",
        "  for j in range(M):\n",
        "    if j < len(mails_ids[i]):\n",
        "      W[i,j] = mails_ids[i][j]"
      ],
      "execution_count": null,
      "outputs": [
        {
          "output_type": "stream",
          "text": [
            "(9698, 20)\n"
          ],
          "name": "stdout"
        }
      ]
    },
    {
      "cell_type": "code",
      "metadata": {
        "id": "1qAu_CZVM0BW"
      },
      "source": [
        "# data is a [num_words_per_doc, num_documents] shaped array of word ids\n",
        "\n",
        "num_words = C\n",
        "num_topics = K\n",
        "num_docs = I\n",
        "num_words_per_doc = M\n",
        "\n",
        "def model(data=None, batch_size=None):\n",
        "    \"\"\" Make a plate of size num_topics with name \"topics\" and define a variable \"topic_words\".\n",
        "          This represents the phi above. Use the equivalent of a uniform distribution for it  \"\"\"\n",
        "    with pyro.plate(\"topics\", num_topics):\n",
        "        topic_words = pyro.sample(\"topic_words\", dist.Dirichlet(torch.ones(num_words) / num_words))\n",
        "\n",
        "    \"\"\" Make two (nested) plates in here. One over documents and one over words\n",
        "          Documents, called \"documents\":\n",
        "          The plate over the documents should hold a variable \"doc_topics\" representing the theta above.\n",
        "            Use the equivalent of a uniform distribution for it.\n",
        "          \n",
        "          Words, called \"words\":\n",
        "          The plate over words, should have a topic assignment for each word (z_{i,j} above) which \n",
        "            should be enumerated.\n",
        "          The second variable should be the words themselves which should be drawn from the \"topic_words\"\n",
        "            using the assigned z_{i,j} and the observed data.\n",
        "\n",
        "     \"\"\"\n",
        "    with pyro.plate(\"documents\", num_docs) as ind:\n",
        "        if data is not None:\n",
        "            with pyro.util.ignore_jit_warnings():\n",
        "                assert data.shape == (num_words_per_doc, num_docs)\n",
        "            data = data[:, ind]\n",
        "        doc_topics = pyro.sample(\"doc_topics\", dist.Dirichlet(torch.ones(num_topics)/ num_topics))\n",
        "        with pyro.plate(\"words\", num_words_per_doc):\n",
        "            word_topics = pyro.sample(\"word_topics\", dist.Categorical(doc_topics), infer={\"enumerate\": \"parallel\"})\n",
        "            data = pyro.sample(\"doc_words\", dist.Categorical(topic_words[word_topics]), obs=data)\n",
        "\n",
        "    return topic_words, data"
      ],
      "execution_count": null,
      "outputs": []
    },
    {
      "cell_type": "code",
      "metadata": {
        "id": "ozPLUGUR8Ak1"
      },
      "source": [
        "# We can generate synthetic data directly by calling the model.\n",
        "true_topic_words, fake_data = model()\n",
        "fake_data"
      ],
      "execution_count": null,
      "outputs": []
    },
    {
      "cell_type": "code",
      "metadata": {
        "id": "-1J5DmDyM12j"
      },
      "source": [
        "# because data is a [num_words_per_doc, num_documents] so we need to flip it\n",
        "W_torch = torch.tensor(W.T).long()\n",
        "W_torch.shape"
      ],
      "execution_count": null,
      "outputs": []
    },
    {
      "cell_type": "code",
      "metadata": {
        "id": "SSffRloq8gls"
      },
      "source": [
        "W_torch"
      ],
      "execution_count": null,
      "outputs": []
    },
    {
      "cell_type": "code",
      "metadata": {
        "id": "rKEAmDzOM5Nc"
      },
      "source": [
        "pyro.clear_param_store()\n",
        "\n",
        "def my_local_guide(data=None, batch_size=None):\n",
        "    topic_words_posterior = pyro.param(\n",
        "            \"topic_words_posterior\",\n",
        "            lambda: torch.ones(num_topics, num_words),\n",
        "            constraint=constraints.positive)\n",
        "    with pyro.plate(\"topics\", num_topics):\n",
        "        pyro.sample(\"topic_words\", dist.Dirichlet(topic_words_posterior))\n",
        "    \n",
        "    doc_topics_posterior = pyro.param(\n",
        "            \"doc_topics_posterior\",\n",
        "            lambda: torch.ones(num_docs, num_topics),\n",
        "            constraint=constraints.simplex)\n",
        "    with pyro.plate(\"documents\", num_docs, batch_size) as ind:\n",
        "        pyro.sample(\"doc_topics\", dist.Delta(doc_topics_posterior[ind], event_dim=1))\n",
        "    \n",
        "guide = AutoGuideList(model)\n",
        "guide.add(AutoDiagonalNormal(pyro.poutine.block(model, expose=['doc_topics'])))\n",
        "guide.add(my_local_guide)  # automatically wrapped in an AutoCallable\n",
        "\n",
        "guide = my_local_guide\n",
        "\n",
        "elbo = TraceEnum_ELBO(max_plate_nesting=3)\n",
        "\n",
        "optim = ClippedAdam({'lr': 0.005})\n",
        "svi = SVI(model, guide, optim, elbo)\n",
        "\n",
        "# Define the number of optimization steps\n",
        "n_steps = 400 # should be 4000\n",
        "\n",
        "# do gradient steps\n",
        "for step in range(n_steps):\n",
        "    elbo = svi.step(W_torch, batch_size=10)\n",
        "    if step % 100 == 0:\n",
        "        #print('.', end='')\n",
        "        print(\"[%d] ELBO: %.1f\" % (step, elbo))"
      ],
      "execution_count": null,
      "outputs": []
    },
    {
      "cell_type": "code",
      "metadata": {
        "id": "nbLWNa1yM8MO"
      },
      "source": [
        "from pyro.infer import Predictive\n",
        "\n",
        "predictive = Predictive(model, guide=guide, num_samples=800,\n",
        "                        return_sites=(\"topic_words\",))\n",
        "samples = predictive(W_torch)\n",
        "samples[\"topic_words\"].shape"
      ],
      "execution_count": null,
      "outputs": []
    },
    {
      "cell_type": "code",
      "metadata": {
        "id": "sqNCd-UIM-Hm"
      },
      "source": [
        "# Compute the argmax of the mean of all samples of topic for each word\n",
        "#   this is the most likely topic for each word in our dictionary\n",
        "samples[\"topic_words\"].mean(axis=0)[0].argmax(axis=0)"
      ],
      "execution_count": null,
      "outputs": []
    },
    {
      "cell_type": "code",
      "metadata": {
        "id": "Q9_va4M-M_-c"
      },
      "source": [
        "# Now compute the same for the real values\n",
        "np.argmax(phi, axis=0)"
      ],
      "execution_count": null,
      "outputs": []
    },
    {
      "cell_type": "code",
      "metadata": {
        "id": "2H8tkowjNCdY"
      },
      "source": [
        "from pyro.infer import Predictive\n",
        "\n",
        "predictive = Predictive(model, guide=guide, num_samples=800,\n",
        "                        return_sites=(\"doc_topics\",))\n",
        "predictive = Predictive(model, guide=guide, num_samples=800)\n",
        "samples = predictive(W_torch)"
      ],
      "execution_count": null,
      "outputs": []
    },
    {
      "cell_type": "code",
      "metadata": {
        "id": "4FgRvPwNNEAG"
      },
      "source": [
        "samples.keys()"
      ],
      "execution_count": null,
      "outputs": []
    },
    {
      "cell_type": "code",
      "metadata": {
        "id": "-NCfSRZ5NKKj"
      },
      "source": [
        "doc_topics_posterior = samples[\"doc_topics\"].mean(axis=0)\n",
        "doc_topics_posterior.shape"
      ],
      "execution_count": null,
      "outputs": []
    },
    {
      "cell_type": "code",
      "metadata": {
        "id": "L2YkxJhtNKHD"
      },
      "source": [
        "# Compute the argmax of the mean of all samples of topic for each document\n",
        "#   this is the most likely topic for each document in our data\n",
        "torch.argmax(doc_topics_posterior, axis=2)[0]"
      ],
      "execution_count": null,
      "outputs": []
    },
    {
      "cell_type": "markdown",
      "metadata": {
        "id": "MBw4Ykw5L-cI"
      },
      "source": [
        "## 03.03. Topic Modeling with Gensim"
      ]
    },
    {
      "cell_type": "markdown",
      "metadata": {
        "id": "LnR7kGDUgdoZ"
      },
      "source": [
        "To overcome the issue with the Pyro model, we used Gensim to perform topic modeling."
      ]
    },
    {
      "cell_type": "code",
      "metadata": {
        "id": "eSmBMSZ6L_Xa"
      },
      "source": [
        "corpus = mails_bows"
      ],
      "execution_count": null,
      "outputs": []
    },
    {
      "cell_type": "markdown",
      "metadata": {
        "id": "iuBn5kZchTo9"
      },
      "source": [
        "Removing insignificant words from the corpus. This will make sure that the topics are more distinct and separated apart from each other."
      ]
    },
    {
      "cell_type": "code",
      "metadata": {
        "id": "4qw-c17AMFal"
      },
      "source": [
        "tfidf = gensim.models.TfidfModel(corpus, id2word=dictionary)\n",
        "low_value = 0.03\n",
        "words = []\n",
        "words_missing_in_tfidf = []\n",
        "\n",
        "for i in range(0, len(corpus)):\n",
        "    bow = corpus[i]\n",
        "    low_value_words = []\n",
        "\n",
        "    tfidf_ids = [id for id, value in tfidf[bow]]\n",
        "    bow_ids = [id for id, value in bow]\n",
        "\n",
        "    low_value_words = [id for id,\n",
        "                        value in tfidf[bow] if value < low_value]\n",
        "\n",
        "    drops = low_value_words + words_missing_in_tfidf\n",
        "\n",
        "    for item in drops:\n",
        "        words.append(dictionary[item])\n",
        "\n",
        "    words_missing_in_tfidf = [\n",
        "        id for id in bow_ids if id not in tfidf_ids]\n",
        "    new_bow = [b for b in bow if b[0]\n",
        "                not in low_value_words and b[0] not in words_missing_in_tfidf]\n",
        "    corpus[i] = new_bow"
      ],
      "execution_count": null,
      "outputs": []
    },
    {
      "cell_type": "code",
      "metadata": {
        "id": "eV39qFidMH5b"
      },
      "source": [
        "lda_model = gensim.models.ldamodel.LdaModel(corpus=corpus, id2word=dictionary, \n",
        "                                            num_topics=15, random_state=100, \n",
        "                                            update_every=1, chunksize=100, \n",
        "                                            passes=10, alpha=\"auto\")"
      ],
      "execution_count": null,
      "outputs": []
    },
    {
      "cell_type": "code",
      "metadata": {
        "colab": {
          "base_uri": "https://localhost:8080/",
          "height": 861
        },
        "id": "DzOciFemMJSF",
        "outputId": "14fdf3a4-b6f7-4c01-93bc-a4ef3c893efc"
      },
      "source": [
        "pyLDAvis.enable_notebook()\n",
        "vis = pyldagensim.prepare(lda_model, corpus, dictionary, mds=\"mmds\", R=30)\n",
        "vis"
      ],
      "execution_count": null,
      "outputs": [
        {
          "output_type": "execute_result",
          "data": {
            "text/html": [
              "\n",
              "<link rel=\"stylesheet\" type=\"text/css\" href=\"https://cdn.jsdelivr.net/gh/bmabey/pyLDAvis@3.3.1/pyLDAvis/js/ldavis.v1.0.0.css\">\n",
              "\n",
              "\n",
              "<div id=\"ldavis_el4291403945141840163108119798\"></div>\n",
              "<script type=\"text/javascript\">\n",
              "\n",
              "var ldavis_el4291403945141840163108119798_data = {\"mdsDat\": {\"x\": [0.39674438681237156, 0.12149543735415812, -0.10360826979387436, -0.109554582535834, 0.2420905246863927, 0.2507701285190188, 0.07092114805843047, -0.3223253610019477, -0.41253460692607313, 0.1813225162468437, 0.45067601577034655, -0.12529224786533968, -0.324957359761962, -0.24526951716830409, -0.07047821239422697], \"y\": [0.22371213019264524, -0.4127606780188836, -0.41462094453749987, 0.4414835200024671, -0.2506923389962368, -0.06090328131488958, 0.23103382688182758, -0.27084168346147014, 0.1196068504661144, 0.36005727506312424, -0.03454898270788888, 0.05687187146526554, -0.0718321410968, 0.19978764996865003, -0.11635307390642523], \"topics\": [1, 2, 3, 4, 5, 6, 7, 8, 9, 10, 11, 12, 13, 14, 15], \"cluster\": [1, 1, 1, 1, 1, 1, 1, 1, 1, 1, 1, 1, 1, 1, 1], \"Freq\": [27.048102273619257, 9.837351391175169, 9.647215003207297, 9.312566227056948, 6.884126284800214, 5.347901746670992, 5.016498369445495, 4.8570110801109765, 4.579671030167652, 4.372622481877389, 3.596451192828222, 2.9906769167870926, 2.438111494778989, 2.2966762670345044, 1.7750182404398196]}, \"tinfo\": {\"Term\": [\"thank\", \"send\", \"click\", \"attachment\", \"receive\", \"email\", \"message\", \"use\", \"contact\", \"schedule\", \"link\", \"hour\", \"review\", \"offer\", \"know\", \"copy\", \"think\", \"free\", \"say\", \"call\", \"attach\", \"delete\", \"create\", \"reply\", \"site\", \"get\", \"authorize\", \"make\", \"need\", \"contain\", \"send\", \"know\", \"call\", \"get\", \"make\", \"need\", \"let\", \"follow\", \"question\", \"take\", \"want\", \"today\", \"well\", \"day\", \"week\", \"look\", \"give\", \"process\", \"contract\", \"forward\", \"ask\", \"last\", \"like\", \"name\", \"fax\", \"number\", \"employee\", \"regard\", \"file\", \"request\", \"also\", \"see\", \"work\", \"information\", \"time\", \"thank\", \"change\", \"come\", \"new\", \"find\", \"email\", \"continue\", \"receive\", \"original\", \"contact\", \"message\", \"good\", \"financial\", \"reason\", \"concern\", \"involve\", \"risk\", \"investment\", \"clear\", \"stock\", \"project\", \"expense\", \"quarter\", \"cut\", \"investor\", \"express\", \"represent\", \"core\", \"understanding\", \"earning\", \"oil\", \"act\", \"enron\", \"push\", \"crude\", \"loss\", \"difficult\", \"moment\", \"net\", \"finish\", \"demand\", \"situation\", \"strong\", \"expect\", \"review\", \"increase\", \"officer\", \"consider\", \"high\", \"result\", \"low\", \"far\", \"fund\", \"share\", \"option\", \"trading\", \"meeting\", \"hold\", \"remain\", \"state\", \"yesterday\", \"recent\", \"propose\", \"accord\", \"develop\", \"resource\", \"strategy\", \"control\", \"retain\", \"structure\", \"host\", \"seek\", \"paper\", \"staff\", \"strength\", \"match\", \"solution\", \"lawsuit\", \"challenge\", \"community\", \"arrangement\", \"finance\", \"wholesale\", \"presentation\", \"press\", \"display\", \"management\", \"build\", \"development\", \"key\", \"lead\", \"industry\", \"effort\", \"interest\", \"program\", \"response\", \"announce\", \"wait\", \"release\", \"opportunity\", \"several\", \"face\", \"job\", \"team\", \"company\", \"part\", \"join\", \"say\", \"material\", \"talk\", \"tell\", \"really\", \"tomorrow\", \"past\", \"turn\", \"guy\", \"one\", \"lot\", \"game\", \"play\", \"happen\", \"together\", \"probably\", \"seem\", \"approach\", \"care\", \"idea\", \"couple\", \"afternoon\", \"real\", \"immediate\", \"oct\", \"assume\", \"mind\", \"maybe\", \"listen\", \"fact\", \"thing\", \"think\", \"little\", \"hear\", \"big\", \"money\", \"chance\", \"enough\", \"much\", \"try\", \"people\", \"pass\", \"put\", \"recipient\", \"buy\", \"leave\", \"way\", \"right\", \"back\", \"still\", \"even\", \"award\", \"retrieve\", \"percent\", \"suit\", \"travel\", \"discount\", \"favorite\", \"destination\", \"vacation\", \"earn\", \"hotel\", \"reservation\", \"fly\", \"city\", \"flight\", \"fare\", \"trip\", \"beauty\", \"heart\", \"kid\", \"perfect\", \"surcharge\", \"white\", \"food\", \"beautiful\", \"sister\", \"restriction\", \"shop\", \"rental\", \"student\", \"fun\", \"ticket\", \"exclusive\", \"quote\", \"car\", \"miss\", \"holiday\", \"season\", \"enjoy\", \"family\", \"win\", \"purchase\", \"great\", \"friend\", \"special\", \"price\", \"click\", \"link\", \"unsubscribe\", \"image\", \"log\", \"subscribe\", \"automatically\", \"screen\", \"site\", \"active\", \"privacy\", \"selection\", \"browser\", \"shopping\", \"shipping\", \"menu\", \"music\", \"paste\", \"dvd\", \"publication\", \"url\", \"subscriber\", \"compete\", \"non\", \"channel\", \"twice\", \"custom\", \"newscast\", \"catalog\", \"synchronize\", \"web\", \"register\", \"visit\", \"page\", \"mailing\", \"wish\", \"feature\", \"remove\", \"product\", \"password\", \"search\", \"choose\", \"top\", \"special\", \"learn\", \"view\", \"free\", \"service\", \"offer\", \"save\", \"stop\", \"personal\", \"online\", \"future\", \"subject\", \"attach\", \"direct\", \"space\", \"publish\", \"deliver\", \"requirement\", \"approve\", \"payment\", \"pge\", \"delivery\", \"obligation\", \"chart\", \"avoid\", \"valuable\", \"please\", \"representative\", \"herein\", \"monthly\", \"capacity\", \"mailbox\", \"license\", \"reference\", \"verify\", \"instrument\", \"bankruptcy\", \"author\", \"arise\", \"exit\", \"electronic\", \"timely\", \"example\", \"term\", \"entity\", \"base\", \"rate\", \"tax\", \"credit\", \"refer\", \"charge\", \"sale\", \"standard\", \"cost\", \"content\", \"type\", \"amount\", \"reflect\", \"responsible\", \"contain\", \"authorize\", \"exist\", \"man\", \"director\", \"woman\", \"executive\", \"opinion\", \"draft\", \"recommendation\", \"bless\", \"fight\", \"brother\", \"worried\", \"yard\", \"football\", \"hearing\", \"nice\", \"pray\", \"terrorist\", \"defendant\", \"hell\", \"wife\", \"judge\", \"son\", \"bind\", \"wear\", \"boy\", \"alone\", \"kill\", \"middle\", \"hand\", \"produce\", \"carry\", \"rest\", \"bit\", \"child\", \"else\", \"break\", \"sit\", \"matter\", \"debt\", \"plant\", \"simple\", \"bill\", \"story\", \"bank\", \"retail\", \"clean\", \"rating\", \"movie\", \"promise\", \"door\", \"research\", \"ground\", \"trust\", \"thousand\", \"huge\", \"foreign\", \"lack\", \"buyer\", \"eye\", \"cite\", \"lock\", \"wide\", \"poor\", \"combination\", \"oppose\", \"talent\", \"differ\", \"fan\", \"newsletter\", \"claim\", \"picture\", \"away\", \"former\", \"cover\", \"front\", \"drive\", \"news\", \"parse\", \"schedulingiso\", \"ancillary\", \"variance\", \"approval\", \"preferred\", \"performance\", \"impact\", \"organization\", \"respect\", \"environment\", \"network\", \"facility\", \"transdate\", \"storage\", \"regulatory\", \"server\", \"occur\", \"utility\", \"restore\", \"dever\", \"pverde\", \"schedules\", \"txt\", \"equipment\", \"database\", \"outage\", \"maintenance\", \"backup\", \"motion\", \"center\", \"datum\", \"hour\", \"schedule\", \"final\", \"operation\", \"internet\", \"decision\", \"system\", \"confidential\", \"prohibit\", \"sender\", \"disclosure\", \"distribution\", \"strictly\", \"affiliate\", \"relevant\", \"privileged\", \"rely\", \"evidence\", \"sole\", \"acceptance\", \"enforceable\", \"hereto\", \"intended\", \"estoppel\", \"binding\", \"solely\", \"copying\", \"dissemination\", \"division\", \"hereby\", \"yahoocom\", \"privilege\", \"gon\", \"basically\", \"smile\", \"beer\", \"disagree\", \"intend\", \"otherwise\", \"property\", \"andor\", \"basis\", \"delete\", \"contain\", \"party\", \"create\", \"reply\", \"copy\", \"review\", \"offer\", \"proprietary\", \"owe\", \"currency\", \"assistant\", \"ing\", \"listing\", \"usd\", \"arrange\", \"ent\", \"qualification\", \"reproduction\", \"slot\", \"impose\", \"petition\", \"canadian\", \"allege\", \"ation\", \"blackout\", \"cont\", \"mar\", \"consolidate\", \"excise\", \"coast\", \"banker\", \"driving\", \"ion\", \"administrative\", \"wer\", \"continentalcom\", \"intermediate\", \"reduction\", \"copyright\", \"fuel\", \"slightly\", \"federal\", \"html\", \"font\", \"height\", \"width\", \"cellspacing\", \"mom\", \"cellpadding\", \"convert\", \"colspan\", \"college\", \"contractor\", \"church\", \"blessing\", \"mother\", \"sansserif\", \"cable\", \"daughter\", \"img\", \"edison\", \"recruit\", \"facearial\", \"fcornr\", \"psuedo\", \"drug\", \"alignright\", \"spouse\", \"gif\", \"trtd\", \"ter\", \"alignleft\", \"border\", \"body\", \"color\", \"table\", \"head\", \"starter\", \"attachment\", \"insist\", \"young\", \"weak\", \"holding\", \"stake\", \"doubt\", \"peace\", \"jump\", \"possibly\", \"efficiency\", \"troubled\", \"recipe\", \"uncertain\", \"referenced\", \"aim\", \"intent\", \"observe\", \"gold\", \"shed\", \"patent\", \"hilarious\", \"pie\", \"audience\", \"takeover\", \"pork\", \"threaten\", \"fresh\", \"unknown\", \"green\", \"war\", \"dispute\", \"trouble\", \"baby\", \"funny\", \"advice\", \"road\", \"negotiate\", \"rush\", \"receiver\", \"con\", \"lipstick\", \"commence\", \"everyday\", \"bean\", \"meal\", \"focused\", \"speech\", \"ment\", \"left\", \"sweep\", \"steal\", \"dark\", \"transact\", \"substantially\", \"sample\", \"classic\", \"seam\", \"spice\", \"sex\", \"bridge\", \"sweet\", \"sour\", \"eat\"], \"Freq\": [2627.0, 2584.0, 1139.0, 876.0, 1629.0, 1794.0, 1526.0, 1380.0, 1528.0, 1096.0, 889.0, 902.0, 1025.0, 1117.0, 1726.0, 817.0, 971.0, 1043.0, 885.0, 1611.0, 687.0, 671.0, 732.0, 842.0, 686.0, 1548.0, 650.0, 1516.0, 1511.0, 703.0, 2583.370867588753, 1725.1130893765244, 1610.5592499938437, 1547.2400184680944, 1515.2086540319776, 1510.4164756805499, 1301.1838328000595, 1268.38311024019, 1266.1175004406969, 1257.372149636739, 1256.3465347200479, 1219.962772082311, 1122.3543539413797, 1114.0214531476156, 1113.8238973803532, 1085.8432710564632, 1028.790869931413, 999.686107945611, 992.0047224155444, 963.4356899406674, 959.8471397540069, 893.7576459314328, 866.4377918540129, 858.594188721077, 822.5642485359751, 800.3430817951145, 764.7727581514754, 740.1358862475973, 705.8027656983049, 673.4799532410914, 1221.9661007032519, 1305.050753682948, 1292.5962915119362, 1483.142318772054, 1361.7108350619287, 2468.1220198169676, 969.5589636402765, 1037.4649566616465, 1113.6456637279252, 1200.513924745558, 1444.9339019745078, 1126.223405399668, 1250.592658713929, 1040.4429867940303, 1153.1258871030393, 1130.8018649980404, 1051.9253923058197, 532.3127460954902, 496.5819116542961, 420.1167983561672, 316.6197838793869, 309.9053625699615, 291.8663172536144, 270.1510216606316, 264.09552137939886, 250.65986510028077, 239.5732649586933, 239.2508585869912, 236.60363133212067, 231.93266681718288, 227.5049366136659, 286.8548033264983, 215.5296748518176, 210.1792414469401, 205.92652879146297, 200.5443383856931, 194.72702229121256, 190.2135735695106, 189.1837756608915, 189.02520441832016, 187.13111374498408, 185.2218593375239, 184.891730817519, 183.68837161374074, 180.86795714701978, 176.5788114492904, 172.21506285169426, 264.57122174699475, 376.18923749447754, 538.3715062455567, 240.4296752536894, 198.780896307951, 286.73536387004975, 263.5225059110455, 267.24217657173693, 228.85925179265809, 236.04544559493715, 207.55019731290028, 226.7752603996397, 214.69779373378339, 213.9151580113274, 676.2095409599241, 449.9842255432948, 372.191810161844, 307.72627422454605, 306.1778924241131, 289.0548702920482, 250.5177986102216, 242.84847409929392, 231.5802690123794, 211.4344434695268, 204.23769116336993, 204.07419263157433, 197.33449988801777, 196.71303776295485, 184.06077482670764, 181.3533602016707, 178.28983610518537, 178.15928883610843, 176.37876768265406, 172.1418772898295, 169.45414170916763, 164.58422021912088, 164.0831775992854, 164.08214254968112, 157.36155236717576, 157.3072450176852, 154.2434195776442, 152.99360373141894, 146.9084553945812, 144.0897401823495, 291.1109766781164, 219.8552270950579, 259.45520300722734, 238.37234312704894, 307.7669687064562, 256.4269099029688, 279.71940415988627, 297.5224145762842, 259.16942450129534, 222.80333660971874, 243.91410352353165, 227.28662121593766, 202.38096939601036, 263.1017482725861, 219.13966716926126, 203.50388029961422, 222.03407202154293, 232.20014580830158, 246.4140234576441, 217.6550129799072, 209.83774188503565, 884.3791305730214, 803.5163666654249, 672.0892196233768, 596.5396313291072, 503.21178559888494, 421.6857157921775, 404.1562075539466, 381.4312963548794, 379.03112207448254, 341.1126533856496, 338.08056406991767, 331.6419210167462, 322.74727802938776, 321.9961738319961, 319.7800193211158, 312.04749595862324, 278.7178858934118, 273.5312602329222, 262.6797345748958, 258.2313886412626, 255.96679456218655, 245.73595304222164, 225.02931502662193, 224.59991026960296, 222.95248434948695, 220.9436461315218, 220.63988071404768, 216.5453839289735, 210.07733565489988, 208.29331774091594, 653.5725559864993, 887.8276231115411, 390.4109552110138, 476.37105408681197, 388.40727713503924, 317.30815953875197, 312.6683065707531, 266.11459320884245, 489.27353382757946, 464.3781758459504, 495.02117316066114, 324.4807316108269, 408.36101502147596, 460.549299899322, 353.7805743191694, 384.59173155521984, 404.97188941066145, 366.20586739987783, 385.11470182803833, 345.4854184160092, 323.264278726178, 676.3270510156977, 595.1470703020286, 247.78871220563104, 243.2929512827598, 242.27185378959686, 231.7514718073637, 216.09387070011027, 201.10426122129502, 200.76934917177772, 199.62063319064896, 194.85774293164883, 187.7148099441153, 180.6433994058813, 175.3000273387624, 175.0203137912927, 167.59716239194148, 165.31831691716206, 156.55217960544095, 151.66542929306567, 151.34804725563157, 141.455473439472, 138.96247198774424, 129.9089172725766, 129.34124405995328, 119.2100844420062, 116.23772364119543, 149.71329649681851, 112.98841669748917, 108.36662667441432, 106.8748834168412, 342.95816612473413, 241.0460244539815, 142.13531068140855, 185.1915353301873, 241.28949996047277, 246.78369557688578, 245.0096209567052, 267.6463920159457, 251.87549560926593, 270.0994156907839, 220.2169669394418, 248.55004764240994, 383.2768199425399, 228.19410411798174, 198.77836986875414, 219.99357381479305, 1138.4635713916512, 888.5256157498483, 439.3337060796985, 432.3709957231079, 391.3201030682733, 296.91867410941734, 245.58704607201315, 230.028352887634, 682.3552020946311, 163.56461620721274, 161.24807054990157, 145.13611172683278, 140.7599705246548, 130.9590283590018, 119.87873929678526, 111.48748567272735, 111.4333763862298, 107.34925828233466, 97.94299433648887, 96.5605274869465, 90.20235222587586, 82.43509851449411, 77.37691157176232, 75.30184585505125, 73.18029699289261, 71.8039746341391, 68.53750958464957, 59.20196901830309, 53.13792675453913, 51.222726743210295, 624.0363438414126, 325.06782112168963, 541.2399260269615, 363.2849559702112, 222.83948750245798, 559.7688050495423, 286.92915563307673, 314.9828959893179, 389.8188136781806, 184.63719820851375, 172.84850600967636, 241.95601516537667, 297.22607296065524, 290.21760575776466, 255.16835537542642, 349.83488352316306, 421.0754170675544, 331.5107337043129, 378.1025916082925, 233.38681825015232, 213.397453323592, 194.79000325922186, 226.07683521911952, 219.88288345831683, 229.14611731302216, 686.736096476078, 361.4719724975718, 320.1319572403235, 290.019675743674, 278.71947984922775, 276.7495944241937, 235.27487426750645, 228.5507479682223, 191.66418351288803, 188.53070719239702, 175.9824947948746, 173.66412891230962, 169.6004993189783, 157.9227727095053, 156.92697021498816, 154.86682732951678, 154.40427147059978, 151.46467700466235, 147.55444694176634, 140.618970481123, 139.43991427503857, 137.69191177357965, 132.79335979372996, 128.0569142460697, 127.46702505868247, 127.23903776580241, 124.33328984752899, 121.90437765208235, 119.6595775951365, 116.63230094956226, 232.9144454651996, 321.867287725145, 217.7645454195818, 346.24127131360956, 257.9020816787028, 207.35088653425908, 260.1675657369989, 166.74411776229374, 251.2321861602974, 205.22407249028527, 167.8443758262119, 226.12509234479327, 175.5113819182712, 190.65002703298305, 191.8679849675621, 173.26245323654993, 170.76830059415673, 188.2202836622516, 649.2593996915914, 279.5833248327356, 238.61729668265025, 220.45093387286695, 188.96578539259545, 177.7927933061536, 170.06227149058296, 135.57477188876842, 130.31038696781587, 126.02658344823804, 119.97515292881371, 119.22793586401362, 115.61546543252848, 111.5711608199649, 110.2746754261968, 109.69299281858306, 107.82828789060699, 107.46651314247441, 102.38300570111971, 101.22481199473603, 98.48703236326226, 97.67055401930469, 96.98589638036455, 96.93484751946933, 93.22169757333843, 91.43088453575493, 91.34947944565184, 90.95257933451796, 90.8536874205057, 90.74193929381931, 177.13539162964003, 129.28806410220227, 113.20118874521854, 151.7955260002074, 127.56105719350356, 108.84555798099825, 148.55610341457674, 115.28758913330927, 109.65483974823574, 120.93355752823341, 221.89836016597698, 184.56270781349394, 158.36063858567027, 144.82682783583255, 142.8180529490478, 138.01369175443304, 134.29826801315255, 126.32265326041427, 124.10457449437656, 123.65682142569062, 120.83109466264669, 120.20002343940527, 117.76169419874182, 116.32537649270236, 113.17034379863125, 112.72194388567328, 106.63406950497289, 104.49136053593944, 101.65517853038318, 101.19147826252916, 99.04862624139709, 98.61426409307343, 94.89755288290534, 93.24928794361666, 91.77713257704423, 90.92117723511302, 89.2757857771097, 89.10250614808358, 88.80592182970202, 88.10454982947272, 207.3160148511809, 172.5814725882799, 111.77658098210351, 157.43611153124758, 138.10585462388417, 151.84807362244436, 119.73601218872814, 111.64858045211939, 110.95257601541664, 457.4876432213655, 457.48716814427814, 451.06640629354655, 448.99369246921856, 349.88106767819886, 308.9772392588791, 252.96477176963123, 252.4951818226563, 247.476419964355, 241.64083431594656, 225.6697640555273, 217.48195297845822, 217.3922109166609, 178.50536977932487, 166.8937493954053, 162.46755118813525, 162.02935195970588, 158.5906489861675, 152.4743046560721, 150.35132767590426, 150.9070490988128, 150.9070490988128, 134.2435777374591, 134.0821821739647, 126.81864544723037, 120.51551268332256, 112.91015799225167, 108.64912033439315, 107.898498536406, 105.61120426865664, 204.25944120680774, 478.9145700142874, 554.8804414485287, 569.2774625493398, 300.67835515879136, 189.43472008119738, 210.58639908664534, 161.99193963907834, 153.97392111302227, 561.2958553628521, 523.6708511398388, 505.1822396792677, 479.5011769909177, 474.0525930403259, 473.6381271054153, 464.2294729521795, 451.34683855861584, 446.71819928400805, 432.7138849500708, 410.8746131785183, 409.41290471305837, 407.60843248960504, 392.70954069608047, 392.2824926897981, 389.6859751660113, 385.9465210346886, 369.30173007667474, 87.3312489039285, 80.95502536598696, 75.3997917537475, 53.04894839474417, 49.55240248293419, 43.794536955736454, 39.6766462565352, 37.96139635363683, 37.93910908978988, 35.57807802408357, 35.31588397040479, 34.78614506367308, 547.7343752365457, 444.07545632409426, 411.94768412266023, 461.2726861797951, 410.2355064724377, 495.7471709911021, 514.4503419358434, 401.47248450950326, 388.6849189968331, 418.4333511672901, 390.84758950682595, 430.3858891482323, 388.7667806102617, 132.43712363480708, 107.95486319920467, 104.08600322294068, 94.29508275452542, 91.64975173595938, 88.66892098640221, 86.34970730640835, 82.34799915211892, 80.3935452702097, 74.65009141192448, 73.66978980817285, 73.43516501143145, 70.64817205226458, 64.0906474017126, 60.12449485921341, 55.689080538306186, 54.426718223934, 52.12152126958419, 51.72964188960288, 51.54506058073758, 51.536758585021424, 50.738052983456335, 49.76394132171615, 48.591268180242274, 46.907364316263006, 45.63641162961114, 45.40237983256375, 44.49077277555738, 44.17708812235074, 44.11174036839907, 74.586957252721, 96.65229715463688, 61.66371085949571, 57.251167643225315, 47.36990813923339, 175.75163583940756, 122.82305185015672, 119.6760457269034, 103.27506616269767, 95.94351525645983, 91.2481049828039, 87.02822967438924, 75.20120549416957, 69.27054468885798, 69.02921766407826, 68.64859499320714, 67.11111780943239, 64.49732116800351, 62.99855855811154, 62.19802911574106, 61.39260571680209, 61.05781008172789, 60.39233794687799, 56.13595332511818, 56.102530052044905, 55.3843766932406, 53.77639077389795, 53.77639077389795, 50.50236363039855, 48.82404115799245, 48.748492772967694, 47.73383451911488, 47.62354831381949, 47.095537419148314, 46.42984012256184, 120.53622978465809, 176.734784694948, 137.95494039818047, 122.7247091505058, 65.22872595724563, 49.27860628091423, 875.5204394600617, 109.50873792548792, 91.43580955983565, 82.61194762426311, 68.71402197268334, 62.31714626953155, 61.924817285742385, 61.59429675739809, 60.43408442620534, 54.570958547066276, 46.430411294561615, 45.19651290405167, 44.802774078626406, 44.27756128239691, 42.30932566571418, 41.680667298994734, 40.510258568889526, 38.82886646189977, 37.691514151395126, 37.337662615444465, 36.83729983761068, 36.687716263843555, 36.10838987791317, 35.777052140478915, 35.1826635305203, 34.78292975902292, 34.61348363760375, 33.97761698765191, 33.44613788202654, 33.35107026426796, 54.83935870809931, 53.73682511924035, 36.14025167506543, 129.92698668261986, 96.79150190386495, 94.34080181296206, 80.75830282064265, 77.7023645755346, 65.69000187081357, 61.509782672504805, 55.93493728368315, 50.39728346942726, 49.74069837859709, 48.966434787377864, 46.10298728825609, 44.3684588412114, 44.33564501485742, 43.01700746924096, 42.02604534153836, 41.38865870156648, 41.08599141137787, 41.01395623953614, 39.65684465126544, 39.51241270943674, 39.178472000992905, 38.78188320855794, 38.18084441414626, 35.0446820045338, 34.83885069764223, 32.06533024658898, 32.01636503641399, 31.702640074943737, 31.176763071003005, 61.067220291883196], \"Total\": [2627.0, 2584.0, 1139.0, 876.0, 1629.0, 1794.0, 1526.0, 1380.0, 1528.0, 1096.0, 889.0, 902.0, 1025.0, 1117.0, 1726.0, 817.0, 971.0, 1043.0, 885.0, 1611.0, 687.0, 671.0, 732.0, 842.0, 686.0, 1548.0, 650.0, 1516.0, 1511.0, 703.0, 2584.290017384959, 1726.0322388379795, 1611.4783996278748, 1548.1591681285047, 1516.1278036200156, 1511.3356251717682, 1302.1029825358341, 1269.3022599766339, 1267.0366496501733, 1258.2912996572595, 1257.2656850610658, 1220.8819217940986, 1123.273504042933, 1114.9406031565973, 1114.743047250708, 1086.7624210879012, 1029.7100203465504, 1000.6052583134001, 992.9238745813584, 964.3548400379411, 960.7662908712916, 894.6767958221006, 867.3569419436707, 859.5133394331178, 823.483398616344, 801.2622319003106, 765.6919081035904, 741.0550359800246, 706.7219157319387, 674.3991029373125, 1230.3626211857636, 1318.0768854607688, 1307.213598379151, 1507.905165516314, 1386.429944945771, 2627.531961253248, 982.0289370166744, 1061.0844766592427, 1163.2575843784523, 1313.3711010821178, 1794.7530407445063, 1251.5525927547376, 1629.577303892893, 1118.0917058218156, 1528.3249103351193, 1526.254876840561, 1209.32666989851, 533.2337357209752, 497.5029023658787, 421.03778780597713, 317.5407738905659, 310.8263517157517, 292.78730645238113, 271.07201111759, 265.01651068085505, 251.58085440422312, 240.4942542717447, 240.17184765822014, 237.524621979548, 232.85365592792692, 228.42592618620094, 288.02468405297975, 216.45066594545688, 211.1002312079492, 206.84751772369722, 201.46532794100048, 195.6480116197289, 191.13456434273203, 190.10476610506038, 189.94619447160582, 188.05210276853396, 186.14284938904478, 185.812721649386, 184.60936247742777, 181.78894735022388, 177.4998008445944, 173.13605231303964, 269.4757351456758, 486.5287660465385, 1025.0854896029298, 292.57886214290806, 213.56842116258795, 434.38931709646664, 453.67673900214584, 509.0976043293889, 350.6424816518509, 441.95134851479895, 272.61510236404297, 543.3761853646179, 421.975411693895, 493.6245999255985, 677.1304941762552, 450.905178740036, 373.1127632180114, 308.6472275894029, 307.0988474142296, 289.9758238432058, 251.43875161819219, 243.76942891919376, 232.5012215888354, 212.35539864307268, 205.15864464137852, 204.99514721508476, 198.25545485983744, 197.63399050068924, 184.981728159378, 182.27431345640733, 179.21079081238682, 179.0802417317586, 177.2997217123043, 173.0628310084188, 170.37509650021275, 165.50517435741742, 165.00413159581288, 165.00309554370995, 158.28250556699336, 158.2281992562566, 155.16437269595022, 153.91455616461417, 147.8294080606303, 145.0106936412445, 303.8900645558555, 227.29776774645512, 273.1548355201807, 253.59622387472194, 343.7235083529113, 284.0010647218534, 336.0582818459413, 366.42378149915135, 323.1248883020979, 278.26507445808494, 361.98281151956394, 318.8973367432037, 250.69997069087344, 543.5624004510754, 355.3722482714078, 275.26715954972786, 390.82869167404425, 505.77921394875835, 823.008860642719, 414.4498411735907, 538.7597140554676, 885.3029726760587, 804.440212251292, 673.0130614379383, 597.4634730329664, 504.135627560934, 422.60955710359565, 405.0800499497732, 382.3551378243145, 379.95496311548766, 342.03649532976505, 339.00440673831525, 332.5658611153908, 323.6711195461804, 322.92001537757733, 320.70386130489646, 312.9713372050727, 279.6417275899739, 274.45510230084636, 263.6035765298174, 259.1552300107397, 256.8906363415878, 246.65979458221983, 225.95315730876783, 225.5237541384613, 223.87633051665878, 221.86748956235297, 221.56542804730918, 217.4692255675768, 211.00117824686467, 209.21715989351878, 662.2235084353576, 971.6100710911124, 412.2308759502692, 518.892439388668, 438.59245904197104, 344.4434200313123, 344.4165762742045, 281.62067922282796, 633.4058874107884, 614.3541854280465, 705.4805725253144, 381.508687618913, 611.8864785654954, 801.7251968341556, 495.06058968879296, 642.3287304222081, 796.4797260631497, 606.6108765152502, 818.2374724528277, 649.8310290166238, 458.61326289014147, 677.228063794018, 596.048086726737, 248.68972874098546, 244.19396683192952, 243.172864264749, 232.65248259102225, 216.994881691236, 202.0052718457168, 201.6703594589336, 200.52164470845298, 195.75875304002886, 188.61582057815852, 181.5444119985135, 176.2010378569745, 175.92132461604524, 168.49817259753172, 166.21932765172525, 157.45323463425672, 152.56644228598168, 152.24905873634452, 142.35648462604706, 139.86348223958075, 130.80992928483028, 130.24225503905888, 120.11109581524825, 117.13873774414483, 150.8968462267055, 113.88942792154842, 109.26763687886888, 107.77589783140688, 349.06117563559394, 259.43320501213975, 147.5176237643211, 209.84741647856205, 305.3460698826702, 315.7826362590893, 313.1203317611738, 356.97098378451756, 349.96202485598167, 399.6293282573045, 299.7489472839923, 375.97153690878747, 846.3939743265755, 532.6605514334775, 490.7692833762962, 1112.3047052655788, 1139.3794755054914, 889.4415204594548, 440.24961005005173, 433.2869007352389, 392.2360086774804, 297.8345789151387, 246.50295037314598, 230.9442609528147, 686.0695040826016, 164.48052198229007, 162.16397464568976, 146.05201686479683, 141.67587454686776, 131.8749334229018, 120.79464905877668, 112.4033937161958, 112.35036374279665, 108.26516217355352, 98.85889954147144, 97.47643285852256, 91.11825700776679, 83.3510048406396, 78.29282377883492, 76.21776175587053, 74.09620161501716, 72.7198876995534, 69.45341511336935, 60.11787363362878, 54.053833302381065, 52.13863451783939, 637.6025285492997, 339.2384613223582, 609.3339647307072, 412.03357004260215, 250.07576195212673, 689.0060114431495, 352.9424664484489, 412.8379206363759, 544.5611589347368, 225.9402497907543, 211.30793318073617, 337.11297120213266, 475.41676351546823, 490.7692833762962, 415.2343886688111, 689.2683147635498, 1043.1383245915192, 732.185692626233, 1117.759336468371, 407.76294627303173, 385.1004539944592, 291.5811846827619, 480.3711620405869, 641.1281174431558, 1158.6457692554484, 687.652705842464, 362.38858241255673, 321.0485686597708, 290.93628556167647, 279.63608906648824, 277.6662038235476, 236.19148350903848, 229.46735771495585, 192.58079318608628, 189.44731600575483, 176.89910588846357, 174.58073841936854, 170.5171105154865, 158.83938168175635, 157.84358042983604, 155.78343705763913, 155.32088074370142, 152.3812878096093, 148.47106259360484, 141.53557975410945, 140.3565239327539, 138.60852075202618, 133.70996900691821, 128.97352295588342, 128.38363457689206, 128.15564824670383, 125.24990395622467, 122.82098937341446, 120.57618707264288, 117.54891163152553, 246.05454185033457, 370.70143016456285, 251.9414948314755, 583.3070855538906, 376.2833680989497, 293.04842225346687, 436.90622748095103, 205.04395144161654, 449.59352803304347, 332.337333180452, 221.69818036548506, 485.0630443574763, 251.5595804292235, 335.2121571568194, 361.2031910964313, 247.84661079825165, 249.15339223167345, 703.5460867160909, 650.1804115287819, 280.50433329667493, 239.53830088519547, 221.371940323903, 189.8867898533746, 178.71380214071576, 170.98327739258713, 136.49577650680203, 131.23139350096722, 126.94758971821277, 120.89615777630394, 120.14894047843158, 116.5364719748893, 112.49216395708103, 111.19567922866877, 110.61399774893077, 108.7492933866919, 108.38752298496554, 103.30401084648169, 102.14582302836895, 99.4080359625752, 98.5915579956514, 97.9069010117805, 97.85585153635252, 94.14270557239253, 92.35188840018306, 92.27048354558038, 91.87358439308676, 91.7746912629568, 91.66294525890682, 237.67893357188507, 168.23075048683086, 138.79799414747538, 254.87868332077767, 197.64297304105298, 140.51926916288798, 412.06178999294195, 184.18642301748847, 167.57664383336646, 419.34677464952404, 222.8202560475058, 185.4846017918583, 159.28253281016956, 145.74872154321434, 143.73994540749294, 138.935584652174, 135.22016152322655, 127.24454647695647, 125.02646806912963, 124.57871666224456, 121.75298878700781, 121.12191813871486, 118.68358749435257, 117.24726982039785, 114.09223853312679, 113.64383759221973, 107.55596265033044, 105.41325609799306, 102.57707197949134, 102.11337180707282, 99.97052043847197, 99.5361575335391, 95.81944612837523, 94.17118084706429, 92.69902583119433, 91.84307119500592, 90.19768002874495, 90.02440088346458, 89.72782451568429, 89.02644405582026, 234.6224518130555, 224.13392062029126, 123.80985771358493, 242.74983967917692, 201.88693422585095, 280.1882447706885, 197.6611968585234, 250.73773523360353, 410.96938609444607, 458.4109361007263, 458.41046102363896, 451.9896992399494, 449.9169853015608, 350.8043628474281, 309.9005334246985, 253.88806653954003, 253.4184769640855, 248.39971706870554, 242.5641326986852, 226.59305796836114, 218.40524717394172, 218.31550483122797, 179.42866285361123, 167.8170443052254, 163.39084719442232, 162.95264546642014, 159.51394369697698, 153.39760164701323, 151.27462326590268, 151.83562818168565, 151.83562818168565, 135.16687059186597, 135.00547507047457, 127.74194224727012, 121.43880763527984, 113.83345087839689, 109.57241355941332, 108.82179292711363, 106.53450809045458, 218.64269196165102, 682.9615186646685, 902.9907001109976, 1096.0053176023275, 552.1193245146083, 300.3557854197331, 495.8866770875133, 383.67457778662936, 669.3231448560443, 562.2417352356435, 524.6167318948103, 506.1281192439458, 480.4470571677348, 474.99847333022734, 474.58400789195497, 465.1753531239947, 452.292718744264, 447.6640787700888, 433.6597657472722, 411.82049297092163, 410.3587854191552, 408.55431225023665, 393.6554199609569, 393.22837195467457, 390.63185450240513, 386.89240029864783, 370.2476093250418, 88.27713036133923, 81.90090778960761, 76.34567154216215, 53.99487882793897, 50.498283135586156, 44.74042856781794, 40.62253082561136, 38.90728287070074, 38.884993927637446, 36.52397393307234, 36.26176430780079, 35.7320322487788, 601.6819561424638, 505.0763728408859, 482.8978092885901, 587.1224617283046, 537.1668338741462, 671.0480521475183, 703.5460867160909, 668.5197772466759, 732.1841674181271, 842.7772851607697, 817.810291944833, 1025.0854896029298, 1117.759336468371, 133.35590441796518, 108.8736434329422, 105.00478526362514, 95.21386561495667, 92.56853117824801, 89.58770097955387, 87.26848864330857, 83.26677901587207, 81.31232525824517, 75.56887352588645, 74.58857485957341, 74.35394574910133, 71.56695152737413, 65.00942863923034, 61.04327403139405, 56.607863436362855, 55.345497015571034, 53.040301547196016, 52.648422830628135, 52.46383947264436, 52.45553976949124, 51.65683225331366, 50.682724721115825, 49.51009461723825, 47.82615013776861, 46.555190172399726, 46.321161116774896, 45.409551374222204, 45.09587352804959, 45.030519766266025, 143.32660478473866, 271.4853713404052, 142.96357644696926, 124.01355307772836, 156.87941267408686, 176.6630724506476, 123.73448722319247, 120.58748152669676, 104.18650162542278, 96.85495063529709, 92.15954879368189, 87.93966500759805, 76.11265405779845, 70.18198006039096, 69.9406575804955, 69.56004625379332, 68.02256790583088, 65.40876864798335, 63.909999885248375, 63.10946453750286, 62.304048147065636, 61.969258636308936, 61.30377337633754, 57.04740914479685, 57.01397797202, 56.2958121040951, 54.68783876673127, 54.68783876673127, 51.41380475392935, 49.735476493797236, 49.65993069126306, 48.64527106309241, 48.53498365498364, 48.00698614820335, 47.34127546567092, 137.43572981611555, 241.16015129833693, 189.74081577809417, 354.29775023606595, 353.711986980293, 67.67629148364917, 876.4473327037601, 110.43563445672551, 92.36270167781763, 83.53883901399648, 69.6409159939071, 63.24403632496945, 62.85170752427386, 62.52119549593486, 61.360975031483946, 55.49784846566098, 47.35730552288013, 46.12340529677737, 45.72966568990724, 45.204454766497086, 43.2362172649586, 42.60755667443164, 41.43714878783631, 39.75575722148664, 38.6184044874789, 38.26455285062783, 37.765758858674175, 37.61465329266086, 37.03529399606642, 36.703941380423935, 36.10955569504831, 35.70982199182665, 35.54037275101687, 34.90450691984947, 34.3730311929159, 34.277961030999414, 72.16194197269446, 76.70175824056224, 153.4367763640637, 130.85775950603846, 97.72227173612175, 95.27157035106566, 81.68907532930861, 78.63313587645996, 66.6207705769613, 62.440551474483776, 56.86571032702961, 51.32967784763582, 50.671467674830865, 49.89720531331779, 47.0337596143752, 45.29922725444833, 45.26641471927974, 43.94777734079939, 42.95681698615728, 42.319425825046814, 42.0167609676459, 41.944729278136215, 40.587613259010496, 40.44318466899579, 40.109249194293255, 39.712654237741965, 39.11161364485451, 35.975452710103994, 35.769632242935515, 32.996109947084385, 32.9471348848984, 32.63340941465321, 32.10755222252514, 107.5949519074631], \"Category\": [\"Default\", \"Default\", \"Default\", \"Default\", \"Default\", \"Default\", \"Default\", \"Default\", \"Default\", \"Default\", \"Default\", \"Default\", \"Default\", \"Default\", \"Default\", \"Default\", \"Default\", \"Default\", \"Default\", \"Default\", \"Default\", \"Default\", \"Default\", \"Default\", \"Default\", \"Default\", \"Default\", \"Default\", \"Default\", \"Default\", \"Topic1\", \"Topic1\", \"Topic1\", \"Topic1\", \"Topic1\", \"Topic1\", \"Topic1\", \"Topic1\", \"Topic1\", \"Topic1\", \"Topic1\", \"Topic1\", \"Topic1\", \"Topic1\", \"Topic1\", \"Topic1\", \"Topic1\", \"Topic1\", \"Topic1\", \"Topic1\", \"Topic1\", \"Topic1\", \"Topic1\", \"Topic1\", \"Topic1\", \"Topic1\", \"Topic1\", \"Topic1\", \"Topic1\", \"Topic1\", \"Topic1\", \"Topic1\", \"Topic1\", \"Topic1\", \"Topic1\", \"Topic1\", \"Topic1\", \"Topic1\", \"Topic1\", \"Topic1\", \"Topic1\", \"Topic1\", \"Topic1\", \"Topic1\", \"Topic1\", \"Topic1\", \"Topic1\", \"Topic2\", \"Topic2\", \"Topic2\", \"Topic2\", \"Topic2\", \"Topic2\", \"Topic2\", \"Topic2\", \"Topic2\", \"Topic2\", \"Topic2\", \"Topic2\", \"Topic2\", \"Topic2\", \"Topic2\", \"Topic2\", \"Topic2\", \"Topic2\", \"Topic2\", \"Topic2\", \"Topic2\", \"Topic2\", \"Topic2\", \"Topic2\", \"Topic2\", \"Topic2\", \"Topic2\", \"Topic2\", \"Topic2\", \"Topic2\", \"Topic2\", \"Topic2\", \"Topic2\", \"Topic2\", \"Topic2\", \"Topic2\", \"Topic2\", \"Topic2\", \"Topic2\", \"Topic2\", \"Topic2\", \"Topic2\", \"Topic2\", \"Topic2\", \"Topic3\", \"Topic3\", \"Topic3\", \"Topic3\", \"Topic3\", \"Topic3\", \"Topic3\", \"Topic3\", \"Topic3\", \"Topic3\", \"Topic3\", \"Topic3\", \"Topic3\", \"Topic3\", \"Topic3\", \"Topic3\", \"Topic3\", \"Topic3\", \"Topic3\", \"Topic3\", \"Topic3\", \"Topic3\", \"Topic3\", \"Topic3\", \"Topic3\", \"Topic3\", \"Topic3\", \"Topic3\", \"Topic3\", \"Topic3\", \"Topic3\", \"Topic3\", \"Topic3\", \"Topic3\", \"Topic3\", \"Topic3\", \"Topic3\", \"Topic3\", \"Topic3\", \"Topic3\", \"Topic3\", \"Topic3\", \"Topic3\", \"Topic3\", \"Topic3\", \"Topic3\", \"Topic3\", \"Topic3\", \"Topic3\", \"Topic3\", \"Topic3\", \"Topic4\", \"Topic4\", \"Topic4\", \"Topic4\", \"Topic4\", \"Topic4\", \"Topic4\", \"Topic4\", \"Topic4\", \"Topic4\", \"Topic4\", \"Topic4\", \"Topic4\", \"Topic4\", \"Topic4\", \"Topic4\", \"Topic4\", \"Topic4\", \"Topic4\", \"Topic4\", \"Topic4\", \"Topic4\", \"Topic4\", \"Topic4\", \"Topic4\", \"Topic4\", \"Topic4\", \"Topic4\", \"Topic4\", \"Topic4\", \"Topic4\", \"Topic4\", \"Topic4\", \"Topic4\", \"Topic4\", \"Topic4\", \"Topic4\", \"Topic4\", \"Topic4\", \"Topic4\", \"Topic4\", \"Topic4\", \"Topic4\", \"Topic4\", \"Topic4\", \"Topic4\", \"Topic4\", \"Topic4\", \"Topic4\", \"Topic4\", \"Topic4\", \"Topic5\", \"Topic5\", \"Topic5\", \"Topic5\", \"Topic5\", \"Topic5\", \"Topic5\", \"Topic5\", \"Topic5\", \"Topic5\", \"Topic5\", \"Topic5\", \"Topic5\", \"Topic5\", \"Topic5\", \"Topic5\", \"Topic5\", \"Topic5\", \"Topic5\", \"Topic5\", \"Topic5\", \"Topic5\", \"Topic5\", \"Topic5\", \"Topic5\", \"Topic5\", \"Topic5\", \"Topic5\", \"Topic5\", \"Topic5\", \"Topic5\", \"Topic5\", \"Topic5\", \"Topic5\", \"Topic5\", \"Topic5\", \"Topic5\", \"Topic5\", \"Topic5\", \"Topic5\", \"Topic5\", \"Topic5\", \"Topic5\", \"Topic5\", \"Topic5\", \"Topic5\", \"Topic6\", \"Topic6\", \"Topic6\", \"Topic6\", \"Topic6\", \"Topic6\", \"Topic6\", \"Topic6\", \"Topic6\", \"Topic6\", \"Topic6\", \"Topic6\", \"Topic6\", \"Topic6\", \"Topic6\", \"Topic6\", \"Topic6\", \"Topic6\", \"Topic6\", \"Topic6\", \"Topic6\", \"Topic6\", \"Topic6\", \"Topic6\", \"Topic6\", \"Topic6\", \"Topic6\", \"Topic6\", \"Topic6\", \"Topic6\", \"Topic6\", \"Topic6\", \"Topic6\", \"Topic6\", \"Topic6\", \"Topic6\", \"Topic6\", \"Topic6\", \"Topic6\", \"Topic6\", \"Topic6\", \"Topic6\", \"Topic6\", \"Topic6\", \"Topic6\", \"Topic6\", \"Topic6\", \"Topic6\", \"Topic6\", \"Topic6\", \"Topic6\", \"Topic6\", \"Topic6\", \"Topic6\", \"Topic6\", \"Topic7\", \"Topic7\", \"Topic7\", \"Topic7\", \"Topic7\", \"Topic7\", \"Topic7\", \"Topic7\", \"Topic7\", \"Topic7\", \"Topic7\", \"Topic7\", \"Topic7\", \"Topic7\", \"Topic7\", \"Topic7\", \"Topic7\", \"Topic7\", \"Topic7\", \"Topic7\", \"Topic7\", \"Topic7\", \"Topic7\", \"Topic7\", \"Topic7\", \"Topic7\", \"Topic7\", \"Topic7\", \"Topic7\", \"Topic7\", \"Topic7\", \"Topic7\", \"Topic7\", \"Topic7\", \"Topic7\", \"Topic7\", \"Topic7\", \"Topic7\", \"Topic7\", \"Topic7\", \"Topic7\", \"Topic7\", \"Topic7\", \"Topic7\", \"Topic7\", \"Topic7\", \"Topic7\", \"Topic7\", \"Topic8\", \"Topic8\", \"Topic8\", \"Topic8\", \"Topic8\", \"Topic8\", \"Topic8\", \"Topic8\", \"Topic8\", \"Topic8\", \"Topic8\", \"Topic8\", \"Topic8\", \"Topic8\", \"Topic8\", \"Topic8\", \"Topic8\", \"Topic8\", \"Topic8\", \"Topic8\", \"Topic8\", \"Topic8\", \"Topic8\", \"Topic8\", \"Topic8\", \"Topic8\", \"Topic8\", \"Topic8\", \"Topic8\", \"Topic8\", \"Topic8\", \"Topic8\", \"Topic8\", \"Topic8\", \"Topic8\", \"Topic8\", \"Topic8\", \"Topic8\", \"Topic8\", \"Topic8\", \"Topic9\", \"Topic9\", \"Topic9\", \"Topic9\", \"Topic9\", \"Topic9\", \"Topic9\", \"Topic9\", \"Topic9\", \"Topic9\", \"Topic9\", \"Topic9\", \"Topic9\", \"Topic9\", \"Topic9\", \"Topic9\", \"Topic9\", \"Topic9\", \"Topic9\", \"Topic9\", \"Topic9\", \"Topic9\", \"Topic9\", \"Topic9\", \"Topic9\", \"Topic9\", \"Topic9\", \"Topic9\", \"Topic9\", \"Topic9\", \"Topic9\", \"Topic9\", \"Topic9\", \"Topic9\", \"Topic9\", \"Topic9\", \"Topic9\", \"Topic9\", \"Topic9\", \"Topic10\", \"Topic10\", \"Topic10\", \"Topic10\", \"Topic10\", \"Topic10\", \"Topic10\", \"Topic10\", \"Topic10\", \"Topic10\", \"Topic10\", \"Topic10\", \"Topic10\", \"Topic10\", \"Topic10\", \"Topic10\", \"Topic10\", \"Topic10\", \"Topic10\", \"Topic10\", \"Topic10\", \"Topic10\", \"Topic10\", \"Topic10\", \"Topic10\", \"Topic10\", \"Topic10\", \"Topic10\", \"Topic10\", \"Topic10\", \"Topic10\", \"Topic10\", \"Topic10\", \"Topic10\", \"Topic10\", \"Topic10\", \"Topic10\", \"Topic10\", \"Topic10\", \"Topic11\", \"Topic11\", \"Topic11\", \"Topic11\", \"Topic11\", \"Topic11\", \"Topic11\", \"Topic11\", \"Topic11\", \"Topic11\", \"Topic11\", \"Topic11\", \"Topic11\", \"Topic11\", \"Topic11\", \"Topic11\", \"Topic11\", \"Topic11\", \"Topic11\", \"Topic11\", \"Topic11\", \"Topic11\", \"Topic11\", \"Topic11\", \"Topic11\", \"Topic11\", \"Topic11\", \"Topic11\", \"Topic11\", \"Topic11\", \"Topic11\", \"Topic11\", \"Topic11\", \"Topic11\", \"Topic11\", \"Topic11\", \"Topic11\", \"Topic11\", \"Topic11\", \"Topic11\", \"Topic11\", \"Topic11\", \"Topic11\", \"Topic12\", \"Topic12\", \"Topic12\", \"Topic12\", \"Topic12\", \"Topic12\", \"Topic12\", \"Topic12\", \"Topic12\", \"Topic12\", \"Topic12\", \"Topic12\", \"Topic12\", \"Topic12\", \"Topic12\", \"Topic12\", \"Topic12\", \"Topic12\", \"Topic12\", \"Topic12\", \"Topic12\", \"Topic12\", \"Topic12\", \"Topic12\", \"Topic12\", \"Topic12\", \"Topic12\", \"Topic12\", \"Topic12\", \"Topic12\", \"Topic12\", \"Topic12\", \"Topic12\", \"Topic12\", \"Topic12\", \"Topic13\", \"Topic13\", \"Topic13\", \"Topic13\", \"Topic13\", \"Topic13\", \"Topic13\", \"Topic13\", \"Topic13\", \"Topic13\", \"Topic13\", \"Topic13\", \"Topic13\", \"Topic13\", \"Topic13\", \"Topic13\", \"Topic13\", \"Topic13\", \"Topic13\", \"Topic13\", \"Topic13\", \"Topic13\", \"Topic13\", \"Topic13\", \"Topic13\", \"Topic13\", \"Topic13\", \"Topic13\", \"Topic13\", \"Topic13\", \"Topic13\", \"Topic13\", \"Topic13\", \"Topic13\", \"Topic13\", \"Topic13\", \"Topic14\", \"Topic14\", \"Topic14\", \"Topic14\", \"Topic14\", \"Topic14\", \"Topic14\", \"Topic14\", \"Topic14\", \"Topic14\", \"Topic14\", \"Topic14\", \"Topic14\", \"Topic14\", \"Topic14\", \"Topic14\", \"Topic14\", \"Topic14\", \"Topic14\", \"Topic14\", \"Topic14\", \"Topic14\", \"Topic14\", \"Topic14\", \"Topic14\", \"Topic14\", \"Topic14\", \"Topic14\", \"Topic14\", \"Topic14\", \"Topic14\", \"Topic14\", \"Topic14\", \"Topic15\", \"Topic15\", \"Topic15\", \"Topic15\", \"Topic15\", \"Topic15\", \"Topic15\", \"Topic15\", \"Topic15\", \"Topic15\", \"Topic15\", \"Topic15\", \"Topic15\", \"Topic15\", \"Topic15\", \"Topic15\", \"Topic15\", \"Topic15\", \"Topic15\", \"Topic15\", \"Topic15\", \"Topic15\", \"Topic15\", \"Topic15\", \"Topic15\", \"Topic15\", \"Topic15\", \"Topic15\", \"Topic15\", \"Topic15\", \"Topic15\"], \"logprob\": [30.0, 29.0, 28.0, 27.0, 26.0, 25.0, 24.0, 23.0, 22.0, 21.0, 20.0, 19.0, 18.0, 17.0, 16.0, 15.0, 14.0, 13.0, 12.0, 11.0, 10.0, 9.0, 8.0, 7.0, 6.0, 5.0, 4.0, 3.0, 2.0, 1.0, -4.1121, -4.5159, -4.5846, -4.6247, -4.6456, -4.6488, -4.7979, -4.8234, -4.8252, -4.8321, -4.8329, -4.8623, -4.9457, -4.9532, -4.9533, -4.9788, -5.0328, -5.0615, -5.0692, -5.0984, -5.1021, -5.1735, -5.2045, -5.2136, -5.2565, -5.2839, -5.3293, -5.3621, -5.4096, -5.4564, -4.8607, -4.7949, -4.8045, -4.667, -4.7524, -4.1577, -5.0921, -5.0244, -4.9535, -4.8784, -4.6931, -4.9423, -4.8375, -5.0215, -4.9187, -4.9382, -5.0105, -4.6802, -4.7497, -4.9169, -5.1998, -5.2212, -5.2812, -5.3585, -5.3812, -5.4334, -5.4786, -5.48, -5.4911, -5.511, -5.5303, -5.2985, -5.5844, -5.6095, -5.63, -5.6564, -5.6859, -5.7093, -5.7148, -5.7156, -5.7257, -5.7359, -5.7377, -5.7442, -5.7597, -5.7837, -5.8087, -5.3794, -5.0274, -4.6689, -5.475, -5.6653, -5.2989, -5.3833, -5.3693, -5.5244, -5.4934, -5.6221, -5.5335, -5.5882, -5.5919, -4.4215, -4.8287, -5.0185, -5.2087, -5.2138, -5.2713, -5.4144, -5.4455, -5.493, -5.584, -5.6187, -5.6195, -5.6531, -5.6562, -5.7227, -5.7375, -5.7545, -5.7553, -5.7653, -5.7896, -5.8054, -5.8345, -5.8376, -5.8376, -5.8794, -5.8798, -5.8994, -5.9076, -5.9481, -5.9675, -5.2643, -5.545, -5.3794, -5.4641, -5.2086, -5.3911, -5.3042, -5.2425, -5.3805, -5.5317, -5.4411, -5.5117, -5.6278, -5.3654, -5.5482, -5.6223, -5.5351, -5.4904, -5.4309, -5.555, -5.5916, -4.1178, -4.2137, -4.3923, -4.5115, -4.6816, -4.8584, -4.9008, -4.9587, -4.965, -5.0704, -5.0794, -5.0986, -5.1258, -5.1281, -5.135, -5.1595, -5.2725, -5.2912, -5.3317, -5.3488, -5.3576, -5.3984, -5.4864, -5.4883, -5.4957, -5.5047, -5.5061, -5.5249, -5.5552, -5.5637, -4.4202, -4.1139, -4.9355, -4.7365, -4.9406, -5.1428, -5.1575, -5.3187, -4.7097, -4.762, -4.6981, -5.1204, -4.8905, -4.7702, -5.034, -4.9505, -4.8988, -4.9995, -4.9491, -5.0577, -5.1242, -4.0838, -4.2117, -5.0879, -5.1062, -5.1104, -5.1548, -5.2248, -5.2967, -5.2983, -5.3041, -5.3282, -5.3656, -5.404, -5.434, -5.4356, -5.4789, -5.4926, -5.5471, -5.5788, -5.5809, -5.6485, -5.6663, -5.7337, -5.7381, -5.8196, -5.8449, -5.5918, -5.8732, -5.915, -5.9288, -4.7629, -5.1155, -5.6437, -5.3791, -5.1145, -5.092, -5.0992, -5.0108, -5.0716, -5.0017, -5.2059, -5.0849, -4.6517, -5.1703, -5.3083, -5.2069, -3.3106, -3.5584, -4.2627, -4.2787, -4.3785, -4.6545, -4.8443, -4.9098, -3.8224, -5.2508, -5.265, -5.3703, -5.4009, -5.4731, -5.5615, -5.6341, -5.6346, -5.6719, -5.7636, -5.7778, -5.8459, -5.936, -5.9993, -6.0265, -6.0551, -6.0741, -6.1206, -6.267, -6.3751, -6.4118, -3.9118, -4.564, -4.0541, -4.4528, -4.9415, -4.0205, -4.6888, -4.5955, -4.3823, -5.1296, -5.1956, -4.8592, -4.6535, -4.6774, -4.8061, -4.4905, -4.3052, -4.5443, -4.4128, -4.8953, -4.9848, -5.0761, -4.9271, -4.9549, -4.9136, -3.7521, -4.3938, -4.5153, -4.6141, -4.6538, -4.6609, -4.8233, -4.8523, -5.0283, -5.0448, -5.1136, -5.1269, -5.1506, -5.2219, -5.2282, -5.2415, -5.2444, -5.2637, -5.2898, -5.338, -5.3464, -5.359, -5.3952, -5.4315, -5.4362, -5.438, -5.4611, -5.4808, -5.4994, -5.525, -4.8333, -4.5099, -4.9006, -4.4369, -4.7314, -4.9496, -4.7227, -5.1676, -4.7576, -4.9599, -5.161, -4.8629, -5.1163, -5.0336, -5.0272, -5.1292, -5.1437, -5.0464, -3.7759, -4.6184, -4.7768, -4.856, -5.0101, -5.0711, -5.1155, -5.3422, -5.3818, -5.4152, -5.4644, -5.4707, -5.5014, -5.537, -5.5487, -5.554, -5.5712, -5.5745, -5.623, -5.6344, -5.6618, -5.6701, -5.6771, -5.6777, -5.7167, -5.7361, -5.737, -5.7414, -5.7425, -5.7437, -5.0748, -5.3897, -5.5225, -5.2292, -5.4031, -5.5618, -5.2507, -5.5043, -5.5544, -5.4565, -4.7907, -4.9749, -5.128, -5.2174, -5.2313, -5.2656, -5.2929, -5.3541, -5.3718, -5.3754, -5.3985, -5.4038, -5.4243, -5.4365, -5.464, -5.468, -5.5235, -5.5438, -5.5713, -5.5759, -5.5973, -5.6017, -5.6401, -5.6576, -5.6736, -5.6829, -5.7012, -5.7031, -5.7065, -5.7144, -4.8587, -5.042, -5.4764, -5.1339, -5.2649, -5.17, -5.4076, -5.4776, -5.4838, -4.0209, -4.0209, -4.035, -4.0396, -4.2891, -4.4134, -4.6134, -4.6153, -4.6353, -4.6592, -4.7276, -4.7645, -4.7649, -4.962, -5.0293, -5.0562, -5.0589, -5.0803, -5.1197, -5.1337, -5.13, -5.13, -5.247, -5.2482, -5.3039, -5.3549, -5.4201, -5.4585, -5.4655, -5.4869, -4.8273, -3.9751, -3.8279, -3.8023, -4.4406, -4.9026, -4.7968, -5.0591, -5.1099, -3.621, -3.6904, -3.7263, -3.7785, -3.7899, -3.7908, -3.8109, -3.839, -3.8493, -3.8812, -3.9329, -3.9365, -3.9409, -3.9782, -3.9793, -3.9859, -3.9955, -4.0396, -5.4815, -5.5573, -5.6284, -5.98, -6.0482, -6.1717, -6.2705, -6.3147, -6.3153, -6.3795, -6.3869, -6.402, -3.6454, -3.8552, -3.9303, -3.8172, -3.9345, -3.7452, -3.7081, -3.9561, -3.9885, -3.9147, -3.9829, -3.8866, -3.9883, -4.8807, -5.0851, -5.1216, -5.2204, -5.2488, -5.2819, -5.3084, -5.3558, -5.3799, -5.454, -5.4672, -5.4704, -5.5091, -5.6065, -5.6704, -5.747, -5.7699, -5.8132, -5.8208, -5.8243, -5.8245, -5.8401, -5.8595, -5.8833, -5.9186, -5.9461, -5.9512, -5.9715, -5.9786, -5.9801, -5.4548, -5.1957, -5.6451, -5.7193, -5.9088, -4.3934, -4.7518, -4.7777, -4.9251, -4.9988, -5.0489, -5.0963, -5.2423, -5.3245, -5.328, -5.3335, -5.3562, -5.3959, -5.4194, -5.4322, -5.4452, -5.4507, -5.4616, -5.5347, -5.5353, -5.5482, -5.5777, -5.5777, -5.6405, -5.6743, -5.6758, -5.6969, -5.6992, -5.7103, -5.7246, -4.7706, -4.3879, -4.6356, -4.7526, -5.3846, -5.665, -2.7279, -4.8067, -4.9871, -5.0886, -5.2728, -5.3705, -5.3768, -5.3822, -5.4012, -5.5032, -5.6648, -5.6917, -5.7005, -5.7123, -5.7577, -5.7727, -5.8012, -5.8436, -5.8733, -5.8827, -5.8962, -5.9003, -5.9162, -5.9254, -5.9422, -5.9536, -5.9585, -5.977, -5.9928, -5.9957, -5.4983, -5.5187, -5.9153, -4.3781, -4.6725, -4.6982, -4.8536, -4.8922, -5.0602, -5.1259, -5.2209, -5.3252, -5.3383, -5.354, -5.4142, -5.4526, -5.4533, -5.4835, -5.5068, -5.5221, -5.5294, -5.5312, -5.5648, -5.5685, -5.577, -5.5871, -5.6028, -5.6885, -5.6944, -5.7773, -5.7789, -5.7887, -5.8054, -5.1331], \"loglift\": [30.0, 29.0, 28.0, 27.0, 26.0, 25.0, 24.0, 23.0, 22.0, 21.0, 20.0, 19.0, 18.0, 17.0, 16.0, 15.0, 14.0, 13.0, 12.0, 11.0, 10.0, 9.0, 8.0, 7.0, 6.0, 5.0, 4.0, 3.0, 2.0, 1.0, 1.3072, 1.307, 1.307, 1.307, 1.3069, 1.3069, 1.3068, 1.3068, 1.3068, 1.3068, 1.3068, 1.3068, 1.3067, 1.3067, 1.3067, 1.3067, 1.3067, 1.3066, 1.3066, 1.3066, 1.3066, 1.3065, 1.3065, 1.3065, 1.3064, 1.3064, 1.3064, 1.3063, 1.3063, 1.3062, 1.3007, 1.2976, 1.2963, 1.291, 1.2896, 1.245, 1.2948, 1.285, 1.264, 1.2177, 1.0907, 1.202, 1.0429, 1.2356, 1.0259, 1.0077, 1.1681, 2.3173, 2.3171, 2.3168, 2.3161, 2.316, 2.3158, 2.3156, 2.3155, 2.3153, 2.3151, 2.3151, 2.3151, 2.315, 2.3149, 2.3149, 2.3147, 2.3146, 2.3145, 2.3144, 2.3143, 2.3142, 2.3141, 2.3141, 2.3141, 2.314, 2.314, 2.314, 2.3139, 2.3138, 2.3137, 2.3006, 2.0618, 1.675, 2.1227, 2.2472, 1.9036, 1.7757, 1.6745, 1.8923, 1.6918, 2.0463, 1.4451, 1.6433, 1.4828, 2.3371, 2.3365, 2.336, 2.3355, 2.3355, 2.3353, 2.3348, 2.3347, 2.3345, 2.3342, 2.334, 2.334, 2.3338, 2.3338, 2.3335, 2.3334, 2.3333, 2.3333, 2.3333, 2.3332, 2.3331, 2.3329, 2.3329, 2.3329, 2.3327, 2.3327, 2.3325, 2.3325, 2.3323, 2.3321, 2.2955, 2.3052, 2.287, 2.2766, 2.228, 2.2364, 2.155, 2.1302, 2.1179, 2.1162, 1.9437, 1.9998, 2.1244, 1.6129, 1.855, 2.0364, 1.7731, 1.56, 1.1325, 1.6945, 1.3956, 2.3728, 2.3727, 2.3724, 2.3723, 2.372, 2.3716, 2.3715, 2.3714, 2.3714, 2.3711, 2.3711, 2.371, 2.3709, 2.3709, 2.3709, 2.3708, 2.3705, 2.3704, 2.3703, 2.3702, 2.3702, 2.3701, 2.3697, 2.3697, 2.3697, 2.3696, 2.3696, 2.3695, 2.3694, 2.3694, 2.3607, 2.2836, 2.3194, 2.2883, 2.2523, 2.2917, 2.2771, 2.3172, 2.1156, 2.0939, 2.0195, 2.2119, 1.9694, 1.8195, 2.0378, 1.8609, 1.6974, 1.8691, 1.6202, 1.742, 2.0241, 2.6746, 2.6744, 2.6723, 2.6723, 2.6722, 2.6721, 2.6718, 2.6715, 2.6715, 2.6714, 2.6713, 2.6712, 2.671, 2.6708, 2.6708, 2.6706, 2.6705, 2.6702, 2.67, 2.67, 2.6696, 2.6695, 2.669, 2.669, 2.6684, 2.6682, 2.6681, 2.668, 2.6677, 2.6676, 2.6583, 2.6024, 2.6388, 2.551, 2.4405, 2.4294, 2.4307, 2.388, 2.3471, 2.2842, 2.3676, 2.2621, 1.8837, 1.8283, 1.7722, 1.0554, 2.9277, 2.9274, 2.9264, 2.9263, 2.9261, 2.9254, 2.9247, 2.9245, 2.923, 2.9229, 2.9228, 2.9222, 2.922, 2.9215, 2.9209, 2.9203, 2.9203, 2.92, 2.9192, 2.919, 2.9184, 2.9174, 2.9167, 2.9164, 2.916, 2.9158, 2.9152, 2.9131, 2.9114, 2.9107, 2.907, 2.8858, 2.81, 2.8025, 2.8132, 2.7207, 2.7214, 2.6579, 2.5942, 2.7266, 2.7276, 2.5968, 2.4588, 2.4031, 2.4415, 2.2503, 2.0213, 2.1361, 1.8446, 2.3705, 2.3381, 2.5251, 2.1748, 1.8583, 1.3078, 2.9911, 2.9899, 2.9896, 2.9893, 2.9892, 2.9891, 2.9885, 2.9884, 2.9877, 2.9876, 2.9872, 2.9872, 2.987, 2.9867, 2.9866, 2.9865, 2.9865, 2.9864, 2.9862, 2.9859, 2.9859, 2.9858, 2.9856, 2.9853, 2.9853, 2.9853, 2.9851, 2.9849, 2.9848, 2.9846, 2.9376, 2.8512, 2.8467, 2.4709, 2.6147, 2.6465, 2.474, 2.7857, 2.4105, 2.5104, 2.7142, 2.2292, 2.6325, 2.4281, 2.3598, 2.6344, 2.6147, 1.6739, 3.0233, 3.0215, 3.0209, 3.0206, 3.0199, 3.0196, 3.0193, 3.018, 3.0177, 3.0175, 3.0171, 3.0171, 3.0168, 3.0165, 3.0164, 3.0164, 3.0162, 3.0162, 3.0158, 3.0157, 3.0154, 3.0154, 3.0153, 3.0153, 3.0149, 3.0147, 3.0147, 3.0147, 3.0147, 3.0146, 2.7307, 2.7615, 2.8209, 2.5065, 2.5869, 2.7693, 2.0045, 2.5562, 2.6006, 1.7813, 3.0794, 3.0786, 3.0777, 3.0772, 3.0771, 3.0769, 3.0767, 3.0763, 3.0761, 3.0761, 3.0759, 3.0759, 3.0757, 3.0756, 3.0754, 3.0754, 3.0749, 3.0748, 3.0745, 3.0745, 3.0743, 3.0742, 3.0739, 3.0737, 3.0735, 3.0735, 3.0733, 3.0732, 3.0732, 3.0731, 2.9598, 2.8222, 2.9813, 2.6505, 2.7039, 2.471, 2.5823, 2.2745, 1.7741, 3.1278, 3.1278, 3.1278, 3.1278, 3.1272, 3.1268, 3.1262, 3.1262, 3.1261, 3.126, 3.1257, 3.1256, 3.1256, 3.1246, 3.1243, 3.1241, 3.1241, 3.124, 3.1238, 3.1237, 3.1237, 3.1237, 3.123, 3.1229, 3.1226, 3.1222, 3.1217, 3.1213, 3.1213, 3.1211, 3.0618, 2.7749, 2.6428, 2.4747, 2.5221, 2.6689, 2.2734, 2.2676, 1.6603, 3.3235, 3.3234, 3.3234, 3.3233, 3.3232, 3.3232, 3.3232, 3.3231, 3.3231, 3.323, 3.3229, 3.3229, 3.3229, 3.3228, 3.3228, 3.3228, 3.3228, 3.3227, 3.3144, 3.3136, 3.3128, 3.3075, 3.3063, 3.3039, 3.3017, 3.3006, 3.3006, 3.299, 3.2988, 3.2984, 3.2313, 3.1965, 3.1663, 3.084, 3.0556, 3.0224, 3.0122, 2.8153, 2.692, 2.625, 2.5869, 2.4574, 2.2691, 3.5028, 3.5012, 3.5009, 3.5, 3.4997, 3.4994, 3.4991, 3.4986, 3.4983, 3.4974, 3.4973, 3.4972, 3.4967, 3.4954, 3.4945, 3.4933, 3.4929, 3.4922, 3.4921, 3.492, 3.492, 3.4917, 3.4914, 3.4909, 3.4903, 3.4897, 3.4896, 3.4892, 3.4891, 3.4891, 2.8565, 2.4769, 2.6688, 2.7367, 2.3122, 3.7088, 3.7066, 3.7064, 3.7052, 3.7045, 3.704, 3.7035, 3.7019, 3.7009, 3.7008, 3.7008, 3.7005, 3.6999, 3.6996, 3.6994, 3.6992, 3.6991, 3.699, 3.6978, 3.6978, 3.6976, 3.6971, 3.6971, 3.6961, 3.6955, 3.6954, 3.695, 3.695, 3.6948, 3.6945, 3.5827, 3.4031, 3.3952, 2.6538, 2.0234, 3.3967, 3.7726, 3.7653, 3.7636, 3.7625, 3.7603, 3.7589, 3.7589, 3.7588, 3.7585, 3.7569, 3.7539, 3.7534, 3.7532, 3.753, 3.752, 3.7517, 3.7511, 3.7501, 3.7494, 3.7492, 3.7488, 3.7488, 3.7484, 3.7481, 3.7477, 3.7474, 3.7473, 3.7468, 3.7464, 3.7463, 3.4992, 3.4179, 2.3278, 4.0242, 4.0218, 4.0215, 4.0199, 4.0195, 4.0173, 4.0163, 4.0149, 4.013, 4.0128, 4.0125, 4.0114, 4.0106, 4.0106, 4.01, 4.0095, 4.0091, 4.009, 4.0089, 4.0082, 4.0081, 4.0079, 4.0076, 4.0073, 4.0051, 4.005, 4.0027, 4.0027, 4.0024, 4.0019, 3.465]}, \"token.table\": {\"Topic\": [11, 3, 2, 6, 12, 15, 11, 4, 14, 13, 13, 12, 8, 1, 10, 1, 4, 7, 10, 1, 7, 11, 2, 3, 4, 10, 7, 7, 12, 3, 1, 12, 4, 12, 7, 14, 14, 7, 8, 6, 7, 5, 2, 5, 9, 15, 1, 4, 10, 10, 9, 12, 7, 1, 2, 3, 7, 11, 1, 2, 7, 11, 15, 5, 5, 11, 4, 5, 9, 8, 11, 1, 8, 15, 12, 8, 13, 2, 13, 3, 13, 8, 5, 8, 9, 15, 8, 6, 3, 4, 4, 6, 9, 13, 1, 12, 7, 5, 8, 4, 3, 8, 6, 13, 13, 10, 13, 3, 4, 5, 1, 6, 10, 6, 5, 6, 7, 7, 6, 8, 5, 6, 7, 13, 9, 5, 7, 9, 15, 9, 2, 6, 12, 13, 5, 13, 13, 9, 1, 11, 15, 3, 1, 2, 3, 6, 15, 2, 11, 2, 3, 8, 12, 12, 1, 10, 11, 7, 11, 6, 7, 12, 1, 3, 10, 1, 13, 3, 13, 1, 11, 11, 2, 5, 6, 12, 2, 1, 3, 7, 4, 1, 9, 1, 11, 1, 5, 7, 2, 12, 6, 2, 15, 10, 1, 7, 10, 13, 1, 9, 1, 2, 10, 8, 1, 11, 7, 7, 2, 5, 3, 3, 10, 10, 9, 2, 7, 8, 11, 11, 5, 3, 10, 14, 11, 11, 11, 9, 14, 8, 1, 9, 10, 12, 13, 6, 5, 2, 8, 15, 13, 14, 1, 3, 7, 1, 8, 1, 6, 11, 1, 11, 5, 6, 2, 4, 2, 12, 7, 11, 10, 10, 11, 2, 4, 5, 6, 15, 11, 3, 7, 12, 5, 13, 8, 8, 7, 1, 2, 3, 10, 2, 2, 9, 3, 4, 9, 13, 10, 4, 3, 5, 9, 2, 4, 7, 8, 5, 5, 1, 13, 5, 6, 3, 5, 12, 8, 1, 1, 5, 10, 3, 2, 1, 6, 2, 5, 5, 15, 1, 13, 5, 8, 9, 8, 9, 1, 1, 6, 14, 4, 5, 1, 5, 9, 2, 12, 5, 11, 1, 2, 4, 7, 15, 1, 2, 3, 6, 4, 1, 13, 1, 14, 11, 1, 4, 1, 5, 14, 9, 4, 8, 9, 4, 1, 4, 13, 1, 4, 8, 5, 13, 8, 11, 7, 11, 2, 4, 5, 6, 7, 14, 3, 14, 1, 5, 3, 5, 1, 10, 13, 9, 4, 6, 13, 4, 10, 12, 2, 7, 10, 2, 3, 1, 10, 12, 14, 7, 3, 11, 11, 14, 1, 3, 12, 6, 7, 10, 11, 2, 2, 2, 12, 2, 3, 1, 3, 5, 8, 14, 2, 3, 5, 8, 1, 9, 1, 3, 2, 3, 3, 4, 6, 1, 4, 5, 15, 1, 7, 1, 6, 15, 4, 12, 4, 5, 9, 6, 1, 2, 4, 2, 5, 7, 5, 6, 10, 1, 8, 3, 10, 12, 3, 4, 1, 8, 4, 15, 3, 15, 6, 1, 10, 11, 8, 4, 1, 5, 13, 2, 1, 4, 5, 7, 13, 10, 9, 1, 4, 5, 10, 6, 1, 1, 15, 2, 10, 1, 6, 10, 1, 2, 3, 5, 9, 6, 5, 9, 8, 6, 1, 7, 14, 10, 4, 1, 6, 7, 11, 2, 8, 2, 4, 1, 5, 6, 10, 3, 10, 8, 1, 2, 3, 5, 9, 1, 2, 10, 1, 10, 11, 1, 11, 10, 12, 5, 6, 3, 10, 1, 3, 4, 1, 4, 11, 4, 5, 7, 1, 6, 4, 6, 14, 7, 14, 1, 4, 5, 5, 10, 1, 6, 9, 12, 7, 9, 15, 14, 9, 4, 7, 9, 14, 14, 8, 10, 3, 3, 1, 2, 5, 6, 7, 6, 11, 11, 4, 1, 8, 12, 1, 6, 7, 3, 6, 11, 2, 9, 7, 11, 3, 12, 13, 6, 7, 5, 7, 2, 1, 4, 10, 10, 12, 2, 1, 5, 7, 2, 5, 7, 9, 4, 4, 2, 1, 6, 11, 15, 3, 14, 1, 4, 8, 13, 9, 12, 1, 7, 7, 14, 1, 3, 7, 1, 5, 6, 10, 2, 3, 7, 11, 11, 3, 1, 6, 9, 10, 5, 1, 6, 11, 2, 7, 12, 1, 7, 9, 5, 3, 10, 3, 4, 3, 7, 1, 5, 8, 10, 5, 1, 2, 7, 10, 9, 3, 5, 2, 3, 11, 1, 4, 6, 7, 2, 15, 15, 2, 3, 5, 7, 15, 13, 5, 6, 4, 1, 10, 10, 10, 6, 15, 3, 6, 2, 5, 1, 11, 3, 4, 6, 1, 11, 10, 1, 6, 7, 10, 1, 3, 15, 1, 2, 3, 5, 10, 14, 6, 5, 6, 9, 5, 1, 8, 3, 6, 2, 2, 12, 12, 11, 11, 11, 3, 8, 15, 7, 3, 5, 6, 15, 15, 13, 3, 14, 7, 10, 1, 13, 3, 15, 1, 4, 2, 1, 5, 6, 10, 9, 3, 3, 11, 2, 3, 3, 5, 1, 5, 6, 11, 6, 6, 15, 5, 5, 15, 15, 6, 1, 10, 4, 7, 10, 13, 1, 14, 9, 4, 5, 7, 9, 1, 3, 4, 13, 2, 7, 8, 1, 11, 1, 4, 1, 4, 9, 14, 5, 6, 1, 10, 7, 1, 4, 4, 2, 5, 6, 1, 2, 10, 15, 10, 5, 5, 6, 14, 14, 13, 9, 1, 4, 4, 6, 10, 1, 7, 14, 2, 14, 6, 6, 12, 1, 11, 10, 5, 7, 10, 7, 1, 2, 6, 5, 6, 3, 5, 1, 3, 14, 1, 4, 5, 14, 8, 6, 10, 1, 1, 12, 5, 3, 9, 13, 8, 5, 6, 10, 1, 4, 6, 8, 1, 10, 8, 11, 8, 3, 14], \"Freq\": [0.9986432348561355, 0.9968436201265877, 0.9966878701482109, 0.9970785478031143, 0.9714782383488991, 0.9866532025621069, 0.9974733116961134, 0.9973250825764395, 0.9857406356559227, 0.9716679482654934, 0.985212235899882, 0.9892618551652952, 0.9904914519352039, 0.9932031248009598, 0.006502148116536562, 0.40974167351829427, 0.058139021242460676, 0.5315567656453547, 0.997810350011043, 0.037470887990282115, 0.17543188468177534, 0.785185425614548, 0.32321976700729765, 0.6740651551263301, 0.9983417969021852, 0.9977070899549276, 0.99495543407689, 0.9900207192441319, 0.9847865015214459, 0.9918973637522401, 0.9992024169888426, 0.9872511675992074, 0.9960900555369147, 0.9756891330257186, 0.9990508205131479, 0.9994896068627648, 0.9808210956657809, 0.9909824634144945, 0.9981844861705287, 0.9979596577956384, 0.9969673980873636, 0.998186631860561, 0.061792007853946694, 0.2842432361281548, 0.6467563488713087, 0.9934451001661931, 0.45219146330569815, 0.47052354965592913, 0.07699476267097022, 0.9924482688163018, 0.9932660545207607, 0.9896971593130293, 0.9892226561317411, 0.32915766798492196, 0.04800215991446779, 0.0291441685194983, 0.5931695475144948, 0.9772407338089247, 0.10238904662696666, 0.05212533282827393, 0.08191123730157332, 0.7632638021282968, 0.9780209019467956, 0.9907494323675365, 0.9971214650793963, 0.965204001187296, 0.8846481329102615, 0.11172102709433714, 0.9948629289143209, 0.9878619849998487, 0.9966303379316447, 0.2883988189560393, 0.6476324355504041, 0.060715540832850384, 0.980386583091532, 0.9925355832252023, 0.9784620827283104, 0.26538381094655317, 0.733952102149061, 0.11641805243372644, 0.8804115215300562, 0.9862308779930391, 0.13030276394325332, 0.6243674105614222, 0.23888840056263108, 0.9712528907837591, 0.9904373648751581, 0.9952294309173707, 0.9678933593637593, 0.03079660688884689, 0.7150639888796904, 0.2827936679185216, 0.9890967090071576, 0.9790696080616224, 0.9997031299780468, 0.9829092713661214, 0.9968272430642311, 0.7892683868261502, 0.2063232712450102, 0.9977102870235558, 0.18011787672837007, 0.8141328028122327, 0.9805040042861374, 0.9893146624163639, 0.9911728762475306, 0.9330291269729734, 0.06403141067461582, 0.9939145063453771, 0.9087832048792204, 0.09000728227238285, 0.9877509342512683, 0.0040731997288712095, 0.008146399457742419, 0.985205697577958, 0.20462928014666248, 0.23576851842985025, 0.5582820577914378, 0.99667352524324, 0.22061031333763365, 0.7756943275420022, 0.2521409950406034, 0.7178602447038355, 0.026697281827828594, 0.9849672257706221, 0.9946134395095728, 0.9931837072495032, 0.22754253286989026, 0.7718599644410004, 0.9715784254020224, 0.9902192548803508, 0.9960452902785121, 0.9987892747454666, 0.9865294392739824, 0.986550632878839, 0.26878771333862905, 0.727307930210408, 0.9831583540479497, 0.9908205247926012, 0.9773020177101533, 0.021675936747669745, 0.9867486041821443, 0.9939207471205034, 0.5710752611253287, 0.12758064344289258, 0.29890322178049117, 0.9834873272359298, 0.9847762329521431, 0.9975351670656807, 0.9977914566674366, 0.6606976477192341, 0.26704155796317475, 0.07136455428326222, 0.9913156976080497, 0.9876839077836361, 0.754420733577639, 0.03402417879101234, 0.21068818405203796, 0.26721774671154636, 0.7305846904773129, 0.2981401061014304, 0.6996354489846899, 0.9756990287067406, 0.8996825275409408, 0.010387098452959351, 0.08948884821011134, 0.9990695413767264, 0.991948736610238, 0.9951455084249354, 0.9853814839126025, 0.5209032023636316, 0.47810599090183087, 0.9890000268138428, 0.22100638315708096, 0.06630191494712429, 0.35361021305132956, 0.3572936527706142, 0.9979179276557623, 0.3195460915916939, 0.2123435318318998, 0.4659188174175666, 0.9965330136034871, 0.45326669612402637, 0.5424924237074962, 0.4684613725116561, 0.5312870959388752, 0.3524783816607749, 0.050354054522967845, 0.5950933716350745, 0.9950186184343521, 0.9904310526315299, 0.9934716656822529, 0.9977912943290858, 0.9855223500021882, 0.9963865946658689, 0.20206116483666406, 0.09517373706074757, 0.7013572315707398, 0.984359040956139, 0.9991563647839766, 0.9963187545779908, 0.2710630467099566, 0.3049459275487012, 0.4222328227597401, 0.9887824778889811, 0.25929588714721297, 0.7391422989943542, 0.9977252969435679, 0.9976388369326845, 0.9971842174345199, 0.9950235365813394, 0.9978442195468471, 0.9481801759312625, 0.04759205516257302, 0.994496494718053, 0.9918885304573827, 0.9938603637325, 0.9961682501051429, 0.9938025554553317, 0.979513276947638, 0.9990694975417891, 0.9971954625897148, 0.9930302130424605, 0.2868252371868801, 0.7040255821859784, 0.982373964168761, 0.9978979441276369, 0.9815745705975326, 0.9907372822693413, 0.9864489357915228, 0.9963678252947459, 0.4426936372245095, 0.4466818681904961, 0.11167046704762403, 0.9827259744849044, 0.9919514854831334, 0.9913118642281554, 0.9973985615906381, 0.9959026932833233, 0.4275293513729365, 0.5669410963858507, 0.9816396719763674, 0.9713390466815227, 0.1636620877125521, 0.8331888101729925, 0.9952213858587537, 0.6382537919968382, 0.36159625478147867, 0.8051246980479162, 0.033987963031780546, 0.16046775988775078, 0.9990963622623307, 0.9983350414405017, 0.7200781287732704, 0.2771729305198699, 0.05326313409013365, 0.94453291119837, 0.9940640545751965, 0.9838606846615533, 0.8652802514560808, 0.1309827903580306, 0.9973827178392908, 0.994191866553634, 0.9976934147634873, 0.14391210490528264, 0.7042971194607014, 0.09594140327018842, 0.052331674511011866, 0.9820189265574294, 0.9980076441436838, 0.04876967484428365, 0.9469445198931742, 0.9872846974028004, 0.9625968503049085, 0.03389425529242636, 0.9960058924819152, 0.9982020481083209, 0.9933155613091635, 0.10071346941757796, 0.7728217245103941, 0.06577206166045908, 0.05755055395290169, 0.9979448395836259, 0.9981353859725461, 0.9902919337199081, 0.7410982128550891, 0.19980589072073482, 0.058125350027850124, 0.976982087020984, 0.9939742949899736, 0.9941823132761277, 0.32279913129134086, 0.6756260887493182, 0.9884703464604666, 0.5339954291192698, 0.3484546444252862, 0.07466885237684703, 0.04299115742909375, 0.9970434540039693, 0.9954151836048759, 0.9994129831674128, 0.9874224547496708, 0.1841659935515126, 0.8131636946043711, 0.43345394300569146, 0.2613472303416669, 0.2995931664892279, 0.9925873758704382, 0.9989785009975374, 0.2626243885367999, 0.19198748403379856, 0.5451720065488054, 0.9922377979271098, 0.9976863134525666, 0.9144407083500371, 0.08527673549975368, 0.9956600917617728, 0.9947628599428974, 0.9970012186411005, 0.9720230831813514, 0.9989740347766671, 0.9940640056004143, 0.9904619661362103, 0.9892470711365511, 0.9865931842890872, 0.3120558556281898, 0.6835509218522253, 0.9985950814143393, 0.5953189383998295, 0.40358981170101166, 0.9740862427328806, 0.570719943840192, 0.42803995788014404, 0.3288455247315129, 0.06070994302735623, 0.6070994302735623, 0.5595830909397759, 0.43367689547832633, 0.9826357783143389, 0.014324136710121558, 0.08803620852945644, 0.7629804739219558, 0.07336350710788037, 0.07703168246327438, 0.9926089342450808, 0.4008559178856889, 0.04991202090405465, 0.20432733557597374, 0.34314514371537574, 0.9982984990897954, 0.9992512603662671, 0.9867351738619053, 0.9993104657306224, 0.983986793455452, 0.9766808986966301, 0.8699055649606129, 0.1298243095996352, 0.5458450957990166, 0.4525079473831674, 0.962717705704733, 0.9893620565979195, 0.9974866412912274, 0.7447020959746399, 0.25244138846597963, 0.9971509496662769, 0.21486407811289226, 0.5993576915780678, 0.18376532996497363, 0.08094163031067134, 0.9173384768542752, 0.9944491858044547, 0.9962872419550828, 0.9951281715211318, 0.985835793364781, 0.9901326717534479, 0.9914957941432161, 0.996876186861674, 0.5819121354572055, 0.1454780338643014, 0.18515386128183814, 0.024246338977383566, 0.06392216639492031, 0.9836592062173602, 0.9979925297319376, 0.990796847158599, 0.21397524594826658, 0.7824467948854524, 0.9946928371296642, 0.996124040288131, 0.38427859772791234, 0.6146242701411855, 0.9962466833535184, 0.9948309453364487, 0.995542324147995, 0.997029910821086, 0.9787325754267391, 0.99767760987989, 0.9944026300643953, 0.9920780260263388, 0.8202916582633154, 0.08886492964519249, 0.08544704773576202, 0.09507006611557395, 0.9014050713180345, 0.9834835995751853, 0.015916120289820937, 0.9938582672641391, 0.9960553089691696, 0.9924517611555325, 0.08808640421892737, 0.9107801794711736, 0.9983824808573023, 0.9894503169106889, 0.18557747458909812, 0.8132659915816358, 0.9771150816909285, 0.37911887672437317, 0.14922764296597668, 0.4255004414300146, 0.0443649749358309, 0.9973109952684742, 0.9963339380499521, 0.9982969938507731, 0.9880745805066248, 0.4298558513716132, 0.5680238035982031, 0.46402875619289796, 0.3897841552020343, 0.14663308695695576, 0.990737108391661, 0.9778201856996953, 0.055205869338638434, 0.9384997787568534, 0.9917959510113782, 0.9915587701544305, 0.9994019585412411, 0.9943742595849615, 0.9992435303729111, 0.9969476823949536, 0.10182602920503314, 0.8960690570042916, 0.233603002658257, 0.14931325943105087, 0.6141109863696447, 0.38453830305495573, 0.599381565490518, 0.015568352350403065, 0.9688222181817526, 0.9991529221953811, 0.9903351558250059, 0.9984355438020363, 0.9995035981013943, 0.974095340095787, 0.9952551058947485, 0.9934399368090939, 0.946071783441687, 0.05094232680070622, 0.9914480185235326, 0.9968488138515178, 0.9992984473210456, 0.9944052592178193, 0.9970371867788416, 0.6530868676299514, 0.3450808339878782, 0.9962159355616452, 0.10396849257617102, 0.8917297632494668, 0.9947759336422489, 0.9992561289244069, 0.9977527565186602, 0.9575831326545845, 0.03948796423317874, 0.9911588729054759, 0.9938586985881035, 0.9994527719467677, 0.7106290497859639, 0.2885440101479921, 0.9978423357771558, 0.9713189974047349, 0.998330463350893, 0.977726073454986, 0.987514667753367, 0.7410295732133795, 0.027518339588825762, 0.23128509225846414, 0.9927675762868595, 0.997448031255181, 0.21533799579850307, 0.7821836023857391, 0.9874180287462369, 0.9956261248305726, 0.03774204773259483, 0.9203253177871201, 0.03774204773259483, 0.9909353187030738, 0.9857612284950352, 0.9949827703714486, 0.9953546105004953, 0.17208554919747573, 0.7720168216290425, 0.02210273108958404, 0.03315409663437606, 0.9879807799653588, 0.999402755711207, 0.9991162617028786, 0.9919482306103794, 0.9966991789080997, 0.9935658726512987, 0.9576554797149495, 0.018052751412938904, 0.023210680388064304, 0.3211918076293515, 0.009733085079677318, 0.2554934833415296, 0.1411297336553211, 0.27009311096104555, 0.9814053031808586, 0.11081633406813302, 0.8822685058501359, 0.993109901100437, 0.9840225988297704, 0.998424695623907, 0.9949174085196877, 0.9809899930398464, 0.9967780641299089, 0.9960856490963721, 0.2701833839779746, 0.3381765534558755, 0.0429430544070953, 0.34801767009083484, 0.9317856962031988, 0.06555276254695871, 0.997690282761028, 0.9969696352760083, 0.26021545396065776, 0.262297177592343, 0.47046954076086916, 0.004163447263370524, 0.3662323329190419, 0.6292537356518084, 0.9942492774288713, 0.33298844778409453, 0.02759572771691391, 0.48384509263655723, 0.1545360752147179, 0.9867216093766129, 0.48818010313225163, 0.509508360065214, 0.9943650617431323, 0.9301562605149486, 0.04024714588766604, 0.02862019263122919, 0.11879391558650831, 0.8790749753401615, 0.9926783307370061, 0.9919756204955124, 0.11649536224690878, 0.8809961769922476, 0.9932437616792039, 0.9969221150945311, 0.03860539541936623, 0.5259985125888649, 0.43431069846787007, 0.285705833246461, 0.1121881544161496, 0.5998326656116798, 0.8492598216364653, 0.08387751324804596, 0.06290813493603446, 0.17703795599519975, 0.8188005464777989, 0.9973337369986325, 0.9883142264034537, 0.9797234616272436, 0.997963293256131, 0.9916636991375389, 0.29766943014219527, 0.7016493710494602, 0.99722654914428, 0.9904712129580161, 0.996502133591215, 0.24007036008225108, 0.6687674316576995, 0.08916899088769326, 0.9844725809723363, 0.9969841583032371, 0.9046129449489779, 0.08884591423606034, 0.9720457465201604, 0.9973873745465831, 0.9979265386818528, 0.9946555924064899, 0.9924591890267837, 0.9801224998548266, 0.991029409618122, 0.9871984989899806, 0.9970941210886386, 0.9940580268208289, 0.9943894244622143, 0.7138331756048996, 0.015283581845444953, 0.19778752976458175, 0.07012466964380626, 0.0017980684524052887, 0.9928222365773106, 0.9846752328582424, 0.9985165690043453, 0.9968964020355761, 0.9993951078026311, 0.7668039263136863, 0.2258802263559696, 0.012854387216475935, 0.716173002060802, 0.2699421315459946, 0.8015476658605578, 0.1949710538579735, 0.9988244143632575, 0.9976911820035008, 0.9938154389924253, 0.1449582057601891, 0.8531825824742558, 0.9982550358074541, 0.9898324380620187, 0.9874224547496708, 0.9951123277232143, 0.9967818192224841, 0.6622841772737935, 0.33779152816775815, 0.994188645936158, 0.28926934357980616, 0.6667903513026041, 0.04249154199477379, 0.994496494718053, 0.9924721184881554, 0.9951207950904897, 0.9991818313618162, 0.8815929359745038, 0.11436881331561131, 0.1249058661227902, 0.1860300133743684, 0.6856534778655292, 0.9917899938710412, 0.9957816154457831, 0.997747376898498, 0.9989891468703255, 0.7676837404469793, 0.025159898767646804, 0.20680209474870664, 0.992944465350153, 0.9966348096531888, 0.984043931244652, 0.42408546138076814, 0.5750099932251003, 0.990616624055294, 0.9822152740768656, 0.47444087650111283, 0.5232803784938744, 0.1804491170788583, 0.8144595284370091, 0.9956097882819568, 0.9714078302136643, 0.2662937362243147, 0.03227802863325026, 0.6980123691940369, 0.9985763054985122, 0.03832112652947942, 0.9580281632369856, 0.9914876064461107, 0.027921822171377023, 0.8057440112311656, 0.163542101289494, 0.9971418537361091, 0.998478609731905, 0.9970176222104704, 0.0024222581066645557, 0.7630113035993351, 0.07509000130660123, 0.1598690350398607, 0.9883987892931724, 0.27409376601308616, 0.22781819512775994, 0.49597919564272736, 0.9964423741793211, 0.9949709861816102, 0.9921090480588816, 0.9979254080688739, 0.9976007025184419, 0.9942402525169279, 0.9967350534209121, 0.9936173101709044, 0.9976742946601014, 0.801394139865693, 0.1976532631955745, 0.3130601566422675, 0.6863241895618941, 0.29425764062665344, 0.10985618583395061, 0.5963621516700176, 0.9915741104596095, 0.9940565608285936, 0.33195991998944097, 0.5244573883856848, 0.078570395263773, 0.0628563162110184, 0.9909764822828069, 0.9936674889438728, 0.9982416070950035, 0.5248342752450784, 0.054629589988335295, 0.4194772088390032, 0.01648503247657908, 0.6033521886427943, 0.22749344817679126, 0.15166229878452753, 0.9973414361067192, 0.9915646574951329, 0.9906820264673435, 0.07221578078611024, 0.04513486299131889, 0.2617822053496496, 0.616843127548025, 0.9820547316360266, 0.9824199976083847, 0.42671851768378266, 0.5714104288524215, 0.9985282183430152, 0.4799246787877838, 0.519158065076519, 0.9913671849710176, 0.9969231482621723, 0.9959113036673052, 0.9728856029147332, 0.1798323396003206, 0.818710388180407, 0.24651863596039625, 0.7507613004248431, 0.990078814365827, 0.009104173005662778, 0.9930088149435708, 0.9977051794254581, 0.9927969713299427, 0.999500823291395, 0.9977710796909862, 0.9941538508706418, 0.3578327228168689, 0.4534368854015285, 0.1584297551402931, 0.03004702252660731, 0.3798833495205757, 0.6162552114444895, 0.9698112914315706, 0.31101841514566403, 0.4177584629471345, 0.20059767604069453, 0.04600864129373728, 0.022084147820993893, 0.9669523682776531, 0.9934214879138394, 0.9921904259440034, 0.9933654304105237, 0.9919480636856896, 0.9902787261833735, 0.3401428665481522, 0.6564160582508201, 0.004372734806237365, 0.9940683792846277, 0.9934383838729002, 0.5321998955923227, 0.45962718255700596, 0.9817905326279515, 0.9856539725378053, 0.9966887868191556, 0.9855327154823493, 0.9919290053038295, 0.9912539564786825, 0.9655049312121609, 0.996733925137408, 0.002037617336440456, 0.40548584995165077, 0.5909090275677322, 0.9784340096781297, 0.9784836411593939, 0.9867110025713515, 0.9939678340764322, 0.9803295868312837, 0.7577870044897985, 0.2390637573688055, 0.2659720207090376, 0.7240349452634912, 0.9979030182954893, 0.9774768059206749, 0.4662750568536621, 0.5309072429521895, 0.9961643496163937, 0.2830430316801659, 0.16099695379972742, 0.5531024380539022, 0.9951313389613788, 0.9948521936237331, 0.9943524454287371, 0.9926693527787185, 0.9987694320030945, 0.9833909530175091, 0.014843637026679382, 0.9967920978618957, 0.9928008223821934, 0.5998382063282469, 0.06904612446943849, 0.1976445312937677, 0.1329137896036691, 0.9971978441248204, 0.9837913790814806, 0.9723443042047498, 0.9951105801366859, 0.9938262495273668, 0.9758010626181101, 0.9805901551197163, 0.9781614051006686, 0.7679399763032986, 0.2300831835616887, 0.1213668446140271, 0.22579878067725973, 0.30482835391430063, 0.3471656252912868, 0.9989737673163509, 0.9692725187643209, 0.9886208530863687, 0.9984947373298019, 0.279817237606813, 0.7063679046903694, 0.010237216010005353, 0.5397612089840811, 0.45869817027218607, 0.9992242654925604, 0.9790241748337489, 0.12948425901322178, 0.8686235708803628, 0.987376958205238, 0.9392844830792633, 0.06051306029562515, 0.012080513449155079, 0.9875819744684278, 0.08542521580369322, 0.9139468871527661, 0.9943346018063033, 0.984795523817307, 0.9289481660172328, 0.06938202069838253, 0.9823792431526523, 0.017310647456434403, 0.9953303554758025, 0.999277635471248, 0.9978052608969765, 0.9985576353081712, 0.27554770898552416, 0.09675721078881001, 0.6247150348755777, 0.48822526275295985, 0.4335278266769021, 0.07698157669963682, 0.9890417959756878, 0.9976109566509953, 0.9951768291733732, 0.9926643449414013, 0.756011712112379, 0.23462432444866935, 0.9756434875189959, 0.9889773599433631, 0.9904267060829939, 0.2425311058899768, 0.7552646518989882, 0.996455813744192, 0.9901005388989645, 0.9925523385629382, 0.42957869195845944, 0.5697884039171233, 0.9733553966590532, 0.9947881098866945, 0.9600549865617066, 0.9971615873778749, 0.9877274100219952, 0.9854645283420314, 0.751386774838593, 0.24853005185114502, 0.9908890254345092, 0.9966759643770551, 0.9947155316718741, 0.9979618788987346, 0.9946902313104158, 0.44830147183829416, 0.04352441474158195, 0.5077848386517895, 0.1099561223862031, 0.8878546598647146, 0.7118278324876534, 0.28535829408095353, 0.9989933034233697, 0.22172352299019724, 0.762174610278803, 0.32266985786355534, 0.5084875192013226, 0.16824031499500552, 0.9935498383703154, 0.9853615510889718, 0.9786661314216417, 0.02038887773795087, 0.9993334362994767, 0.9988662564919859, 0.9689591433615798, 0.9938083501056965, 0.9924958759815834, 0.9875632774641925, 0.9886117528958929, 0.9939999122878503, 0.7339475317374994, 0.23352876009829526, 0.02668900115409089, 0.011610929174977289, 0.17416393762465932, 0.8127650422484102, 0.9953299023378122, 0.989126797336889, 0.010709802910066856, 0.9953965315252988, 0.9834505705126272, 0.9956249045287385, 0.9964218445510886, 0.9852461907992791], \"Term\": [\"acceptance\", \"accord\", \"act\", \"active\", \"administrative\", \"advice\", \"affiliate\", \"afternoon\", \"aim\", \"alignleft\", \"alignright\", \"allege\", \"alone\", \"also\", \"also\", \"amount\", \"amount\", \"amount\", \"ancillary\", \"andor\", \"andor\", \"andor\", \"announce\", \"announce\", \"approach\", \"approval\", \"approve\", \"arise\", \"arrange\", \"arrangement\", \"ask\", \"assistant\", \"assume\", \"ation\", \"attach\", \"attachment\", \"audience\", \"author\", \"authorize\", \"automatically\", \"avoid\", \"award\", \"away\", \"away\", \"away\", \"baby\", \"back\", \"back\", \"back\", \"backup\", \"bank\", \"banker\", \"bankruptcy\", \"base\", \"base\", \"base\", \"base\", \"basically\", \"basis\", \"basis\", \"basis\", \"basis\", \"bean\", \"beautiful\", \"beauty\", \"beer\", \"big\", \"big\", \"bill\", \"bind\", \"binding\", \"bit\", \"bit\", \"bit\", \"blackout\", \"bless\", \"blessing\", \"body\", \"body\", \"border\", \"border\", \"boy\", \"break\", \"break\", \"break\", \"bridge\", \"brother\", \"browser\", \"build\", \"build\", \"buy\", \"buy\", \"buyer\", \"cable\", \"call\", \"canadian\", \"capacity\", \"car\", \"car\", \"care\", \"carry\", \"carry\", \"catalog\", \"cellpadding\", \"cellspacing\", \"center\", \"center\", \"challenge\", \"chance\", \"chance\", \"change\", \"change\", \"change\", \"channel\", \"charge\", \"charge\", \"charge\", \"chart\", \"child\", \"child\", \"choose\", \"choose\", \"choose\", \"church\", \"cite\", \"city\", \"claim\", \"claim\", \"classic\", \"clean\", \"clear\", \"click\", \"coast\", \"college\", \"color\", \"color\", \"colspan\", \"combination\", \"come\", \"come\", \"commence\", \"community\", \"company\", \"company\", \"company\", \"compete\", \"con\", \"concern\", \"confidential\", \"consider\", \"consider\", \"consider\", \"consolidate\", \"cont\", \"contact\", \"contact\", \"contact\", \"contain\", \"contain\", \"content\", \"content\", \"continentalcom\", \"continue\", \"continue\", \"continue\", \"contract\", \"contractor\", \"control\", \"convert\", \"copy\", \"copy\", \"copying\", \"copyright\", \"copyright\", \"copyright\", \"copyright\", \"core\", \"cost\", \"cost\", \"cost\", \"couple\", \"cover\", \"cover\", \"create\", \"create\", \"credit\", \"credit\", \"credit\", \"crude\", \"currency\", \"custom\", \"cut\", \"dark\", \"database\", \"datum\", \"datum\", \"datum\", \"daughter\", \"day\", \"debt\", \"decision\", \"decision\", \"decision\", \"defendant\", \"delete\", \"delete\", \"deliver\", \"delivery\", \"demand\", \"destination\", \"develop\", \"development\", \"development\", \"dever\", \"differ\", \"difficult\", \"direct\", \"director\", \"disagree\", \"disclosure\", \"discount\", \"display\", \"dispute\", \"dispute\", \"dissemination\", \"distribution\", \"division\", \"door\", \"doubt\", \"draft\", \"drive\", \"drive\", \"drive\", \"driving\", \"drug\", \"dvd\", \"earn\", \"earning\", \"eat\", \"eat\", \"edison\", \"efficiency\", \"effort\", \"effort\", \"electronic\", \"else\", \"else\", \"email\", \"email\", \"email\", \"employee\", \"enforceable\", \"enjoy\", \"enjoy\", \"enough\", \"enough\", \"enron\", \"ent\", \"entity\", \"entity\", \"environment\", \"equipment\", \"estoppel\", \"even\", \"even\", \"even\", \"even\", \"everyday\", \"evidence\", \"example\", \"example\", \"excise\", \"exclusive\", \"exclusive\", \"executive\", \"exist\", \"exit\", \"expect\", \"expect\", \"expect\", \"expect\", \"expense\", \"express\", \"eye\", \"face\", \"face\", \"face\", \"facearial\", \"facility\", \"fact\", \"family\", \"family\", \"fan\", \"far\", \"far\", \"far\", \"far\", \"fare\", \"favorite\", \"fax\", \"fcornr\", \"feature\", \"feature\", \"federal\", \"federal\", \"federal\", \"fight\", \"file\", \"final\", \"final\", \"final\", \"finance\", \"financial\", \"find\", \"find\", \"finish\", \"flight\", \"fly\", \"focused\", \"follow\", \"font\", \"food\", \"football\", \"foreign\", \"former\", \"former\", \"forward\", \"free\", \"free\", \"fresh\", \"friend\", \"friend\", \"front\", \"front\", \"front\", \"fuel\", \"fuel\", \"fun\", \"fun\", \"fund\", \"fund\", \"fund\", \"fund\", \"funny\", \"future\", \"future\", \"future\", \"future\", \"game\", \"get\", \"gif\", \"give\", \"gold\", \"gon\", \"good\", \"good\", \"great\", \"great\", \"green\", \"ground\", \"guy\", \"hand\", \"hand\", \"happen\", \"head\", \"head\", \"head\", \"hear\", \"hear\", \"hearing\", \"heart\", \"height\", \"hell\", \"hereby\", \"herein\", \"hereto\", \"high\", \"high\", \"high\", \"high\", \"high\", \"hilarious\", \"hold\", \"holding\", \"holiday\", \"holiday\", \"host\", \"hotel\", \"hour\", \"hour\", \"html\", \"huge\", \"idea\", \"image\", \"img\", \"immediate\", \"impact\", \"impose\", \"increase\", \"increase\", \"increase\", \"industry\", \"industry\", \"information\", \"information\", \"ing\", \"insist\", \"instrument\", \"intend\", \"intend\", \"intended\", \"intent\", \"interest\", \"interest\", \"intermediate\", \"internet\", \"internet\", \"internet\", \"internet\", \"investment\", \"investor\", \"involve\", \"ion\", \"job\", \"job\", \"join\", \"join\", \"join\", \"judge\", \"jump\", \"key\", \"key\", \"kid\", \"kill\", \"know\", \"lack\", \"last\", \"lawsuit\", \"lead\", \"lead\", \"learn\", \"learn\", \"learn\", \"leave\", \"leave\", \"leave\", \"left\", \"let\", \"license\", \"like\", \"link\", \"lipstick\", \"listen\", \"listing\", \"little\", \"little\", \"lock\", \"log\", \"look\", \"loss\", \"lot\", \"low\", \"low\", \"mailbox\", \"mailing\", \"mailing\", \"maintenance\", \"make\", \"man\", \"management\", \"management\", \"mar\", \"match\", \"material\", \"matter\", \"matter\", \"maybe\", \"meal\", \"meeting\", \"ment\", \"menu\", \"message\", \"message\", \"message\", \"middle\", \"mind\", \"miss\", \"miss\", \"mom\", \"moment\", \"money\", \"money\", \"money\", \"monthly\", \"mother\", \"motion\", \"movie\", \"much\", \"much\", \"much\", \"much\", \"music\", \"name\", \"need\", \"negotiate\", \"net\", \"network\", \"new\", \"new\", \"new\", \"news\", \"news\", \"news\", \"news\", \"news\", \"newscast\", \"newsletter\", \"newsletter\", \"nice\", \"non\", \"number\", \"obligation\", \"observe\", \"occur\", \"oct\", \"offer\", \"offer\", \"offer\", \"offer\", \"officer\", \"officer\", \"oil\", \"one\", \"online\", \"online\", \"online\", \"online\", \"operation\", \"operation\", \"opinion\", \"opportunity\", \"opportunity\", \"opportunity\", \"opportunity\", \"oppose\", \"option\", \"option\", \"organization\", \"original\", \"original\", \"original\", \"otherwise\", \"otherwise\", \"outage\", \"owe\", \"page\", \"page\", \"paper\", \"parse\", \"part\", \"part\", \"part\", \"party\", \"party\", \"party\", \"pass\", \"pass\", \"pass\", \"password\", \"password\", \"past\", \"paste\", \"patent\", \"payment\", \"peace\", \"people\", \"people\", \"percent\", \"perfect\", \"performance\", \"personal\", \"personal\", \"personal\", \"petition\", \"pge\", \"picture\", \"picture\", \"pie\", \"plant\", \"play\", \"please\", \"poor\", \"pork\", \"possibly\", \"pray\", \"preferred\", \"presentation\", \"press\", \"price\", \"price\", \"price\", \"price\", \"price\", \"privacy\", \"privilege\", \"privileged\", \"probably\", \"process\", \"produce\", \"produce\", \"product\", \"product\", \"product\", \"program\", \"program\", \"prohibit\", \"project\", \"promise\", \"property\", \"property\", \"propose\", \"proprietary\", \"psuedo\", \"publication\", \"publish\", \"purchase\", \"purchase\", \"push\", \"put\", \"put\", \"put\", \"pverde\", \"qualification\", \"quarter\", \"question\", \"quote\", \"quote\", \"rate\", \"rate\", \"rate\", \"rating\", \"real\", \"really\", \"reason\", \"receive\", \"receive\", \"receive\", \"receiver\", \"recent\", \"recipe\", \"recipient\", \"recipient\", \"recommendation\", \"recruit\", \"reduction\", \"reduction\", \"refer\", \"refer\", \"reference\", \"referenced\", \"reflect\", \"reflect\", \"reflect\", \"regard\", \"register\", \"register\", \"regulatory\", \"release\", \"release\", \"release\", \"relevant\", \"rely\", \"remain\", \"remove\", \"remove\", \"remove\", \"remove\", \"rental\", \"reply\", \"reply\", \"reply\", \"represent\", \"representative\", \"reproduction\", \"request\", \"requirement\", \"research\", \"reservation\", \"resource\", \"respect\", \"response\", \"response\", \"responsible\", \"responsible\", \"rest\", \"rest\", \"rest\", \"restore\", \"restriction\", \"result\", \"result\", \"result\", \"result\", \"retail\", \"retain\", \"retrieve\", \"review\", \"review\", \"review\", \"right\", \"right\", \"right\", \"right\", \"risk\", \"road\", \"rush\", \"sale\", \"sale\", \"sale\", \"sale\", \"sample\", \"sansserif\", \"save\", \"save\", \"say\", \"schedule\", \"schedule\", \"schedules\", \"schedulingiso\", \"screen\", \"seam\", \"search\", \"search\", \"season\", \"season\", \"see\", \"see\", \"seek\", \"seem\", \"selection\", \"send\", \"sender\", \"server\", \"service\", \"service\", \"service\", \"service\", \"several\", \"several\", \"sex\", \"share\", \"share\", \"share\", \"share\", \"share\", \"shed\", \"shipping\", \"shop\", \"shopping\", \"simple\", \"sister\", \"sit\", \"sit\", \"site\", \"site\", \"situation\", \"slightly\", \"slightly\", \"slot\", \"smile\", \"sole\", \"solely\", \"solution\", \"son\", \"sour\", \"space\", \"special\", \"special\", \"special\", \"speech\", \"spice\", \"spouse\", \"staff\", \"stake\", \"standard\", \"standard\", \"starter\", \"starter\", \"state\", \"steal\", \"still\", \"still\", \"stock\", \"stop\", \"stop\", \"stop\", \"storage\", \"story\", \"strategy\", \"strength\", \"strictly\", \"strong\", \"strong\", \"structure\", \"student\", \"subject\", \"subject\", \"subject\", \"subject\", \"subscribe\", \"subscriber\", \"substantially\", \"suit\", \"surcharge\", \"sweep\", \"sweet\", \"synchronize\", \"system\", \"system\", \"table\", \"table\", \"table\", \"table\", \"take\", \"takeover\", \"talent\", \"talk\", \"tax\", \"tax\", \"tax\", \"team\", \"team\", \"tell\", \"ter\", \"term\", \"term\", \"terrorist\", \"thank\", \"thank\", \"thing\", \"thing\", \"think\", \"think\", \"thousand\", \"threaten\", \"ticket\", \"ticket\", \"time\", \"time\", \"timely\", \"today\", \"together\", \"tomorrow\", \"top\", \"top\", \"top\", \"trading\", \"trading\", \"trading\", \"transact\", \"transdate\", \"travel\", \"trip\", \"trouble\", \"trouble\", \"troubled\", \"trtd\", \"trust\", \"try\", \"try\", \"turn\", \"twice\", \"txt\", \"type\", \"type\", \"uncertain\", \"understanding\", \"unknown\", \"unsubscribe\", \"url\", \"usd\", \"use\", \"use\", \"utility\", \"vacation\", \"valuable\", \"variance\", \"verify\", \"view\", \"view\", \"view\", \"visit\", \"visit\", \"wait\", \"wait\", \"want\", \"war\", \"war\", \"way\", \"way\", \"way\", \"weak\", \"wear\", \"web\", \"web\", \"week\", \"well\", \"wer\", \"white\", \"wholesale\", \"wide\", \"width\", \"wife\", \"win\", \"win\", \"win\", \"wish\", \"wish\", \"wish\", \"woman\", \"work\", \"work\", \"worried\", \"yahoocom\", \"yard\", \"yesterday\", \"young\"]}, \"R\": 30, \"lambda.step\": 0.01, \"plot.opts\": {\"xlab\": \"PC1\", \"ylab\": \"PC2\"}, \"topic.order\": [15, 6, 2, 9, 7, 1, 5, 8, 4, 13, 10, 3, 14, 11, 12]};\n",
              "\n",
              "function LDAvis_load_lib(url, callback){\n",
              "  var s = document.createElement('script');\n",
              "  s.src = url;\n",
              "  s.async = true;\n",
              "  s.onreadystatechange = s.onload = callback;\n",
              "  s.onerror = function(){console.warn(\"failed to load library \" + url);};\n",
              "  document.getElementsByTagName(\"head\")[0].appendChild(s);\n",
              "}\n",
              "\n",
              "if(typeof(LDAvis) !== \"undefined\"){\n",
              "   // already loaded: just create the visualization\n",
              "   !function(LDAvis){\n",
              "       new LDAvis(\"#\" + \"ldavis_el4291403945141840163108119798\", ldavis_el4291403945141840163108119798_data);\n",
              "   }(LDAvis);\n",
              "}else if(typeof define === \"function\" && define.amd){\n",
              "   // require.js is available: use it to load d3/LDAvis\n",
              "   require.config({paths: {d3: \"https://d3js.org/d3.v5\"}});\n",
              "   require([\"d3\"], function(d3){\n",
              "      window.d3 = d3;\n",
              "      LDAvis_load_lib(\"https://cdn.jsdelivr.net/gh/bmabey/pyLDAvis@3.3.1/pyLDAvis/js/ldavis.v3.0.0.js\", function(){\n",
              "        new LDAvis(\"#\" + \"ldavis_el4291403945141840163108119798\", ldavis_el4291403945141840163108119798_data);\n",
              "      });\n",
              "    });\n",
              "}else{\n",
              "    // require.js not available: dynamically load d3 & LDAvis\n",
              "    LDAvis_load_lib(\"https://d3js.org/d3.v5.js\", function(){\n",
              "         LDAvis_load_lib(\"https://cdn.jsdelivr.net/gh/bmabey/pyLDAvis@3.3.1/pyLDAvis/js/ldavis.v3.0.0.js\", function(){\n",
              "                 new LDAvis(\"#\" + \"ldavis_el4291403945141840163108119798\", ldavis_el4291403945141840163108119798_data);\n",
              "            })\n",
              "         });\n",
              "}\n",
              "</script>"
            ],
            "text/plain": [
              "PreparedData(topic_coordinates=              x         y  topics  cluster       Freq\n",
              "topic                                                \n",
              "14     0.396744  0.223712       1        1  27.048102\n",
              "5      0.121495 -0.412761       2        1   9.837351\n",
              "1     -0.103608 -0.414621       3        1   9.647215\n",
              "8     -0.109555  0.441484       4        1   9.312566\n",
              "6      0.242091 -0.250692       5        1   6.884126\n",
              "0      0.250770 -0.060903       6        1   5.347902\n",
              "4      0.070921  0.231034       7        1   5.016498\n",
              "7     -0.322325 -0.270842       8        1   4.857011\n",
              "3     -0.412535  0.119607       9        1   4.579671\n",
              "12     0.181323  0.360057      10        1   4.372622\n",
              "9      0.450676 -0.034549      11        1   3.596451\n",
              "2     -0.125292  0.056872      12        1   2.990677\n",
              "13    -0.324957 -0.071832      13        1   2.438111\n",
              "10    -0.245270  0.199788      14        1   2.296676\n",
              "11    -0.070478 -0.116353      15        1   1.775018, topic_info=            Term         Freq        Total Category  logprob  loglift\n",
              "120        thank  2627.000000  2627.000000  Default  30.0000  30.0000\n",
              "99          send  2584.000000  2584.000000  Default  29.0000  29.0000\n",
              "169        click  1139.000000  1139.000000  Default  28.0000  28.0000\n",
              "456   attachment   876.000000   876.000000  Default  27.0000  27.0000\n",
              "159      receive  1629.000000  1629.000000  Default  26.0000  26.0000\n",
              "...          ...          ...          ...      ...      ...      ...\n",
              "8893         sex    32.065330    32.996110  Topic15  -5.7773   4.0027\n",
              "7396      bridge    32.016365    32.947135  Topic15  -5.7789   4.0027\n",
              "3787       sweet    31.702640    32.633409  Topic15  -5.7887   4.0024\n",
              "3733        sour    31.176763    32.107552  Topic15  -5.8054   4.0019\n",
              "634          eat    61.067220   107.594952  Topic15  -5.1331   3.4650\n",
              "\n",
              "[668 rows x 6 columns], token_table=      Topic      Freq            Term\n",
              "term                                 \n",
              "446      11  0.998643      acceptance\n",
              "967       3  0.996844          accord\n",
              "271       2  0.996688             act\n",
              "1632      6  0.997079          active\n",
              "1042     12  0.971478  administrative\n",
              "...     ...       ...             ...\n",
              "2345      8  0.995397         worried\n",
              "8523     11  0.983451        yahoocom\n",
              "958       8  0.995625            yard\n",
              "1721      3  0.996422       yesterday\n",
              "2541     14  0.985246           young\n",
              "\n",
              "[927 rows x 3 columns], R=30, lambda_step=0.01, plot_opts={'xlab': 'PC1', 'ylab': 'PC2'}, topic_order=[15, 6, 2, 9, 7, 1, 5, 8, 4, 13, 10, 3, 14, 11, 12])"
            ]
          },
          "metadata": {
            "tags": []
          },
          "execution_count": 22
        }
      ]
    },
    {
      "cell_type": "markdown",
      "metadata": {
        "id": "XcunYpOIZAdR"
      },
      "source": [
        "## 03.04. Augmenting the dataset with topics"
      ]
    },
    {
      "cell_type": "markdown",
      "metadata": {
        "id": "eCQcopyAyC6q"
      },
      "source": [
        "We augment the dataframe with features of the inferred topics of every email. We use the Gensim model as the Pyro model is timing out."
      ]
    },
    {
      "cell_type": "code",
      "metadata": {
        "id": "3saYkN4sgW9I"
      },
      "source": [
        "# filter out rows with empty body\n",
        "final_df = df[df['bowBody'].apply(lambda x: len(x)) > 0]"
      ],
      "execution_count": null,
      "outputs": []
    },
    {
      "cell_type": "code",
      "metadata": {
        "id": "EndnL2qs2Okd",
        "colab": {
          "base_uri": "https://localhost:8080/"
        },
        "outputId": "19b995de-d234-4af3-d53c-c065f14dd96b"
      },
      "source": [
        "# generate topics and merge with original ds\n",
        "final_df = final_df.merge(final_df.apply(lambda x: lda_model.get_document_topics(x['bowBody'], minimum_probability=0.0), axis=1, result_type='expand'), \n",
        "    left_index=True, right_index=True)\n",
        "final_df.shape"
      ],
      "execution_count": null,
      "outputs": [
        {
          "output_type": "execute_result",
          "data": {
            "text/plain": [
              "(9885, 44)"
            ]
          },
          "metadata": {
            "tags": []
          },
          "execution_count": 24
        }
      ]
    },
    {
      "cell_type": "code",
      "metadata": {
        "id": "lrTlhRj0-hWx"
      },
      "source": [
        "# rename topic columns\n",
        "column_indices = [29,30,31,32,33,34,35,36,37,38,39,40,41,42,43]\n",
        "new_names = ['topic01','topic02','topic03','topic04','topic05','topic06','topic07',\n",
        "             'topic08','topic09','topic10','topic11','topic12','topic13','topic14',\n",
        "             'topic15']\n",
        "old_names = final_df.columns[column_indices]\n",
        "final_df.rename(columns=dict(zip(old_names, new_names)), inplace=True)"
      ],
      "execution_count": null,
      "outputs": []
    },
    {
      "cell_type": "code",
      "metadata": {
        "id": "6RNWBLEFGz_N"
      },
      "source": [
        "# we need to keep only the second part of the gensim result\n",
        "final_df['topic01'] = final_df['topic01'].apply(lambda x: x[1])\n",
        "final_df['topic02'] = final_df['topic02'].apply(lambda x: x[1])\n",
        "final_df['topic03'] = final_df['topic03'].apply(lambda x: x[1])\n",
        "final_df['topic04'] = final_df['topic04'].apply(lambda x: x[1])\n",
        "final_df['topic05'] = final_df['topic05'].apply(lambda x: x[1])\n",
        "final_df['topic06'] = final_df['topic06'].apply(lambda x: x[1])\n",
        "final_df['topic07'] = final_df['topic07'].apply(lambda x: x[1])\n",
        "final_df['topic08'] = final_df['topic08'].apply(lambda x: x[1])\n",
        "final_df['topic09'] = final_df['topic09'].apply(lambda x: x[1])\n",
        "final_df['topic10'] = final_df['topic10'].apply(lambda x: x[1])\n",
        "final_df['topic11'] = final_df['topic11'].apply(lambda x: x[1])\n",
        "final_df['topic12'] = final_df['topic12'].apply(lambda x: x[1])\n",
        "final_df['topic13'] = final_df['topic13'].apply(lambda x: x[1])\n",
        "final_df['topic14'] = final_df['topic14'].apply(lambda x: x[1])\n",
        "final_df['topic15'] = final_df['topic15'].apply(lambda x: x[1])"
      ],
      "execution_count": null,
      "outputs": []
    },
    {
      "cell_type": "code",
      "metadata": {
        "colab": {
          "base_uri": "https://localhost:8080/",
          "height": 683
        },
        "id": "cH8DX0IFD3Oy",
        "outputId": "f843d7fc-a1e9-4984-f577-87c10c1fed49"
      },
      "source": [
        "# moving 'deleted' to the end again\n",
        "final_df = final_df[[c for c in final_df if c not in ['deleted']] + ['deleted']]\n",
        "print(final_df.shape)\n",
        "final_df.head()"
      ],
      "execution_count": null,
      "outputs": [
        {
          "output_type": "stream",
          "text": [
            "(9885, 44)\n"
          ],
          "name": "stdout"
        },
        {
          "output_type": "execute_result",
          "data": {
            "text/html": [
              "<div>\n",
              "<style scoped>\n",
              "    .dataframe tbody tr th:only-of-type {\n",
              "        vertical-align: middle;\n",
              "    }\n",
              "\n",
              "    .dataframe tbody tr th {\n",
              "        vertical-align: top;\n",
              "    }\n",
              "\n",
              "    .dataframe thead th {\n",
              "        text-align: right;\n",
              "    }\n",
              "</style>\n",
              "<table border=\"1\" class=\"dataframe\">\n",
              "  <thead>\n",
              "    <tr style=\"text-align: right;\">\n",
              "      <th></th>\n",
              "      <th>sname</th>\n",
              "      <th>name</th>\n",
              "      <th>email1</th>\n",
              "      <th>email2</th>\n",
              "      <th>subject</th>\n",
              "      <th>processedBody</th>\n",
              "      <th>bowBody</th>\n",
              "      <th>subjectLength</th>\n",
              "      <th>bodyLength</th>\n",
              "      <th>notOnToOrCcLine</th>\n",
              "      <th>firstOnToLine</th>\n",
              "      <th>secondOnToLine</th>\n",
              "      <th>thirdOrLaterOnToLine</th>\n",
              "      <th>firstOnCcLine</th>\n",
              "      <th>secondOrLaterOnCcLine</th>\n",
              "      <th>bodyLength[0-100]</th>\n",
              "      <th>bodyLength[101-200]</th>\n",
              "      <th>bodyLength[201-400]</th>\n",
              "      <th>bodyLength[401-1000]</th>\n",
              "      <th>bodyLength[1001-2000]</th>\n",
              "      <th>bodyLength[2001-5000]</th>\n",
              "      <th>bodyLength[&gt;5000]</th>\n",
              "      <th>subjectLength[0-7]</th>\n",
              "      <th>subjectLength[8-13]</th>\n",
              "      <th>subjectLength[14-20]</th>\n",
              "      <th>subjectLength[21-30]</th>\n",
              "      <th>subjectLength[31-45]</th>\n",
              "      <th>subjectLength[&gt;45]</th>\n",
              "      <th>topic01</th>\n",
              "      <th>topic02</th>\n",
              "      <th>topic03</th>\n",
              "      <th>topic04</th>\n",
              "      <th>topic05</th>\n",
              "      <th>topic06</th>\n",
              "      <th>topic07</th>\n",
              "      <th>topic08</th>\n",
              "      <th>topic09</th>\n",
              "      <th>topic10</th>\n",
              "      <th>topic11</th>\n",
              "      <th>topic12</th>\n",
              "      <th>topic13</th>\n",
              "      <th>topic14</th>\n",
              "      <th>topic15</th>\n",
              "      <th>deleted</th>\n",
              "    </tr>\n",
              "  </thead>\n",
              "  <tbody>\n",
              "    <tr>\n",
              "      <th>0</th>\n",
              "      <td>scott-s</td>\n",
              "      <td>Susan M Scott</td>\n",
              "      <td>susan.scott@enron.com</td>\n",
              "      <td>susan.scott@enron.com</td>\n",
              "      <td>A.Word.A.Day--inkhorn term</td>\n",
              "      <td>[word, speech, appearance, book, useful, turm,...</td>\n",
              "      <td>[(0, 1), (15, 1), (43, 1), (50, 1), (56, 1), (...</td>\n",
              "      <td>26</td>\n",
              "      <td>1234</td>\n",
              "      <td>1</td>\n",
              "      <td>0</td>\n",
              "      <td>0</td>\n",
              "      <td>0</td>\n",
              "      <td>0</td>\n",
              "      <td>0</td>\n",
              "      <td>0</td>\n",
              "      <td>0</td>\n",
              "      <td>0</td>\n",
              "      <td>0</td>\n",
              "      <td>1</td>\n",
              "      <td>0</td>\n",
              "      <td>0</td>\n",
              "      <td>0</td>\n",
              "      <td>0</td>\n",
              "      <td>0</td>\n",
              "      <td>1</td>\n",
              "      <td>0</td>\n",
              "      <td>0</td>\n",
              "      <td>0.109797</td>\n",
              "      <td>0.063648</td>\n",
              "      <td>0.002712</td>\n",
              "      <td>0.006687</td>\n",
              "      <td>0.050189</td>\n",
              "      <td>0.022361</td>\n",
              "      <td>0.049816</td>\n",
              "      <td>0.058614</td>\n",
              "      <td>0.052297</td>\n",
              "      <td>0.003479</td>\n",
              "      <td>0.092515</td>\n",
              "      <td>0.184843</td>\n",
              "      <td>0.043181</td>\n",
              "      <td>0.002230</td>\n",
              "      <td>0.257633</td>\n",
              "      <td>1</td>\n",
              "    </tr>\n",
              "    <tr>\n",
              "      <th>1</th>\n",
              "      <td>scott-s</td>\n",
              "      <td>Susan M Scott</td>\n",
              "      <td>susan.scott@enron.com</td>\n",
              "      <td>susan.scott@enron.com</td>\n",
              "      <td>A.Word.A.Day--euphemism</td>\n",
              "      <td>[budget, employer, send, thing, service, help,...</td>\n",
              "      <td>[(10, 1), (25, 1), (43, 1), (48, 1), (49, 1), ...</td>\n",
              "      <td>23</td>\n",
              "      <td>1840</td>\n",
              "      <td>1</td>\n",
              "      <td>0</td>\n",
              "      <td>0</td>\n",
              "      <td>0</td>\n",
              "      <td>0</td>\n",
              "      <td>0</td>\n",
              "      <td>0</td>\n",
              "      <td>0</td>\n",
              "      <td>0</td>\n",
              "      <td>0</td>\n",
              "      <td>1</td>\n",
              "      <td>0</td>\n",
              "      <td>0</td>\n",
              "      <td>0</td>\n",
              "      <td>0</td>\n",
              "      <td>0</td>\n",
              "      <td>1</td>\n",
              "      <td>0</td>\n",
              "      <td>0</td>\n",
              "      <td>0.090545</td>\n",
              "      <td>0.233451</td>\n",
              "      <td>0.001414</td>\n",
              "      <td>0.034475</td>\n",
              "      <td>0.041726</td>\n",
              "      <td>0.040874</td>\n",
              "      <td>0.048653</td>\n",
              "      <td>0.133914</td>\n",
              "      <td>0.071313</td>\n",
              "      <td>0.001847</td>\n",
              "      <td>0.025867</td>\n",
              "      <td>0.048609</td>\n",
              "      <td>0.035519</td>\n",
              "      <td>0.001169</td>\n",
              "      <td>0.190625</td>\n",
              "      <td>1</td>\n",
              "    </tr>\n",
              "    <tr>\n",
              "      <th>2</th>\n",
              "      <td>scott-s</td>\n",
              "      <td>Susan M Scott</td>\n",
              "      <td>susan.scott@enron.com</td>\n",
              "      <td>susan.scott@enron.com</td>\n",
              "      <td>A.Word.A.Day--sticky wicket</td>\n",
              "      <td>[checkout, want, need, ground, coalition, play...</td>\n",
              "      <td>[(0, 1), (7, 1), (10, 1), (15, 1), (43, 1), (4...</td>\n",
              "      <td>27</td>\n",
              "      <td>2307</td>\n",
              "      <td>1</td>\n",
              "      <td>0</td>\n",
              "      <td>0</td>\n",
              "      <td>0</td>\n",
              "      <td>0</td>\n",
              "      <td>0</td>\n",
              "      <td>0</td>\n",
              "      <td>0</td>\n",
              "      <td>0</td>\n",
              "      <td>0</td>\n",
              "      <td>0</td>\n",
              "      <td>1</td>\n",
              "      <td>0</td>\n",
              "      <td>0</td>\n",
              "      <td>0</td>\n",
              "      <td>0</td>\n",
              "      <td>1</td>\n",
              "      <td>0</td>\n",
              "      <td>0</td>\n",
              "      <td>0.089859</td>\n",
              "      <td>0.065308</td>\n",
              "      <td>0.001284</td>\n",
              "      <td>0.098101</td>\n",
              "      <td>0.026808</td>\n",
              "      <td>0.164065</td>\n",
              "      <td>0.094549</td>\n",
              "      <td>0.071050</td>\n",
              "      <td>0.108191</td>\n",
              "      <td>0.021885</td>\n",
              "      <td>0.024344</td>\n",
              "      <td>0.001236</td>\n",
              "      <td>0.027172</td>\n",
              "      <td>0.001062</td>\n",
              "      <td>0.205085</td>\n",
              "      <td>1</td>\n",
              "    </tr>\n",
              "    <tr>\n",
              "      <th>3</th>\n",
              "      <td>scott-s</td>\n",
              "      <td>Susan M Scott</td>\n",
              "      <td>susan.scott@enron.com</td>\n",
              "      <td>susan.scott@enron.com</td>\n",
              "      <td>A.Word.A.Day--dipsy doodle</td>\n",
              "      <td>[word, rather, kind, never, awad, know, useful...</td>\n",
              "      <td>[(10, 1), (43, 1), (48, 1), (50, 1), (56, 1), ...</td>\n",
              "      <td>26</td>\n",
              "      <td>1399</td>\n",
              "      <td>1</td>\n",
              "      <td>0</td>\n",
              "      <td>0</td>\n",
              "      <td>0</td>\n",
              "      <td>0</td>\n",
              "      <td>0</td>\n",
              "      <td>0</td>\n",
              "      <td>0</td>\n",
              "      <td>0</td>\n",
              "      <td>0</td>\n",
              "      <td>1</td>\n",
              "      <td>0</td>\n",
              "      <td>0</td>\n",
              "      <td>0</td>\n",
              "      <td>0</td>\n",
              "      <td>0</td>\n",
              "      <td>1</td>\n",
              "      <td>0</td>\n",
              "      <td>0</td>\n",
              "      <td>0.078704</td>\n",
              "      <td>0.099440</td>\n",
              "      <td>0.002228</td>\n",
              "      <td>0.033214</td>\n",
              "      <td>0.016874</td>\n",
              "      <td>0.111006</td>\n",
              "      <td>0.069661</td>\n",
              "      <td>0.102214</td>\n",
              "      <td>0.109213</td>\n",
              "      <td>0.017837</td>\n",
              "      <td>0.069548</td>\n",
              "      <td>0.002142</td>\n",
              "      <td>0.066220</td>\n",
              "      <td>0.001843</td>\n",
              "      <td>0.219855</td>\n",
              "      <td>1</td>\n",
              "    </tr>\n",
              "    <tr>\n",
              "      <th>4</th>\n",
              "      <td>scott-s</td>\n",
              "      <td>Susan M Scott</td>\n",
              "      <td>susan.scott@enron.com</td>\n",
              "      <td>susan.scott@enron.com</td>\n",
              "      <td>A.Word.A.Day--hat trick</td>\n",
              "      <td>[today, treat, friend, goal, give, player, emp...</td>\n",
              "      <td>[(43, 1), (48, 1), (50, 1), (56, 1), (67, 1), ...</td>\n",
              "      <td>23</td>\n",
              "      <td>1799</td>\n",
              "      <td>1</td>\n",
              "      <td>0</td>\n",
              "      <td>0</td>\n",
              "      <td>0</td>\n",
              "      <td>0</td>\n",
              "      <td>0</td>\n",
              "      <td>0</td>\n",
              "      <td>0</td>\n",
              "      <td>0</td>\n",
              "      <td>0</td>\n",
              "      <td>1</td>\n",
              "      <td>0</td>\n",
              "      <td>0</td>\n",
              "      <td>0</td>\n",
              "      <td>0</td>\n",
              "      <td>0</td>\n",
              "      <td>1</td>\n",
              "      <td>0</td>\n",
              "      <td>0</td>\n",
              "      <td>0.018151</td>\n",
              "      <td>0.065144</td>\n",
              "      <td>0.001427</td>\n",
              "      <td>0.097256</td>\n",
              "      <td>0.052222</td>\n",
              "      <td>0.163299</td>\n",
              "      <td>0.140659</td>\n",
              "      <td>0.063030</td>\n",
              "      <td>0.141901</td>\n",
              "      <td>0.001836</td>\n",
              "      <td>0.051136</td>\n",
              "      <td>0.001371</td>\n",
              "      <td>0.027980</td>\n",
              "      <td>0.001180</td>\n",
              "      <td>0.173406</td>\n",
              "      <td>1</td>\n",
              "    </tr>\n",
              "  </tbody>\n",
              "</table>\n",
              "</div>"
            ],
            "text/plain": [
              "     sname           name                 email1  ...   topic14   topic15 deleted\n",
              "0  scott-s  Susan M Scott  susan.scott@enron.com  ...  0.002230  0.257633       1\n",
              "1  scott-s  Susan M Scott  susan.scott@enron.com  ...  0.001169  0.190625       1\n",
              "2  scott-s  Susan M Scott  susan.scott@enron.com  ...  0.001062  0.205085       1\n",
              "3  scott-s  Susan M Scott  susan.scott@enron.com  ...  0.001843  0.219855       1\n",
              "4  scott-s  Susan M Scott  susan.scott@enron.com  ...  0.001180  0.173406       1\n",
              "\n",
              "[5 rows x 44 columns]"
            ]
          },
          "metadata": {
            "tags": []
          },
          "execution_count": 28
        }
      ]
    },
    {
      "cell_type": "code",
      "metadata": {
        "id": "HKFWsaQ64nEG"
      },
      "source": [
        "# saving ds\n",
        "final_df.to_csv(r'/content/drive/MyDrive/Colab Data/MBML/final_df.csv')"
      ],
      "execution_count": null,
      "outputs": []
    },
    {
      "cell_type": "code",
      "metadata": {
        "id": "nxoRne86rhsX"
      },
      "source": [
        "# load ds\n",
        "# final_df = pd.read_csv(r'/content/drive/MyDrive/Colab Data/MBML/final_df.csv') "
      ],
      "execution_count": null,
      "outputs": []
    },
    {
      "cell_type": "markdown",
      "metadata": {
        "id": "8BrMzrWiaUnW"
      },
      "source": [
        "# 04. Simple Classification"
      ]
    },
    {
      "cell_type": "markdown",
      "metadata": {
        "id": "Omr7X5-biEKz"
      },
      "source": [
        "In this section we build and compare several simple non-personalized classification models and we experiment with different feature sets."
      ]
    },
    {
      "cell_type": "markdown",
      "metadata": {
        "id": "A-TLHgR8wfzn"
      },
      "source": [
        "## 04.01. Prepare Train/Test datasets"
      ]
    },
    {
      "cell_type": "code",
      "metadata": {
        "colab": {
          "base_uri": "https://localhost:8080/",
          "height": 683
        },
        "id": "KHMaClHNwlLR",
        "outputId": "c0d8cc31-17b6-4593-dde9-8d583d7b6a42"
      },
      "source": [
        "print(final_df.shape)\n",
        "final_df.head()"
      ],
      "execution_count": null,
      "outputs": [
        {
          "output_type": "stream",
          "text": [
            "(9885, 44)\n"
          ],
          "name": "stdout"
        },
        {
          "output_type": "execute_result",
          "data": {
            "text/html": [
              "<div>\n",
              "<style scoped>\n",
              "    .dataframe tbody tr th:only-of-type {\n",
              "        vertical-align: middle;\n",
              "    }\n",
              "\n",
              "    .dataframe tbody tr th {\n",
              "        vertical-align: top;\n",
              "    }\n",
              "\n",
              "    .dataframe thead th {\n",
              "        text-align: right;\n",
              "    }\n",
              "</style>\n",
              "<table border=\"1\" class=\"dataframe\">\n",
              "  <thead>\n",
              "    <tr style=\"text-align: right;\">\n",
              "      <th></th>\n",
              "      <th>sname</th>\n",
              "      <th>name</th>\n",
              "      <th>email1</th>\n",
              "      <th>email2</th>\n",
              "      <th>subject</th>\n",
              "      <th>processedBody</th>\n",
              "      <th>bowBody</th>\n",
              "      <th>subjectLength</th>\n",
              "      <th>bodyLength</th>\n",
              "      <th>notOnToOrCcLine</th>\n",
              "      <th>firstOnToLine</th>\n",
              "      <th>secondOnToLine</th>\n",
              "      <th>thirdOrLaterOnToLine</th>\n",
              "      <th>firstOnCcLine</th>\n",
              "      <th>secondOrLaterOnCcLine</th>\n",
              "      <th>bodyLength[0-100]</th>\n",
              "      <th>bodyLength[101-200]</th>\n",
              "      <th>bodyLength[201-400]</th>\n",
              "      <th>bodyLength[401-1000]</th>\n",
              "      <th>bodyLength[1001-2000]</th>\n",
              "      <th>bodyLength[2001-5000]</th>\n",
              "      <th>bodyLength[&gt;5000]</th>\n",
              "      <th>subjectLength[0-7]</th>\n",
              "      <th>subjectLength[8-13]</th>\n",
              "      <th>subjectLength[14-20]</th>\n",
              "      <th>subjectLength[21-30]</th>\n",
              "      <th>subjectLength[31-45]</th>\n",
              "      <th>subjectLength[&gt;45]</th>\n",
              "      <th>topic01</th>\n",
              "      <th>topic02</th>\n",
              "      <th>topic03</th>\n",
              "      <th>topic04</th>\n",
              "      <th>topic05</th>\n",
              "      <th>topic06</th>\n",
              "      <th>topic07</th>\n",
              "      <th>topic08</th>\n",
              "      <th>topic09</th>\n",
              "      <th>topic10</th>\n",
              "      <th>topic11</th>\n",
              "      <th>topic12</th>\n",
              "      <th>topic13</th>\n",
              "      <th>topic14</th>\n",
              "      <th>topic15</th>\n",
              "      <th>deleted</th>\n",
              "    </tr>\n",
              "  </thead>\n",
              "  <tbody>\n",
              "    <tr>\n",
              "      <th>0</th>\n",
              "      <td>scott-s</td>\n",
              "      <td>Susan M Scott</td>\n",
              "      <td>susan.scott@enron.com</td>\n",
              "      <td>susan.scott@enron.com</td>\n",
              "      <td>A.Word.A.Day--inkhorn term</td>\n",
              "      <td>[word, speech, appearance, book, useful, turm,...</td>\n",
              "      <td>[(0, 1), (15, 1), (43, 1), (50, 1), (56, 1), (...</td>\n",
              "      <td>26</td>\n",
              "      <td>1234</td>\n",
              "      <td>1</td>\n",
              "      <td>0</td>\n",
              "      <td>0</td>\n",
              "      <td>0</td>\n",
              "      <td>0</td>\n",
              "      <td>0</td>\n",
              "      <td>0</td>\n",
              "      <td>0</td>\n",
              "      <td>0</td>\n",
              "      <td>0</td>\n",
              "      <td>1</td>\n",
              "      <td>0</td>\n",
              "      <td>0</td>\n",
              "      <td>0</td>\n",
              "      <td>0</td>\n",
              "      <td>0</td>\n",
              "      <td>1</td>\n",
              "      <td>0</td>\n",
              "      <td>0</td>\n",
              "      <td>0.109797</td>\n",
              "      <td>0.063648</td>\n",
              "      <td>0.002712</td>\n",
              "      <td>0.006687</td>\n",
              "      <td>0.050189</td>\n",
              "      <td>0.022361</td>\n",
              "      <td>0.049816</td>\n",
              "      <td>0.058614</td>\n",
              "      <td>0.052297</td>\n",
              "      <td>0.003479</td>\n",
              "      <td>0.092515</td>\n",
              "      <td>0.184843</td>\n",
              "      <td>0.043181</td>\n",
              "      <td>0.002230</td>\n",
              "      <td>0.257633</td>\n",
              "      <td>1</td>\n",
              "    </tr>\n",
              "    <tr>\n",
              "      <th>1</th>\n",
              "      <td>scott-s</td>\n",
              "      <td>Susan M Scott</td>\n",
              "      <td>susan.scott@enron.com</td>\n",
              "      <td>susan.scott@enron.com</td>\n",
              "      <td>A.Word.A.Day--euphemism</td>\n",
              "      <td>[budget, employer, send, thing, service, help,...</td>\n",
              "      <td>[(10, 1), (25, 1), (43, 1), (48, 1), (49, 1), ...</td>\n",
              "      <td>23</td>\n",
              "      <td>1840</td>\n",
              "      <td>1</td>\n",
              "      <td>0</td>\n",
              "      <td>0</td>\n",
              "      <td>0</td>\n",
              "      <td>0</td>\n",
              "      <td>0</td>\n",
              "      <td>0</td>\n",
              "      <td>0</td>\n",
              "      <td>0</td>\n",
              "      <td>0</td>\n",
              "      <td>1</td>\n",
              "      <td>0</td>\n",
              "      <td>0</td>\n",
              "      <td>0</td>\n",
              "      <td>0</td>\n",
              "      <td>0</td>\n",
              "      <td>1</td>\n",
              "      <td>0</td>\n",
              "      <td>0</td>\n",
              "      <td>0.090545</td>\n",
              "      <td>0.233451</td>\n",
              "      <td>0.001414</td>\n",
              "      <td>0.034475</td>\n",
              "      <td>0.041726</td>\n",
              "      <td>0.040874</td>\n",
              "      <td>0.048653</td>\n",
              "      <td>0.133914</td>\n",
              "      <td>0.071313</td>\n",
              "      <td>0.001847</td>\n",
              "      <td>0.025867</td>\n",
              "      <td>0.048609</td>\n",
              "      <td>0.035519</td>\n",
              "      <td>0.001169</td>\n",
              "      <td>0.190625</td>\n",
              "      <td>1</td>\n",
              "    </tr>\n",
              "    <tr>\n",
              "      <th>2</th>\n",
              "      <td>scott-s</td>\n",
              "      <td>Susan M Scott</td>\n",
              "      <td>susan.scott@enron.com</td>\n",
              "      <td>susan.scott@enron.com</td>\n",
              "      <td>A.Word.A.Day--sticky wicket</td>\n",
              "      <td>[checkout, want, need, ground, coalition, play...</td>\n",
              "      <td>[(0, 1), (7, 1), (10, 1), (15, 1), (43, 1), (4...</td>\n",
              "      <td>27</td>\n",
              "      <td>2307</td>\n",
              "      <td>1</td>\n",
              "      <td>0</td>\n",
              "      <td>0</td>\n",
              "      <td>0</td>\n",
              "      <td>0</td>\n",
              "      <td>0</td>\n",
              "      <td>0</td>\n",
              "      <td>0</td>\n",
              "      <td>0</td>\n",
              "      <td>0</td>\n",
              "      <td>0</td>\n",
              "      <td>1</td>\n",
              "      <td>0</td>\n",
              "      <td>0</td>\n",
              "      <td>0</td>\n",
              "      <td>0</td>\n",
              "      <td>1</td>\n",
              "      <td>0</td>\n",
              "      <td>0</td>\n",
              "      <td>0.089859</td>\n",
              "      <td>0.065308</td>\n",
              "      <td>0.001284</td>\n",
              "      <td>0.098101</td>\n",
              "      <td>0.026808</td>\n",
              "      <td>0.164065</td>\n",
              "      <td>0.094549</td>\n",
              "      <td>0.071050</td>\n",
              "      <td>0.108191</td>\n",
              "      <td>0.021885</td>\n",
              "      <td>0.024344</td>\n",
              "      <td>0.001236</td>\n",
              "      <td>0.027172</td>\n",
              "      <td>0.001062</td>\n",
              "      <td>0.205085</td>\n",
              "      <td>1</td>\n",
              "    </tr>\n",
              "    <tr>\n",
              "      <th>3</th>\n",
              "      <td>scott-s</td>\n",
              "      <td>Susan M Scott</td>\n",
              "      <td>susan.scott@enron.com</td>\n",
              "      <td>susan.scott@enron.com</td>\n",
              "      <td>A.Word.A.Day--dipsy doodle</td>\n",
              "      <td>[word, rather, kind, never, awad, know, useful...</td>\n",
              "      <td>[(10, 1), (43, 1), (48, 1), (50, 1), (56, 1), ...</td>\n",
              "      <td>26</td>\n",
              "      <td>1399</td>\n",
              "      <td>1</td>\n",
              "      <td>0</td>\n",
              "      <td>0</td>\n",
              "      <td>0</td>\n",
              "      <td>0</td>\n",
              "      <td>0</td>\n",
              "      <td>0</td>\n",
              "      <td>0</td>\n",
              "      <td>0</td>\n",
              "      <td>0</td>\n",
              "      <td>1</td>\n",
              "      <td>0</td>\n",
              "      <td>0</td>\n",
              "      <td>0</td>\n",
              "      <td>0</td>\n",
              "      <td>0</td>\n",
              "      <td>1</td>\n",
              "      <td>0</td>\n",
              "      <td>0</td>\n",
              "      <td>0.078704</td>\n",
              "      <td>0.099440</td>\n",
              "      <td>0.002228</td>\n",
              "      <td>0.033214</td>\n",
              "      <td>0.016874</td>\n",
              "      <td>0.111006</td>\n",
              "      <td>0.069661</td>\n",
              "      <td>0.102214</td>\n",
              "      <td>0.109213</td>\n",
              "      <td>0.017837</td>\n",
              "      <td>0.069548</td>\n",
              "      <td>0.002142</td>\n",
              "      <td>0.066220</td>\n",
              "      <td>0.001843</td>\n",
              "      <td>0.219855</td>\n",
              "      <td>1</td>\n",
              "    </tr>\n",
              "    <tr>\n",
              "      <th>4</th>\n",
              "      <td>scott-s</td>\n",
              "      <td>Susan M Scott</td>\n",
              "      <td>susan.scott@enron.com</td>\n",
              "      <td>susan.scott@enron.com</td>\n",
              "      <td>A.Word.A.Day--hat trick</td>\n",
              "      <td>[today, treat, friend, goal, give, player, emp...</td>\n",
              "      <td>[(43, 1), (48, 1), (50, 1), (56, 1), (67, 1), ...</td>\n",
              "      <td>23</td>\n",
              "      <td>1799</td>\n",
              "      <td>1</td>\n",
              "      <td>0</td>\n",
              "      <td>0</td>\n",
              "      <td>0</td>\n",
              "      <td>0</td>\n",
              "      <td>0</td>\n",
              "      <td>0</td>\n",
              "      <td>0</td>\n",
              "      <td>0</td>\n",
              "      <td>0</td>\n",
              "      <td>1</td>\n",
              "      <td>0</td>\n",
              "      <td>0</td>\n",
              "      <td>0</td>\n",
              "      <td>0</td>\n",
              "      <td>0</td>\n",
              "      <td>1</td>\n",
              "      <td>0</td>\n",
              "      <td>0</td>\n",
              "      <td>0.018151</td>\n",
              "      <td>0.065144</td>\n",
              "      <td>0.001427</td>\n",
              "      <td>0.097256</td>\n",
              "      <td>0.052222</td>\n",
              "      <td>0.163299</td>\n",
              "      <td>0.140659</td>\n",
              "      <td>0.063030</td>\n",
              "      <td>0.141901</td>\n",
              "      <td>0.001836</td>\n",
              "      <td>0.051136</td>\n",
              "      <td>0.001371</td>\n",
              "      <td>0.027980</td>\n",
              "      <td>0.001180</td>\n",
              "      <td>0.173406</td>\n",
              "      <td>1</td>\n",
              "    </tr>\n",
              "  </tbody>\n",
              "</table>\n",
              "</div>"
            ],
            "text/plain": [
              "     sname           name                 email1  ...   topic14   topic15 deleted\n",
              "0  scott-s  Susan M Scott  susan.scott@enron.com  ...  0.002230  0.257633       1\n",
              "1  scott-s  Susan M Scott  susan.scott@enron.com  ...  0.001169  0.190625       1\n",
              "2  scott-s  Susan M Scott  susan.scott@enron.com  ...  0.001062  0.205085       1\n",
              "3  scott-s  Susan M Scott  susan.scott@enron.com  ...  0.001843  0.219855       1\n",
              "4  scott-s  Susan M Scott  susan.scott@enron.com  ...  0.001180  0.173406       1\n",
              "\n",
              "[5 rows x 44 columns]"
            ]
          },
          "metadata": {
            "tags": []
          },
          "execution_count": 30
        }
      ]
    },
    {
      "cell_type": "code",
      "metadata": {
        "id": "IRdd_-wUw9sk"
      },
      "source": [
        "# shuffle\n",
        "final_df = final_df.sample(frac=1).reset_index(drop=True)"
      ],
      "execution_count": null,
      "outputs": []
    },
    {
      "cell_type": "code",
      "metadata": {
        "colab": {
          "base_uri": "https://localhost:8080/",
          "height": 598
        },
        "id": "00aOoqhpxDlt",
        "outputId": "2e6769d1-17f5-4285-b04f-401bc7e42dc6"
      },
      "source": [
        "print(final_df.shape)\n",
        "final_df.head()"
      ],
      "execution_count": null,
      "outputs": [
        {
          "output_type": "stream",
          "text": [
            "(9885, 44)\n"
          ],
          "name": "stdout"
        },
        {
          "output_type": "execute_result",
          "data": {
            "text/html": [
              "<div>\n",
              "<style scoped>\n",
              "    .dataframe tbody tr th:only-of-type {\n",
              "        vertical-align: middle;\n",
              "    }\n",
              "\n",
              "    .dataframe tbody tr th {\n",
              "        vertical-align: top;\n",
              "    }\n",
              "\n",
              "    .dataframe thead th {\n",
              "        text-align: right;\n",
              "    }\n",
              "</style>\n",
              "<table border=\"1\" class=\"dataframe\">\n",
              "  <thead>\n",
              "    <tr style=\"text-align: right;\">\n",
              "      <th></th>\n",
              "      <th>sname</th>\n",
              "      <th>name</th>\n",
              "      <th>email1</th>\n",
              "      <th>email2</th>\n",
              "      <th>subject</th>\n",
              "      <th>processedBody</th>\n",
              "      <th>bowBody</th>\n",
              "      <th>subjectLength</th>\n",
              "      <th>bodyLength</th>\n",
              "      <th>notOnToOrCcLine</th>\n",
              "      <th>firstOnToLine</th>\n",
              "      <th>secondOnToLine</th>\n",
              "      <th>thirdOrLaterOnToLine</th>\n",
              "      <th>firstOnCcLine</th>\n",
              "      <th>secondOrLaterOnCcLine</th>\n",
              "      <th>bodyLength[0-100]</th>\n",
              "      <th>bodyLength[101-200]</th>\n",
              "      <th>bodyLength[201-400]</th>\n",
              "      <th>bodyLength[401-1000]</th>\n",
              "      <th>bodyLength[1001-2000]</th>\n",
              "      <th>bodyLength[2001-5000]</th>\n",
              "      <th>bodyLength[&gt;5000]</th>\n",
              "      <th>subjectLength[0-7]</th>\n",
              "      <th>subjectLength[8-13]</th>\n",
              "      <th>subjectLength[14-20]</th>\n",
              "      <th>subjectLength[21-30]</th>\n",
              "      <th>subjectLength[31-45]</th>\n",
              "      <th>subjectLength[&gt;45]</th>\n",
              "      <th>topic01</th>\n",
              "      <th>topic02</th>\n",
              "      <th>topic03</th>\n",
              "      <th>topic04</th>\n",
              "      <th>topic05</th>\n",
              "      <th>topic06</th>\n",
              "      <th>topic07</th>\n",
              "      <th>topic08</th>\n",
              "      <th>topic09</th>\n",
              "      <th>topic10</th>\n",
              "      <th>topic11</th>\n",
              "      <th>topic12</th>\n",
              "      <th>topic13</th>\n",
              "      <th>topic14</th>\n",
              "      <th>topic15</th>\n",
              "      <th>deleted</th>\n",
              "    </tr>\n",
              "  </thead>\n",
              "  <tbody>\n",
              "    <tr>\n",
              "      <th>0</th>\n",
              "      <td>beck-s</td>\n",
              "      <td>Sally Beck</td>\n",
              "      <td>sally.beck@enron.com</td>\n",
              "      <td>sally.beck@enron.com</td>\n",
              "      <td>\\\\spr1inf1\\sapfiles\\ifout\\04000\\20020102-DENWE...</td>\n",
              "      <td>[payment, business, emailthi, isare, unit, tha...</td>\n",
              "      <td>[(11, 1), (120, 1), (225, 1), (260, 1), (424, ...</td>\n",
              "      <td>50</td>\n",
              "      <td>242</td>\n",
              "      <td>0</td>\n",
              "      <td>0</td>\n",
              "      <td>1</td>\n",
              "      <td>0</td>\n",
              "      <td>0</td>\n",
              "      <td>0</td>\n",
              "      <td>0</td>\n",
              "      <td>0</td>\n",
              "      <td>1</td>\n",
              "      <td>0</td>\n",
              "      <td>0</td>\n",
              "      <td>0</td>\n",
              "      <td>0</td>\n",
              "      <td>0</td>\n",
              "      <td>0</td>\n",
              "      <td>0</td>\n",
              "      <td>0</td>\n",
              "      <td>0</td>\n",
              "      <td>1</td>\n",
              "      <td>0.021829</td>\n",
              "      <td>0.091879</td>\n",
              "      <td>0.006890</td>\n",
              "      <td>0.016382</td>\n",
              "      <td>0.266443</td>\n",
              "      <td>0.072445</td>\n",
              "      <td>0.019697</td>\n",
              "      <td>0.016506</td>\n",
              "      <td>0.044190</td>\n",
              "      <td>0.009381</td>\n",
              "      <td>0.008569</td>\n",
              "      <td>0.006636</td>\n",
              "      <td>0.020877</td>\n",
              "      <td>0.005713</td>\n",
              "      <td>0.392563</td>\n",
              "      <td>0</td>\n",
              "    </tr>\n",
              "    <tr>\n",
              "      <th>1</th>\n",
              "      <td>bass-e</td>\n",
              "      <td>Bass, Eric</td>\n",
              "      <td>eric.bass@enron.com</td>\n",
              "      <td>eric.bass@enron.com</td>\n",
              "      <td>Holiday Specials from Hawaiitropicals.com</td>\n",
              "      <td>[today, novelty, reply, consist, price, gift, ...</td>\n",
              "      <td>[(0, 1), (32, 1), (43, 1), (48, 1), (54, 1), (...</td>\n",
              "      <td>41</td>\n",
              "      <td>1810</td>\n",
              "      <td>1</td>\n",
              "      <td>0</td>\n",
              "      <td>0</td>\n",
              "      <td>0</td>\n",
              "      <td>0</td>\n",
              "      <td>0</td>\n",
              "      <td>0</td>\n",
              "      <td>0</td>\n",
              "      <td>0</td>\n",
              "      <td>0</td>\n",
              "      <td>1</td>\n",
              "      <td>0</td>\n",
              "      <td>0</td>\n",
              "      <td>0</td>\n",
              "      <td>0</td>\n",
              "      <td>0</td>\n",
              "      <td>0</td>\n",
              "      <td>1</td>\n",
              "      <td>0</td>\n",
              "      <td>0.247094</td>\n",
              "      <td>0.063344</td>\n",
              "      <td>0.002073</td>\n",
              "      <td>0.061400</td>\n",
              "      <td>0.039416</td>\n",
              "      <td>0.038206</td>\n",
              "      <td>0.111409</td>\n",
              "      <td>0.004965</td>\n",
              "      <td>0.016921</td>\n",
              "      <td>0.002685</td>\n",
              "      <td>0.016026</td>\n",
              "      <td>0.002004</td>\n",
              "      <td>0.005682</td>\n",
              "      <td>0.015165</td>\n",
              "      <td>0.373610</td>\n",
              "      <td>1</td>\n",
              "    </tr>\n",
              "    <tr>\n",
              "      <th>2</th>\n",
              "      <td>allen-p</td>\n",
              "      <td>Allen, Phillip K.</td>\n",
              "      <td>k..allen@enron.com</td>\n",
              "      <td>phillip.allen@enron.com</td>\n",
              "      <td>Mortgage rates hit new lows</td>\n",
              "      <td>[today, receipt, brokerdealer, reply, reserve,...</td>\n",
              "      <td>[(0, 1), (11, 1), (15, 1), (32, 1), (41, 1), (...</td>\n",
              "      <td>27</td>\n",
              "      <td>3055</td>\n",
              "      <td>1</td>\n",
              "      <td>0</td>\n",
              "      <td>0</td>\n",
              "      <td>0</td>\n",
              "      <td>0</td>\n",
              "      <td>0</td>\n",
              "      <td>0</td>\n",
              "      <td>0</td>\n",
              "      <td>0</td>\n",
              "      <td>0</td>\n",
              "      <td>0</td>\n",
              "      <td>1</td>\n",
              "      <td>0</td>\n",
              "      <td>0</td>\n",
              "      <td>0</td>\n",
              "      <td>0</td>\n",
              "      <td>1</td>\n",
              "      <td>0</td>\n",
              "      <td>0</td>\n",
              "      <td>0.157582</td>\n",
              "      <td>0.070119</td>\n",
              "      <td>0.052106</td>\n",
              "      <td>0.078287</td>\n",
              "      <td>0.109527</td>\n",
              "      <td>0.084157</td>\n",
              "      <td>0.003841</td>\n",
              "      <td>0.026250</td>\n",
              "      <td>0.026601</td>\n",
              "      <td>0.034757</td>\n",
              "      <td>0.009434</td>\n",
              "      <td>0.009210</td>\n",
              "      <td>0.037483</td>\n",
              "      <td>0.017509</td>\n",
              "      <td>0.283137</td>\n",
              "      <td>1</td>\n",
              "    </tr>\n",
              "    <tr>\n",
              "      <th>3</th>\n",
              "      <td>ward-k</td>\n",
              "      <td>Ward, Kim S.</td>\n",
              "      <td>s..ward@enron.com</td>\n",
              "      <td>kim.ward@enron.com</td>\n",
              "      <td></td>\n",
              "      <td>[cell]</td>\n",
              "      <td>[(1972, 1)]</td>\n",
              "      <td>0</td>\n",
              "      <td>77</td>\n",
              "      <td>1</td>\n",
              "      <td>0</td>\n",
              "      <td>0</td>\n",
              "      <td>0</td>\n",
              "      <td>0</td>\n",
              "      <td>0</td>\n",
              "      <td>1</td>\n",
              "      <td>0</td>\n",
              "      <td>0</td>\n",
              "      <td>0</td>\n",
              "      <td>0</td>\n",
              "      <td>0</td>\n",
              "      <td>0</td>\n",
              "      <td>1</td>\n",
              "      <td>0</td>\n",
              "      <td>0</td>\n",
              "      <td>0</td>\n",
              "      <td>0</td>\n",
              "      <td>0</td>\n",
              "      <td>0.047087</td>\n",
              "      <td>0.074944</td>\n",
              "      <td>0.014863</td>\n",
              "      <td>0.035337</td>\n",
              "      <td>0.052378</td>\n",
              "      <td>0.072908</td>\n",
              "      <td>0.042489</td>\n",
              "      <td>0.035604</td>\n",
              "      <td>0.095323</td>\n",
              "      <td>0.019089</td>\n",
              "      <td>0.018485</td>\n",
              "      <td>0.014314</td>\n",
              "      <td>0.040394</td>\n",
              "      <td>0.012323</td>\n",
              "      <td>0.424461</td>\n",
              "      <td>0</td>\n",
              "    </tr>\n",
              "    <tr>\n",
              "      <th>4</th>\n",
              "      <td>zipper-a</td>\n",
              "      <td>Zipper, Andy</td>\n",
              "      <td>andy.zipper@enron.com</td>\n",
              "      <td></td>\n",
              "      <td>GIDDINGS BBQ FLY IN  DEC 15</td>\n",
              "      <td>[noon, see, flyin, successful, like, bean, pil...</td>\n",
              "      <td>[(19, 1), (20, 1), (47, 1), (50, 1), (67, 1), ...</td>\n",
              "      <td>27</td>\n",
              "      <td>916</td>\n",
              "      <td>0</td>\n",
              "      <td>1</td>\n",
              "      <td>0</td>\n",
              "      <td>0</td>\n",
              "      <td>0</td>\n",
              "      <td>0</td>\n",
              "      <td>0</td>\n",
              "      <td>0</td>\n",
              "      <td>0</td>\n",
              "      <td>1</td>\n",
              "      <td>0</td>\n",
              "      <td>0</td>\n",
              "      <td>0</td>\n",
              "      <td>0</td>\n",
              "      <td>0</td>\n",
              "      <td>0</td>\n",
              "      <td>1</td>\n",
              "      <td>0</td>\n",
              "      <td>0</td>\n",
              "      <td>0.008533</td>\n",
              "      <td>0.103858</td>\n",
              "      <td>0.002687</td>\n",
              "      <td>0.006684</td>\n",
              "      <td>0.051875</td>\n",
              "      <td>0.061260</td>\n",
              "      <td>0.037960</td>\n",
              "      <td>0.006464</td>\n",
              "      <td>0.099943</td>\n",
              "      <td>0.021313</td>\n",
              "      <td>0.044093</td>\n",
              "      <td>0.092402</td>\n",
              "      <td>0.052321</td>\n",
              "      <td>0.002228</td>\n",
              "      <td>0.408379</td>\n",
              "      <td>0</td>\n",
              "    </tr>\n",
              "  </tbody>\n",
              "</table>\n",
              "</div>"
            ],
            "text/plain": [
              "      sname               name  ...   topic15 deleted\n",
              "0    beck-s         Sally Beck  ...  0.392563       0\n",
              "1    bass-e         Bass, Eric  ...  0.373610       1\n",
              "2   allen-p  Allen, Phillip K.  ...  0.283137       1\n",
              "3    ward-k       Ward, Kim S.  ...  0.424461       0\n",
              "4  zipper-a       Zipper, Andy  ...  0.408379       0\n",
              "\n",
              "[5 rows x 44 columns]"
            ]
          },
          "metadata": {
            "tags": []
          },
          "execution_count": 32
        }
      ]
    },
    {
      "cell_type": "code",
      "metadata": {
        "colab": {
          "base_uri": "https://localhost:8080/"
        },
        "id": "BlfOVJn0xSbH",
        "outputId": "0e9f63ff-aac3-4f61-cf73-0f090a7006b8"
      },
      "source": [
        "# split train/test \n",
        "train_perc = 0.7 # percentage of training data\n",
        "split_point = int(train_perc*len(final_df))\n",
        "\n",
        "df_train = final_df.iloc[:split_point,:]\n",
        "df_test = final_df.iloc[split_point+1:,:]\n",
        "\n",
        "print(\"train df:\", df_train.shape)\n",
        "print(\"test df: \", df_test.shape)"
      ],
      "execution_count": null,
      "outputs": [
        {
          "output_type": "stream",
          "text": [
            "train df: (6919, 44)\n",
            "test df:  (2965, 44)\n"
          ],
          "name": "stdout"
        }
      ]
    },
    {
      "cell_type": "markdown",
      "metadata": {
        "id": "Z3RtfaqsAXPK"
      },
      "source": [
        "## 04.02. Classifier 101"
      ]
    },
    {
      "cell_type": "markdown",
      "metadata": {
        "id": "nXKHAbFjzdnC"
      },
      "source": [
        "In this starter model, we train a classifier using the following features:\n",
        "- BodyLength (Numeric feature)\n",
        "- SubjectLength (Numeric feature)\n",
        "- ToCcPosiiton features (One-of-N-feature)"
      ]
    },
    {
      "cell_type": "markdown",
      "metadata": {
        "id": "G1hgH9pOamq7"
      },
      "source": [
        "![PGM-1-101 (1).jpg](data:image/jpeg;base64,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)"
      ]
    },
    {
      "cell_type": "code",
      "metadata": {
        "colab": {
          "base_uri": "https://localhost:8080/",
          "height": 581
        },
        "id": "j5tcHJtBAdjL",
        "outputId": "a851ff73-ea1e-43fd-d675-12888d878708"
      },
      "source": [
        "df_train.head()"
      ],
      "execution_count": null,
      "outputs": [
        {
          "output_type": "execute_result",
          "data": {
            "text/html": [
              "<div>\n",
              "<style scoped>\n",
              "    .dataframe tbody tr th:only-of-type {\n",
              "        vertical-align: middle;\n",
              "    }\n",
              "\n",
              "    .dataframe tbody tr th {\n",
              "        vertical-align: top;\n",
              "    }\n",
              "\n",
              "    .dataframe thead th {\n",
              "        text-align: right;\n",
              "    }\n",
              "</style>\n",
              "<table border=\"1\" class=\"dataframe\">\n",
              "  <thead>\n",
              "    <tr style=\"text-align: right;\">\n",
              "      <th></th>\n",
              "      <th>sname</th>\n",
              "      <th>name</th>\n",
              "      <th>email1</th>\n",
              "      <th>email2</th>\n",
              "      <th>subject</th>\n",
              "      <th>processedBody</th>\n",
              "      <th>bowBody</th>\n",
              "      <th>subjectLength</th>\n",
              "      <th>bodyLength</th>\n",
              "      <th>notOnToOrCcLine</th>\n",
              "      <th>firstOnToLine</th>\n",
              "      <th>secondOnToLine</th>\n",
              "      <th>thirdOrLaterOnToLine</th>\n",
              "      <th>firstOnCcLine</th>\n",
              "      <th>secondOrLaterOnCcLine</th>\n",
              "      <th>bodyLength[0-100]</th>\n",
              "      <th>bodyLength[101-200]</th>\n",
              "      <th>bodyLength[201-400]</th>\n",
              "      <th>bodyLength[401-1000]</th>\n",
              "      <th>bodyLength[1001-2000]</th>\n",
              "      <th>bodyLength[2001-5000]</th>\n",
              "      <th>bodyLength[&gt;5000]</th>\n",
              "      <th>subjectLength[0-7]</th>\n",
              "      <th>subjectLength[8-13]</th>\n",
              "      <th>subjectLength[14-20]</th>\n",
              "      <th>subjectLength[21-30]</th>\n",
              "      <th>subjectLength[31-45]</th>\n",
              "      <th>subjectLength[&gt;45]</th>\n",
              "      <th>topic01</th>\n",
              "      <th>topic02</th>\n",
              "      <th>topic03</th>\n",
              "      <th>topic04</th>\n",
              "      <th>topic05</th>\n",
              "      <th>topic06</th>\n",
              "      <th>topic07</th>\n",
              "      <th>topic08</th>\n",
              "      <th>topic09</th>\n",
              "      <th>topic10</th>\n",
              "      <th>topic11</th>\n",
              "      <th>topic12</th>\n",
              "      <th>topic13</th>\n",
              "      <th>topic14</th>\n",
              "      <th>topic15</th>\n",
              "      <th>deleted</th>\n",
              "    </tr>\n",
              "  </thead>\n",
              "  <tbody>\n",
              "    <tr>\n",
              "      <th>0</th>\n",
              "      <td>beck-s</td>\n",
              "      <td>Sally Beck</td>\n",
              "      <td>sally.beck@enron.com</td>\n",
              "      <td>sally.beck@enron.com</td>\n",
              "      <td>\\\\spr1inf1\\sapfiles\\ifout\\04000\\20020102-DENWE...</td>\n",
              "      <td>[payment, business, emailthi, isare, unit, tha...</td>\n",
              "      <td>[(11, 1), (120, 1), (225, 1), (260, 1), (424, ...</td>\n",
              "      <td>50</td>\n",
              "      <td>242</td>\n",
              "      <td>0</td>\n",
              "      <td>0</td>\n",
              "      <td>1</td>\n",
              "      <td>0</td>\n",
              "      <td>0</td>\n",
              "      <td>0</td>\n",
              "      <td>0</td>\n",
              "      <td>0</td>\n",
              "      <td>1</td>\n",
              "      <td>0</td>\n",
              "      <td>0</td>\n",
              "      <td>0</td>\n",
              "      <td>0</td>\n",
              "      <td>0</td>\n",
              "      <td>0</td>\n",
              "      <td>0</td>\n",
              "      <td>0</td>\n",
              "      <td>0</td>\n",
              "      <td>1</td>\n",
              "      <td>0.021829</td>\n",
              "      <td>0.091879</td>\n",
              "      <td>0.006890</td>\n",
              "      <td>0.016382</td>\n",
              "      <td>0.266443</td>\n",
              "      <td>0.072445</td>\n",
              "      <td>0.019697</td>\n",
              "      <td>0.016506</td>\n",
              "      <td>0.044190</td>\n",
              "      <td>0.009381</td>\n",
              "      <td>0.008569</td>\n",
              "      <td>0.006636</td>\n",
              "      <td>0.020877</td>\n",
              "      <td>0.005713</td>\n",
              "      <td>0.392563</td>\n",
              "      <td>0</td>\n",
              "    </tr>\n",
              "    <tr>\n",
              "      <th>1</th>\n",
              "      <td>bass-e</td>\n",
              "      <td>Bass, Eric</td>\n",
              "      <td>eric.bass@enron.com</td>\n",
              "      <td>eric.bass@enron.com</td>\n",
              "      <td>Holiday Specials from Hawaiitropicals.com</td>\n",
              "      <td>[today, novelty, reply, consist, price, gift, ...</td>\n",
              "      <td>[(0, 1), (32, 1), (43, 1), (48, 1), (54, 1), (...</td>\n",
              "      <td>41</td>\n",
              "      <td>1810</td>\n",
              "      <td>1</td>\n",
              "      <td>0</td>\n",
              "      <td>0</td>\n",
              "      <td>0</td>\n",
              "      <td>0</td>\n",
              "      <td>0</td>\n",
              "      <td>0</td>\n",
              "      <td>0</td>\n",
              "      <td>0</td>\n",
              "      <td>0</td>\n",
              "      <td>1</td>\n",
              "      <td>0</td>\n",
              "      <td>0</td>\n",
              "      <td>0</td>\n",
              "      <td>0</td>\n",
              "      <td>0</td>\n",
              "      <td>0</td>\n",
              "      <td>1</td>\n",
              "      <td>0</td>\n",
              "      <td>0.247094</td>\n",
              "      <td>0.063344</td>\n",
              "      <td>0.002073</td>\n",
              "      <td>0.061400</td>\n",
              "      <td>0.039416</td>\n",
              "      <td>0.038206</td>\n",
              "      <td>0.111409</td>\n",
              "      <td>0.004965</td>\n",
              "      <td>0.016921</td>\n",
              "      <td>0.002685</td>\n",
              "      <td>0.016026</td>\n",
              "      <td>0.002004</td>\n",
              "      <td>0.005682</td>\n",
              "      <td>0.015165</td>\n",
              "      <td>0.373610</td>\n",
              "      <td>1</td>\n",
              "    </tr>\n",
              "    <tr>\n",
              "      <th>2</th>\n",
              "      <td>allen-p</td>\n",
              "      <td>Allen, Phillip K.</td>\n",
              "      <td>k..allen@enron.com</td>\n",
              "      <td>phillip.allen@enron.com</td>\n",
              "      <td>Mortgage rates hit new lows</td>\n",
              "      <td>[today, receipt, brokerdealer, reply, reserve,...</td>\n",
              "      <td>[(0, 1), (11, 1), (15, 1), (32, 1), (41, 1), (...</td>\n",
              "      <td>27</td>\n",
              "      <td>3055</td>\n",
              "      <td>1</td>\n",
              "      <td>0</td>\n",
              "      <td>0</td>\n",
              "      <td>0</td>\n",
              "      <td>0</td>\n",
              "      <td>0</td>\n",
              "      <td>0</td>\n",
              "      <td>0</td>\n",
              "      <td>0</td>\n",
              "      <td>0</td>\n",
              "      <td>0</td>\n",
              "      <td>1</td>\n",
              "      <td>0</td>\n",
              "      <td>0</td>\n",
              "      <td>0</td>\n",
              "      <td>0</td>\n",
              "      <td>1</td>\n",
              "      <td>0</td>\n",
              "      <td>0</td>\n",
              "      <td>0.157582</td>\n",
              "      <td>0.070119</td>\n",
              "      <td>0.052106</td>\n",
              "      <td>0.078287</td>\n",
              "      <td>0.109527</td>\n",
              "      <td>0.084157</td>\n",
              "      <td>0.003841</td>\n",
              "      <td>0.026250</td>\n",
              "      <td>0.026601</td>\n",
              "      <td>0.034757</td>\n",
              "      <td>0.009434</td>\n",
              "      <td>0.009210</td>\n",
              "      <td>0.037483</td>\n",
              "      <td>0.017509</td>\n",
              "      <td>0.283137</td>\n",
              "      <td>1</td>\n",
              "    </tr>\n",
              "    <tr>\n",
              "      <th>3</th>\n",
              "      <td>ward-k</td>\n",
              "      <td>Ward, Kim S.</td>\n",
              "      <td>s..ward@enron.com</td>\n",
              "      <td>kim.ward@enron.com</td>\n",
              "      <td></td>\n",
              "      <td>[cell]</td>\n",
              "      <td>[(1972, 1)]</td>\n",
              "      <td>0</td>\n",
              "      <td>77</td>\n",
              "      <td>1</td>\n",
              "      <td>0</td>\n",
              "      <td>0</td>\n",
              "      <td>0</td>\n",
              "      <td>0</td>\n",
              "      <td>0</td>\n",
              "      <td>1</td>\n",
              "      <td>0</td>\n",
              "      <td>0</td>\n",
              "      <td>0</td>\n",
              "      <td>0</td>\n",
              "      <td>0</td>\n",
              "      <td>0</td>\n",
              "      <td>1</td>\n",
              "      <td>0</td>\n",
              "      <td>0</td>\n",
              "      <td>0</td>\n",
              "      <td>0</td>\n",
              "      <td>0</td>\n",
              "      <td>0.047087</td>\n",
              "      <td>0.074944</td>\n",
              "      <td>0.014863</td>\n",
              "      <td>0.035337</td>\n",
              "      <td>0.052378</td>\n",
              "      <td>0.072908</td>\n",
              "      <td>0.042489</td>\n",
              "      <td>0.035604</td>\n",
              "      <td>0.095323</td>\n",
              "      <td>0.019089</td>\n",
              "      <td>0.018485</td>\n",
              "      <td>0.014314</td>\n",
              "      <td>0.040394</td>\n",
              "      <td>0.012323</td>\n",
              "      <td>0.424461</td>\n",
              "      <td>0</td>\n",
              "    </tr>\n",
              "    <tr>\n",
              "      <th>4</th>\n",
              "      <td>zipper-a</td>\n",
              "      <td>Zipper, Andy</td>\n",
              "      <td>andy.zipper@enron.com</td>\n",
              "      <td></td>\n",
              "      <td>GIDDINGS BBQ FLY IN  DEC 15</td>\n",
              "      <td>[noon, see, flyin, successful, like, bean, pil...</td>\n",
              "      <td>[(19, 1), (20, 1), (47, 1), (50, 1), (67, 1), ...</td>\n",
              "      <td>27</td>\n",
              "      <td>916</td>\n",
              "      <td>0</td>\n",
              "      <td>1</td>\n",
              "      <td>0</td>\n",
              "      <td>0</td>\n",
              "      <td>0</td>\n",
              "      <td>0</td>\n",
              "      <td>0</td>\n",
              "      <td>0</td>\n",
              "      <td>0</td>\n",
              "      <td>1</td>\n",
              "      <td>0</td>\n",
              "      <td>0</td>\n",
              "      <td>0</td>\n",
              "      <td>0</td>\n",
              "      <td>0</td>\n",
              "      <td>0</td>\n",
              "      <td>1</td>\n",
              "      <td>0</td>\n",
              "      <td>0</td>\n",
              "      <td>0.008533</td>\n",
              "      <td>0.103858</td>\n",
              "      <td>0.002687</td>\n",
              "      <td>0.006684</td>\n",
              "      <td>0.051875</td>\n",
              "      <td>0.061260</td>\n",
              "      <td>0.037960</td>\n",
              "      <td>0.006464</td>\n",
              "      <td>0.099943</td>\n",
              "      <td>0.021313</td>\n",
              "      <td>0.044093</td>\n",
              "      <td>0.092402</td>\n",
              "      <td>0.052321</td>\n",
              "      <td>0.002228</td>\n",
              "      <td>0.408379</td>\n",
              "      <td>0</td>\n",
              "    </tr>\n",
              "  </tbody>\n",
              "</table>\n",
              "</div>"
            ],
            "text/plain": [
              "      sname               name  ...   topic15 deleted\n",
              "0    beck-s         Sally Beck  ...  0.392563       0\n",
              "1    bass-e         Bass, Eric  ...  0.373610       1\n",
              "2   allen-p  Allen, Phillip K.  ...  0.283137       1\n",
              "3    ward-k       Ward, Kim S.  ...  0.424461       0\n",
              "4  zipper-a       Zipper, Andy  ...  0.408379       0\n",
              "\n",
              "[5 rows x 44 columns]"
            ]
          },
          "metadata": {
            "tags": []
          },
          "execution_count": 34
        }
      ]
    },
    {
      "cell_type": "code",
      "metadata": {
        "colab": {
          "base_uri": "https://localhost:8080/"
        },
        "id": "WWWIeThzAXPT",
        "outputId": "c193e250-686d-48f3-cf18-49e0592e9f35"
      },
      "source": [
        "# train\n",
        "mat_train = df_train[[\"subjectLength\", \"bodyLength\", \"notOnToOrCcLine\",\t\n",
        "                      \"firstOnToLine\",\t\"secondOnToLine\",\t\"thirdOrLaterOnToLine\",\t\n",
        "                      \"firstOnCcLine\",\t\"secondOrLaterOnCcLine\",  \"deleted\"]].values\n",
        "X_train = mat_train[:,0:-1]\n",
        "y_train = mat_train[:,-1].astype(\"int\")\n",
        "print(\"train x: {}, y: {}\".format(X_train.shape, y_train.shape))\n",
        "\n",
        "# test\n",
        "mat_test = df_test[[\"subjectLength\", \"bodyLength\", \"notOnToOrCcLine\",\t\n",
        "                      \"firstOnToLine\",\t\"secondOnToLine\",\t\"thirdOrLaterOnToLine\",\t\n",
        "                      \"firstOnCcLine\",\t\"secondOrLaterOnCcLine\",  \"deleted\"]].values\n",
        "X_test = mat_test[:,0:-1]\n",
        "y_test = mat_test[:,-1].astype(\"int\")\n",
        "print(\"test x: {}, y: {}\".format(X_test.shape, y_test.shape))"
      ],
      "execution_count": null,
      "outputs": [
        {
          "output_type": "stream",
          "text": [
            "train x: (6919, 8), y: (6919,)\n",
            "test x: (2965, 8), y: (2965,)\n"
          ],
          "name": "stdout"
        }
      ]
    },
    {
      "cell_type": "code",
      "metadata": {
        "colab": {
          "base_uri": "https://localhost:8080/"
        },
        "id": "QR5H3uf1J858",
        "outputId": "e20fcfeb-e7b4-494e-fa1a-271c86322c0d"
      },
      "source": [
        "X_train[0]"
      ],
      "execution_count": null,
      "outputs": [
        {
          "output_type": "execute_result",
          "data": {
            "text/plain": [
              "array([ 50, 242,   0,   0,   1,   0,   0,   0])"
            ]
          },
          "metadata": {
            "tags": []
          },
          "execution_count": 36
        }
      ]
    },
    {
      "cell_type": "code",
      "metadata": {
        "colab": {
          "base_uri": "https://localhost:8080/"
        },
        "id": "QkfbssbLAXPU",
        "outputId": "3dc678b9-dafd-4ab1-9276-966ffc31fe3f"
      },
      "source": [
        "# create and fit a baseline model\n",
        "logreg = linear_model.LogisticRegression(solver='lbfgs', multi_class='auto', C=1)\n",
        "logreg.fit(X_train, y_train)\n",
        "\n",
        "# make predictions for test set\n",
        "y_hat = logreg.predict(X_test)\n",
        "print(\"predictions:\", y_hat)\n",
        "print(\"true values:\", y_test)\n",
        "\n",
        "# evaluate prediction accuracy\n",
        "print(\"Accuracy:\", 1.0*np.sum(y_hat == y_test) / len(y_test))"
      ],
      "execution_count": null,
      "outputs": [
        {
          "output_type": "stream",
          "text": [
            "predictions: [1 1 1 ... 1 1 1]\n",
            "true values: [1 0 1 ... 0 1 1]\n",
            "Accuracy: 0.5284991568296796\n"
          ],
          "name": "stdout"
        }
      ]
    },
    {
      "cell_type": "code",
      "metadata": {
        "id": "054fDI1cAXPU"
      },
      "source": [
        "def model(X, obs=None):\n",
        "    alpha = pyro.sample(\"alpha\", dist.Normal(0, 5.).to_event()) # Prior for the bias/intercept\n",
        "    beta  = pyro.sample(\"beta\", dist.Normal(torch.zeros(X.shape[1]), \n",
        "                                            5.*torch.ones(X.shape[1])).to_event()) # Priors for the regression coeffcients\n",
        "    \n",
        "    with pyro.plate(\"data\"):\n",
        "        logits = alpha + X.matmul(beta)\n",
        "        y = pyro.sample(\"y\", dist.Bernoulli(logits=logits), obs=obs)\n",
        "        \n",
        "    return y"
      ],
      "execution_count": null,
      "outputs": []
    },
    {
      "cell_type": "code",
      "metadata": {
        "id": "3gTQOQMVAXPU"
      },
      "source": [
        "# Prepare data for Pyro\n",
        "X_train = X_train.astype(np.float64)\n",
        "y_train = y_train.astype(np.int32)\n",
        "\n",
        "X_train = torch.tensor(X_train).float()\n",
        "y_train = torch.tensor(y_train).float()"
      ],
      "execution_count": null,
      "outputs": []
    },
    {
      "cell_type": "code",
      "metadata": {
        "colab": {
          "base_uri": "https://localhost:8080/"
        },
        "id": "_7tW8-DfKG-V",
        "outputId": "f665e1d4-de5e-4cca-8107-a31151dec421"
      },
      "source": [
        "X_train[0]"
      ],
      "execution_count": null,
      "outputs": [
        {
          "output_type": "execute_result",
          "data": {
            "text/plain": [
              "tensor([ 50., 242.,   0.,   0.,   1.,   0.,   0.,   0.])"
            ]
          },
          "metadata": {
            "tags": []
          },
          "execution_count": 40
        }
      ]
    },
    {
      "cell_type": "code",
      "metadata": {
        "id": "KtRlSQxIAXPV",
        "colab": {
          "base_uri": "https://localhost:8080/"
        },
        "outputId": "78c21da4-a6ff-4059-faad-51c8143d6d15"
      },
      "source": [
        "# Define guide function\n",
        "guide = AutoMultivariateNormal(model)\n",
        "\n",
        "# Reset parameter values\n",
        "pyro.clear_param_store()\n",
        "\n",
        "# Define the number of optimization steps\n",
        "n_steps = 30000\n",
        "\n",
        "# Setup the optimizer\n",
        "adam_params = {\"lr\": 0.001}\n",
        "optimizer = ClippedAdam(adam_params)\n",
        "\n",
        "# Setup the inference algorithm\n",
        "elbo = Trace_ELBO(num_particles=1)\n",
        "svi = SVI(model, guide, optimizer, loss=elbo)\n",
        "\n",
        "# Do gradient steps\n",
        "for step in range(n_steps):\n",
        "    elbo = svi.step(X_train, y_train)\n",
        "    if step % 1000 == 0:\n",
        "        print(\"[%d] ELBO: %.1f\" % (step, elbo))"
      ],
      "execution_count": null,
      "outputs": [
        {
          "output_type": "stream",
          "text": [
            "[0] ELBO: 16202757.9\n",
            "[1000] ELBO: 4256092.3\n",
            "[2000] ELBO: 105662.6\n",
            "[3000] ELBO: 179721.1\n",
            "[4000] ELBO: 163141.1\n",
            "[5000] ELBO: 32188.2\n",
            "[6000] ELBO: 30117.5\n",
            "[7000] ELBO: 18389.3\n",
            "[8000] ELBO: 10403.8\n",
            "[9000] ELBO: 9792.5\n",
            "[10000] ELBO: 9002.0\n",
            "[11000] ELBO: 20761.0\n",
            "[12000] ELBO: 6459.8\n",
            "[13000] ELBO: 7429.8\n",
            "[14000] ELBO: 7316.2\n",
            "[15000] ELBO: 7731.6\n",
            "[16000] ELBO: 13222.1\n",
            "[17000] ELBO: 5864.2\n",
            "[18000] ELBO: 9678.3\n",
            "[19000] ELBO: 9697.4\n",
            "[20000] ELBO: 12540.2\n",
            "[21000] ELBO: 11638.1\n",
            "[22000] ELBO: 9662.2\n",
            "[23000] ELBO: 25124.6\n",
            "[24000] ELBO: 16194.7\n",
            "[25000] ELBO: 5023.7\n",
            "[26000] ELBO: 7243.2\n",
            "[27000] ELBO: 10950.6\n",
            "[28000] ELBO: 10955.0\n",
            "[29000] ELBO: 7756.8\n"
          ],
          "name": "stdout"
        }
      ]
    },
    {
      "cell_type": "code",
      "metadata": {
        "id": "e0fTrYulAXPV"
      },
      "source": [
        "from pyro.infer import Predictive\n",
        "\n",
        "predictive = Predictive(model, guide=guide, num_samples=2000,\n",
        "                        return_sites=(\"alpha\", \"beta\"))\n",
        "samples = predictive(X_train, y_train)"
      ],
      "execution_count": null,
      "outputs": []
    },
    {
      "cell_type": "code",
      "metadata": {
        "id": "LNcBy_5YAXPV"
      },
      "source": [
        "alpha_hat = samples[\"alpha\"].mean(axis=0).detach().numpy()\n",
        "beta_hat = samples[\"beta\"].mean(axis=0).detach().numpy()"
      ],
      "execution_count": null,
      "outputs": []
    },
    {
      "cell_type": "code",
      "metadata": {
        "colab": {
          "base_uri": "https://localhost:8080/"
        },
        "id": "ejxT01rkAXPV",
        "outputId": "ccbabfb8-0aac-429c-b14a-600b1ccc6fa5"
      },
      "source": [
        "# make predictions for test set\n",
        "y_hat = alpha_hat + np.dot(X_test, beta_hat.T)\n",
        "y_hat = np.squeeze(y_hat)\n",
        "y_hat = (y_hat > 0).astype(np.int)\n",
        "\n",
        "print(\"predictions:\", y_hat)\n",
        "print(\"true values:\", y_test)\n",
        "\n",
        "# evaluate prediction accuracy\n",
        "acc_c_101 = 1.0*np.sum(y_hat == y_test) / len(y_test)\n",
        "accuracies.append(acc_c_101)\n",
        "print(\"Accuracy:\", acc_c_101)"
      ],
      "execution_count": null,
      "outputs": [
        {
          "output_type": "stream",
          "text": [
            "predictions: [0 0 0 ... 0 0 0]\n",
            "true values: [1 0 1 ... 0 1 1]\n",
            "Accuracy: 0.49881956155143337\n"
          ],
          "name": "stdout"
        }
      ]
    },
    {
      "cell_type": "markdown",
      "metadata": {
        "id": "KX7BNhGprQaP"
      },
      "source": [
        "## 04.03. Classifier 102"
      ]
    },
    {
      "cell_type": "markdown",
      "metadata": {
        "id": "syHunA720nok"
      },
      "source": [
        "In this model, we train a classifier using the following features:\n",
        "- BodyLength Bins (One-of-N-feature)\n",
        "- SubjectLength Bins (One-of-N-feature)\n",
        "- ToCcPosiiton features (One-of-N-feature)"
      ]
    },
    {
      "cell_type": "markdown",
      "metadata": {
        "id": "PA16zXWWatjD"
      },
      "source": [
        "![PGM-1-102.jpg](data:image/jpeg;base64,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)"
      ]
    },
    {
      "cell_type": "code",
      "metadata": {
        "colab": {
          "base_uri": "https://localhost:8080/"
        },
        "id": "1ZYGDPufKTm0",
        "outputId": "75a75125-3cc6-49d8-c2c4-f8a53a682635"
      },
      "source": [
        "# train\n",
        "mat_train = df_train.values\n",
        "X_train = mat_train[:,9:-16]\n",
        "y_train = mat_train[:,-1].astype(\"int\")\n",
        "print(\"train x: {}, y: {}\".format(X_train.shape, y_train.shape))\n",
        "\n",
        "# test\n",
        "mat_test = df_test.values\n",
        "X_test = mat_test[:,9:-16]\n",
        "y_test = mat_test[:,-1].astype(\"int\")\n",
        "print(\"test x: {}, y: {}\".format(X_test.shape, y_test.shape))"
      ],
      "execution_count": null,
      "outputs": [
        {
          "output_type": "stream",
          "text": [
            "train x: (6919, 19), y: (6919,)\n",
            "test x: (2965, 19), y: (2965,)\n"
          ],
          "name": "stdout"
        }
      ]
    },
    {
      "cell_type": "code",
      "metadata": {
        "colab": {
          "base_uri": "https://localhost:8080/"
        },
        "id": "JI6G04Ty97yB",
        "outputId": "0d8118c1-fa82-44d3-f9fd-cce8b2ab2573"
      },
      "source": [
        "X_test[0]"
      ],
      "execution_count": null,
      "outputs": [
        {
          "output_type": "execute_result",
          "data": {
            "text/plain": [
              "array([0, 0, 0, 1, 0, 0, 0, 0, 1, 0, 0, 0, 0, 0, 0, 1, 0, 0, 0],\n",
              "      dtype=object)"
            ]
          },
          "metadata": {
            "tags": []
          },
          "execution_count": 53
        }
      ]
    },
    {
      "cell_type": "code",
      "metadata": {
        "colab": {
          "base_uri": "https://localhost:8080/"
        },
        "id": "WjfnRzBavJCn",
        "outputId": "67421ecd-19ce-43ec-ebb4-6a2f45a851c6"
      },
      "source": [
        "# create and fit a baseline model\n",
        "logreg = linear_model.LogisticRegression(solver='lbfgs', multi_class='auto', C=1)\n",
        "logreg.fit(X_train, y_train)\n",
        "\n",
        "# make predictions for test set\n",
        "y_hat = logreg.predict(X_test)\n",
        "print(\"predictions:\", y_hat)\n",
        "print(\"true values:\", y_test)\n",
        "\n",
        "# evaluate prediction accuracy\n",
        "print(\"Accuracy:\", 1.0*np.sum(y_hat == y_test) / len(y_test))"
      ],
      "execution_count": null,
      "outputs": [
        {
          "output_type": "stream",
          "text": [
            "predictions: [0 1 1 ... 0 1 1]\n",
            "true values: [1 0 1 ... 0 1 1]\n",
            "Accuracy: 0.5858347386172007\n"
          ],
          "name": "stdout"
        }
      ]
    },
    {
      "cell_type": "code",
      "metadata": {
        "id": "z0-b_xDUvJCo"
      },
      "source": [
        "def model(X, obs=None):\n",
        "    alpha = pyro.sample(\"alpha\", dist.Normal(0, 5.).to_event()) # Prior for the bias/intercept\n",
        "    beta  = pyro.sample(\"beta\", dist.Normal(torch.zeros(X.shape[1]), \n",
        "                                            5.*torch.ones(X.shape[1])).to_event()) # Priors for the regression coeffcients\n",
        "    \n",
        "    with pyro.plate(\"data\"):\n",
        "        logits = alpha + X.matmul(beta)\n",
        "        y = pyro.sample(\"y\", dist.Bernoulli(logits=logits), obs=obs)\n",
        "        \n",
        "    return y"
      ],
      "execution_count": null,
      "outputs": []
    },
    {
      "cell_type": "code",
      "metadata": {
        "id": "mghc3H8pvJCp"
      },
      "source": [
        "# Prepare data for Pyro\n",
        "X_train = X_train.astype(np.int32)\n",
        "y_train = y_train.astype(np.int32)\n",
        "\n",
        "X_train = torch.tensor(X_train).float()\n",
        "y_train = torch.tensor(y_train).float()"
      ],
      "execution_count": null,
      "outputs": []
    },
    {
      "cell_type": "code",
      "metadata": {
        "id": "0-asLkwevJCp",
        "colab": {
          "base_uri": "https://localhost:8080/"
        },
        "outputId": "5c516bd7-cbf3-4908-ce9e-538504f72bff"
      },
      "source": [
        "# Define guide function\n",
        "guide = AutoMultivariateNormal(model)\n",
        "\n",
        "# Reset parameter values\n",
        "pyro.clear_param_store()\n",
        "\n",
        "# Define the number of optimization steps\n",
        "n_steps = 30000\n",
        "\n",
        "# Setup the optimizer\n",
        "adam_params = {\"lr\": 0.001}\n",
        "optimizer = ClippedAdam(adam_params)\n",
        "\n",
        "# Setup the inference algorithm\n",
        "elbo = Trace_ELBO(num_particles=1)\n",
        "svi = SVI(model, guide, optimizer, loss=elbo)\n",
        "\n",
        "# Do gradient steps\n",
        "for step in range(n_steps):\n",
        "    elbo = svi.step(X_train, y_train)\n",
        "    if step % 1000 == 0:\n",
        "        print(\"[%d] ELBO: %.1f\" % (step, elbo))"
      ],
      "execution_count": null,
      "outputs": [
        {
          "output_type": "stream",
          "text": [
            "[0] ELBO: 11442.5\n",
            "[1000] ELBO: 7446.9\n",
            "[2000] ELBO: 5478.9\n",
            "[3000] ELBO: 4930.2\n",
            "[4000] ELBO: 4764.9\n",
            "[5000] ELBO: 4764.9\n",
            "[6000] ELBO: 4762.6\n",
            "[7000] ELBO: 4754.8\n",
            "[8000] ELBO: 4757.4\n",
            "[9000] ELBO: 4756.9\n",
            "[10000] ELBO: 4756.2\n",
            "[11000] ELBO: 4754.1\n",
            "[12000] ELBO: 4751.0\n",
            "[13000] ELBO: 4757.7\n",
            "[14000] ELBO: 4756.5\n",
            "[15000] ELBO: 4757.3\n",
            "[16000] ELBO: 4755.7\n",
            "[17000] ELBO: 4755.3\n",
            "[18000] ELBO: 4755.0\n",
            "[19000] ELBO: 4753.9\n",
            "[20000] ELBO: 4756.6\n",
            "[21000] ELBO: 4759.0\n",
            "[22000] ELBO: 4750.4\n",
            "[23000] ELBO: 4753.6\n",
            "[24000] ELBO: 4755.4\n",
            "[25000] ELBO: 4754.5\n",
            "[26000] ELBO: 4757.0\n",
            "[27000] ELBO: 4753.7\n",
            "[28000] ELBO: 4756.7\n",
            "[29000] ELBO: 4755.2\n"
          ],
          "name": "stdout"
        }
      ]
    },
    {
      "cell_type": "code",
      "metadata": {
        "id": "LfO2EPYBz2G-"
      },
      "source": [
        "from pyro.infer import Predictive\n",
        "\n",
        "predictive = Predictive(model, guide=guide, num_samples=2000,\n",
        "                        return_sites=(\"alpha\", \"beta\"))\n",
        "samples = predictive(X_train, y_train)"
      ],
      "execution_count": null,
      "outputs": []
    },
    {
      "cell_type": "code",
      "metadata": {
        "id": "N_eICkiBvJCq"
      },
      "source": [
        "alpha_hat = samples[\"alpha\"].mean(axis=0).detach().numpy()\n",
        "beta_hat = samples[\"beta\"].mean(axis=0).detach().numpy()"
      ],
      "execution_count": null,
      "outputs": []
    },
    {
      "cell_type": "code",
      "metadata": {
        "colab": {
          "base_uri": "https://localhost:8080/"
        },
        "id": "jmSH46G60IUm",
        "outputId": "76d980d6-3910-4e37-a183-8d42bc03cfbe"
      },
      "source": [
        "# make predictions for test set\n",
        "y_hat = alpha_hat + np.dot(X_test, beta_hat.T)\n",
        "y_hat = np.squeeze(y_hat)\n",
        "y_hat = (y_hat > 0).astype(np.int)\n",
        "\n",
        "print(\"predictions:\", y_hat)\n",
        "print(\"true values:\", y_test)\n",
        "\n",
        "# evaluate prediction accuracy\n",
        "acc_c_102 = 1.0*np.sum(y_hat == y_test) / len(y_test)\n",
        "accuracies.append(acc_c_102)\n",
        "print(\"Accuracy:\", acc_c_102)"
      ],
      "execution_count": null,
      "outputs": [
        {
          "output_type": "stream",
          "text": [
            "predictions: [0 1 1 ... 0 1 1]\n",
            "true values: [1 0 1 ... 0 1 1]\n",
            "Accuracy: 0.575716694772344\n"
          ],
          "name": "stdout"
        }
      ]
    },
    {
      "cell_type": "markdown",
      "metadata": {
        "id": "ogOaXZ0uLgto"
      },
      "source": [
        "## 04.04. Classifier 103"
      ]
    },
    {
      "cell_type": "markdown",
      "metadata": {
        "id": "n-XGVfpm1MZ2"
      },
      "source": [
        "In this model we add the topics and we train a classifier using the following features:\n",
        "- BodyLength Bins (One-of-N-feature)\n",
        "- SubjectLength Bins (One-of-N-feature)\n",
        "- ToCcPosiiton features (One-of-N-feature)\n",
        "- Topics (Numeric features)"
      ]
    },
    {
      "cell_type": "markdown",
      "metadata": {
        "id": "nukYC4rVa8Ac"
      },
      "source": [
        "![PGM-1-103.jpg](data:image/jpeg;base64,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)"
      ]
    },
    {
      "cell_type": "code",
      "metadata": {
        "colab": {
          "base_uri": "https://localhost:8080/"
        },
        "id": "1glqrHQRLgt2",
        "outputId": "86ec5d7e-3366-4db8-edb9-c994e374fed5"
      },
      "source": [
        "# train\n",
        "mat_train = df_train.values\n",
        "X_train = mat_train[:,9:-1]\n",
        "y_train = mat_train[:,-1].astype(\"int\")\n",
        "print(\"train x: {}, y: {}\".format(X_train.shape, y_train.shape))\n",
        "\n",
        "# test\n",
        "mat_test = df_test.values\n",
        "X_test = mat_test[:,9:-1]\n",
        "y_test = mat_test[:,-1].astype(\"int\")\n",
        "print(\"test x: {}, y: {}\".format(X_test.shape, y_test.shape))"
      ],
      "execution_count": null,
      "outputs": [
        {
          "output_type": "stream",
          "text": [
            "train x: (6919, 34), y: (6919,)\n",
            "test x: (2965, 34), y: (2965,)\n"
          ],
          "name": "stdout"
        }
      ]
    },
    {
      "cell_type": "code",
      "metadata": {
        "colab": {
          "base_uri": "https://localhost:8080/"
        },
        "id": "4CzMtNwILgt3",
        "outputId": "1780e31b-6b31-4f09-841d-35c4c9dff61f"
      },
      "source": [
        "X_test[0]"
      ],
      "execution_count": null,
      "outputs": [
        {
          "output_type": "execute_result",
          "data": {
            "text/plain": [
              "array([0, 0, 0, 1, 0, 0, 0, 0, 1, 0, 0, 0, 0, 0, 0, 1, 0, 0, 0,\n",
              "       0.03177008032798767, 0.11562417447566986, 0.010028446093201637,\n",
              "       0.023842154070734978, 0.10039882361888885, 0.04919179901480675,\n",
              "       0.028667258098721504, 0.02402244508266449, 0.17819194495677948,\n",
              "       0.012879566289484501, 0.01247168704867363, 0.009657864458858967,\n",
              "       0.02725379541516304, 0.008314359001815319, 0.36768561601638794],\n",
              "      dtype=object)"
            ]
          },
          "metadata": {
            "tags": []
          },
          "execution_count": 62
        }
      ]
    },
    {
      "cell_type": "code",
      "metadata": {
        "colab": {
          "base_uri": "https://localhost:8080/"
        },
        "id": "0KItFKmfLgt4",
        "outputId": "801278e1-27a7-4af1-fcd6-c9ea91dd1cfb"
      },
      "source": [
        "# create and fit a baseline model\n",
        "logreg = linear_model.LogisticRegression(solver='lbfgs', multi_class='auto', C=1)\n",
        "logreg.fit(X_train, y_train)\n",
        "\n",
        "# make predictions for test set\n",
        "y_hat = logreg.predict(X_test)\n",
        "print(\"predictions:\", y_hat)\n",
        "print(\"true values:\", y_test)\n",
        "\n",
        "# evaluate prediction accuracy\n",
        "print(\"Accuracy:\", 1.0*np.sum(y_hat == y_test) / len(y_test))"
      ],
      "execution_count": null,
      "outputs": [
        {
          "output_type": "stream",
          "text": [
            "predictions: [0 0 1 ... 0 1 1]\n",
            "true values: [1 0 1 ... 0 1 1]\n",
            "Accuracy: 0.5834738617200674\n"
          ],
          "name": "stdout"
        }
      ]
    },
    {
      "cell_type": "code",
      "metadata": {
        "id": "50G4A_XRLgt4"
      },
      "source": [
        "def model(X, obs=None):\n",
        "    alpha = pyro.sample(\"alpha\", dist.Normal(0, 5.).to_event()) # Prior for the bias/intercept\n",
        "    beta  = pyro.sample(\"beta\", dist.Normal(torch.zeros(X.shape[1]), \n",
        "                                            5.*torch.ones(X.shape[1])).to_event()) # Priors for the regression coeffcients\n",
        "    \n",
        "    with pyro.plate(\"data\"):\n",
        "        logits = alpha + X.matmul(beta)\n",
        "        y = pyro.sample(\"y\", dist.Bernoulli(logits=logits), obs=obs)\n",
        "        \n",
        "    return y"
      ],
      "execution_count": null,
      "outputs": []
    },
    {
      "cell_type": "code",
      "metadata": {
        "id": "_nWGLVH7Lgt5"
      },
      "source": [
        "# Prepare data for Pyro\n",
        "X_train = X_train.astype(np.float64)\n",
        "y_train = y_train.astype(np.int32)\n",
        "\n",
        "X_train = torch.tensor(X_train).float()\n",
        "y_train = torch.tensor(y_train).float()"
      ],
      "execution_count": null,
      "outputs": []
    },
    {
      "cell_type": "code",
      "metadata": {
        "colab": {
          "base_uri": "https://localhost:8080/"
        },
        "id": "zwhMSo8zL0Va",
        "outputId": "75e56fca-c903-46f7-a79c-0ff2313de8fe"
      },
      "source": [
        "X_train[0]"
      ],
      "execution_count": null,
      "outputs": [
        {
          "output_type": "execute_result",
          "data": {
            "text/plain": [
              "tensor([0.0000, 0.0000, 1.0000, 0.0000, 0.0000, 0.0000, 0.0000, 0.0000, 1.0000,\n",
              "        0.0000, 0.0000, 0.0000, 0.0000, 0.0000, 0.0000, 0.0000, 0.0000, 0.0000,\n",
              "        1.0000, 0.0218, 0.0919, 0.0069, 0.0164, 0.2664, 0.0724, 0.0197, 0.0165,\n",
              "        0.0442, 0.0094, 0.0086, 0.0066, 0.0209, 0.0057, 0.3926])"
            ]
          },
          "metadata": {
            "tags": []
          },
          "execution_count": 66
        }
      ]
    },
    {
      "cell_type": "code",
      "metadata": {
        "id": "9zSA6TGoLgt5",
        "colab": {
          "base_uri": "https://localhost:8080/"
        },
        "outputId": "1ef75d61-2e2e-4f78-971b-992d5ce3d13d"
      },
      "source": [
        "# Define guide function\n",
        "guide = AutoMultivariateNormal(model)\n",
        "\n",
        "# Reset parameter values\n",
        "pyro.clear_param_store()\n",
        "\n",
        "# Define the number of optimization steps\n",
        "n_steps = 30000\n",
        "\n",
        "# Setup the optimizer\n",
        "adam_params = {\"lr\": 0.001}\n",
        "optimizer = ClippedAdam(adam_params)\n",
        "\n",
        "# Setup the inference algorithm\n",
        "elbo = Trace_ELBO(num_particles=1)\n",
        "svi = SVI(model, guide, optimizer, loss=elbo)\n",
        "\n",
        "# Do gradient steps\n",
        "for step in range(n_steps):\n",
        "    elbo = svi.step(X_train, y_train)\n",
        "    if step % 1000 == 0:\n",
        "        print(\"[%d] ELBO: %.1f\" % (step, elbo))"
      ],
      "execution_count": null,
      "outputs": [
        {
          "output_type": "stream",
          "text": [
            "[0] ELBO: 11172.5\n",
            "[1000] ELBO: 6560.6\n",
            "[2000] ELBO: 4851.5\n",
            "[3000] ELBO: 4774.7\n",
            "[4000] ELBO: 4768.6\n",
            "[5000] ELBO: 4758.0\n",
            "[6000] ELBO: 4757.7\n",
            "[7000] ELBO: 4756.1\n",
            "[8000] ELBO: 4749.3\n",
            "[9000] ELBO: 4753.8\n",
            "[10000] ELBO: 4758.9\n",
            "[11000] ELBO: 4752.0\n",
            "[12000] ELBO: 4756.2\n",
            "[13000] ELBO: 4753.9\n",
            "[14000] ELBO: 4755.5\n",
            "[15000] ELBO: 4754.8\n",
            "[16000] ELBO: 4752.9\n",
            "[17000] ELBO: 4751.7\n",
            "[18000] ELBO: 4751.5\n",
            "[19000] ELBO: 4753.0\n",
            "[20000] ELBO: 4751.5\n",
            "[21000] ELBO: 4752.8\n",
            "[22000] ELBO: 4752.3\n",
            "[23000] ELBO: 4752.1\n",
            "[24000] ELBO: 4751.0\n",
            "[25000] ELBO: 4752.0\n",
            "[26000] ELBO: 4749.9\n",
            "[27000] ELBO: 4751.7\n",
            "[28000] ELBO: 4752.3\n",
            "[29000] ELBO: 4752.1\n"
          ],
          "name": "stdout"
        }
      ]
    },
    {
      "cell_type": "code",
      "metadata": {
        "id": "PwyK8j4zLgt6"
      },
      "source": [
        "from pyro.infer import Predictive\n",
        "\n",
        "predictive = Predictive(model, guide=guide, num_samples=2000,\n",
        "                        return_sites=(\"alpha\", \"beta\"))\n",
        "samples = predictive(X_train, y_train)"
      ],
      "execution_count": null,
      "outputs": []
    },
    {
      "cell_type": "code",
      "metadata": {
        "id": "dw6NAyS-Lgt6"
      },
      "source": [
        "alpha_hat = samples[\"alpha\"].mean(axis=0).detach().numpy()\n",
        "beta_hat = samples[\"beta\"].mean(axis=0).detach().numpy()"
      ],
      "execution_count": null,
      "outputs": []
    },
    {
      "cell_type": "code",
      "metadata": {
        "colab": {
          "base_uri": "https://localhost:8080/"
        },
        "id": "FUwRMF7RLgt6",
        "outputId": "cf569dbb-cfa7-4375-8839-ec389a99ddd0"
      },
      "source": [
        "# make predictions for test set\n",
        "y_hat = alpha_hat + np.dot(X_test, beta_hat.T)\n",
        "y_hat = np.squeeze(y_hat)\n",
        "y_hat = (y_hat > 0).astype(np.int)\n",
        "\n",
        "print(\"predictions:\", y_hat)\n",
        "print(\"true values:\", y_test)\n",
        "\n",
        "# evaluate prediction accuracy\n",
        "acc_c_103 = 1.0*np.sum(y_hat == y_test) / len(y_test)\n",
        "accuracies.append(acc_c_103)\n",
        "print(\"Accuracy:\", acc_c_103)"
      ],
      "execution_count": null,
      "outputs": [
        {
          "output_type": "stream",
          "text": [
            "predictions: [0 0 1 ... 0 1 1]\n",
            "true values: [1 0 1 ... 0 1 1]\n",
            "Accuracy: 0.5804384485666104\n"
          ],
          "name": "stdout"
        }
      ]
    },
    {
      "cell_type": "markdown",
      "metadata": {
        "id": "xz87Jvdey85l"
      },
      "source": [
        "# 05. Hierarchal Classification"
      ]
    },
    {
      "cell_type": "markdown",
      "metadata": {
        "id": "4i1oJO-ymTOj"
      },
      "source": [
        "Here we want to model personalized choices of users for which emails they consider clutter and which they consider non-clutter. So we experiment with two hierarchal models with and without email topics."
      ]
    },
    {
      "cell_type": "markdown",
      "metadata": {
        "id": "rvYk_0ulO8MB"
      },
      "source": [
        "## 05.01. Prepare Dataset"
      ]
    },
    {
      "cell_type": "markdown",
      "metadata": {
        "id": "SHQ5f9oq1nJl"
      },
      "source": [
        "We need to add a unique integer identifier for every individual to be used in the hierarchal model."
      ]
    },
    {
      "cell_type": "code",
      "metadata": {
        "colab": {
          "base_uri": "https://localhost:8080/",
          "height": 581
        },
        "id": "0kyCwvtxEYiK",
        "outputId": "adecb1cf-9e1f-4a96-b51c-67101f686ee4"
      },
      "source": [
        "final_df.head()"
      ],
      "execution_count": null,
      "outputs": [
        {
          "output_type": "execute_result",
          "data": {
            "text/html": [
              "<div>\n",
              "<style scoped>\n",
              "    .dataframe tbody tr th:only-of-type {\n",
              "        vertical-align: middle;\n",
              "    }\n",
              "\n",
              "    .dataframe tbody tr th {\n",
              "        vertical-align: top;\n",
              "    }\n",
              "\n",
              "    .dataframe thead th {\n",
              "        text-align: right;\n",
              "    }\n",
              "</style>\n",
              "<table border=\"1\" class=\"dataframe\">\n",
              "  <thead>\n",
              "    <tr style=\"text-align: right;\">\n",
              "      <th></th>\n",
              "      <th>sname</th>\n",
              "      <th>name</th>\n",
              "      <th>email1</th>\n",
              "      <th>email2</th>\n",
              "      <th>subject</th>\n",
              "      <th>processedBody</th>\n",
              "      <th>bowBody</th>\n",
              "      <th>subjectLength</th>\n",
              "      <th>bodyLength</th>\n",
              "      <th>notOnToOrCcLine</th>\n",
              "      <th>firstOnToLine</th>\n",
              "      <th>secondOnToLine</th>\n",
              "      <th>thirdOrLaterOnToLine</th>\n",
              "      <th>firstOnCcLine</th>\n",
              "      <th>secondOrLaterOnCcLine</th>\n",
              "      <th>bodyLength[0-100]</th>\n",
              "      <th>bodyLength[101-200]</th>\n",
              "      <th>bodyLength[201-400]</th>\n",
              "      <th>bodyLength[401-1000]</th>\n",
              "      <th>bodyLength[1001-2000]</th>\n",
              "      <th>bodyLength[2001-5000]</th>\n",
              "      <th>bodyLength[&gt;5000]</th>\n",
              "      <th>subjectLength[0-7]</th>\n",
              "      <th>subjectLength[8-13]</th>\n",
              "      <th>subjectLength[14-20]</th>\n",
              "      <th>subjectLength[21-30]</th>\n",
              "      <th>subjectLength[31-45]</th>\n",
              "      <th>subjectLength[&gt;45]</th>\n",
              "      <th>topic01</th>\n",
              "      <th>topic02</th>\n",
              "      <th>topic03</th>\n",
              "      <th>topic04</th>\n",
              "      <th>topic05</th>\n",
              "      <th>topic06</th>\n",
              "      <th>topic07</th>\n",
              "      <th>topic08</th>\n",
              "      <th>topic09</th>\n",
              "      <th>topic10</th>\n",
              "      <th>topic11</th>\n",
              "      <th>topic12</th>\n",
              "      <th>topic13</th>\n",
              "      <th>topic14</th>\n",
              "      <th>topic15</th>\n",
              "      <th>deleted</th>\n",
              "    </tr>\n",
              "  </thead>\n",
              "  <tbody>\n",
              "    <tr>\n",
              "      <th>0</th>\n",
              "      <td>beck-s</td>\n",
              "      <td>Sally Beck</td>\n",
              "      <td>sally.beck@enron.com</td>\n",
              "      <td>sally.beck@enron.com</td>\n",
              "      <td>\\\\spr1inf1\\sapfiles\\ifout\\04000\\20020102-DENWE...</td>\n",
              "      <td>[payment, business, emailthi, isare, unit, tha...</td>\n",
              "      <td>[(11, 1), (120, 1), (225, 1), (260, 1), (424, ...</td>\n",
              "      <td>50</td>\n",
              "      <td>242</td>\n",
              "      <td>0</td>\n",
              "      <td>0</td>\n",
              "      <td>1</td>\n",
              "      <td>0</td>\n",
              "      <td>0</td>\n",
              "      <td>0</td>\n",
              "      <td>0</td>\n",
              "      <td>0</td>\n",
              "      <td>1</td>\n",
              "      <td>0</td>\n",
              "      <td>0</td>\n",
              "      <td>0</td>\n",
              "      <td>0</td>\n",
              "      <td>0</td>\n",
              "      <td>0</td>\n",
              "      <td>0</td>\n",
              "      <td>0</td>\n",
              "      <td>0</td>\n",
              "      <td>1</td>\n",
              "      <td>0.021829</td>\n",
              "      <td>0.091879</td>\n",
              "      <td>0.006890</td>\n",
              "      <td>0.016382</td>\n",
              "      <td>0.266443</td>\n",
              "      <td>0.072445</td>\n",
              "      <td>0.019697</td>\n",
              "      <td>0.016506</td>\n",
              "      <td>0.044190</td>\n",
              "      <td>0.009381</td>\n",
              "      <td>0.008569</td>\n",
              "      <td>0.006636</td>\n",
              "      <td>0.020877</td>\n",
              "      <td>0.005713</td>\n",
              "      <td>0.392563</td>\n",
              "      <td>0</td>\n",
              "    </tr>\n",
              "    <tr>\n",
              "      <th>1</th>\n",
              "      <td>bass-e</td>\n",
              "      <td>Bass, Eric</td>\n",
              "      <td>eric.bass@enron.com</td>\n",
              "      <td>eric.bass@enron.com</td>\n",
              "      <td>Holiday Specials from Hawaiitropicals.com</td>\n",
              "      <td>[today, novelty, reply, consist, price, gift, ...</td>\n",
              "      <td>[(0, 1), (32, 1), (43, 1), (48, 1), (54, 1), (...</td>\n",
              "      <td>41</td>\n",
              "      <td>1810</td>\n",
              "      <td>1</td>\n",
              "      <td>0</td>\n",
              "      <td>0</td>\n",
              "      <td>0</td>\n",
              "      <td>0</td>\n",
              "      <td>0</td>\n",
              "      <td>0</td>\n",
              "      <td>0</td>\n",
              "      <td>0</td>\n",
              "      <td>0</td>\n",
              "      <td>1</td>\n",
              "      <td>0</td>\n",
              "      <td>0</td>\n",
              "      <td>0</td>\n",
              "      <td>0</td>\n",
              "      <td>0</td>\n",
              "      <td>0</td>\n",
              "      <td>1</td>\n",
              "      <td>0</td>\n",
              "      <td>0.247094</td>\n",
              "      <td>0.063344</td>\n",
              "      <td>0.002073</td>\n",
              "      <td>0.061400</td>\n",
              "      <td>0.039416</td>\n",
              "      <td>0.038206</td>\n",
              "      <td>0.111409</td>\n",
              "      <td>0.004965</td>\n",
              "      <td>0.016921</td>\n",
              "      <td>0.002685</td>\n",
              "      <td>0.016026</td>\n",
              "      <td>0.002004</td>\n",
              "      <td>0.005682</td>\n",
              "      <td>0.015165</td>\n",
              "      <td>0.373610</td>\n",
              "      <td>1</td>\n",
              "    </tr>\n",
              "    <tr>\n",
              "      <th>2</th>\n",
              "      <td>allen-p</td>\n",
              "      <td>Allen, Phillip K.</td>\n",
              "      <td>k..allen@enron.com</td>\n",
              "      <td>phillip.allen@enron.com</td>\n",
              "      <td>Mortgage rates hit new lows</td>\n",
              "      <td>[today, receipt, brokerdealer, reply, reserve,...</td>\n",
              "      <td>[(0, 1), (11, 1), (15, 1), (32, 1), (41, 1), (...</td>\n",
              "      <td>27</td>\n",
              "      <td>3055</td>\n",
              "      <td>1</td>\n",
              "      <td>0</td>\n",
              "      <td>0</td>\n",
              "      <td>0</td>\n",
              "      <td>0</td>\n",
              "      <td>0</td>\n",
              "      <td>0</td>\n",
              "      <td>0</td>\n",
              "      <td>0</td>\n",
              "      <td>0</td>\n",
              "      <td>0</td>\n",
              "      <td>1</td>\n",
              "      <td>0</td>\n",
              "      <td>0</td>\n",
              "      <td>0</td>\n",
              "      <td>0</td>\n",
              "      <td>1</td>\n",
              "      <td>0</td>\n",
              "      <td>0</td>\n",
              "      <td>0.157582</td>\n",
              "      <td>0.070119</td>\n",
              "      <td>0.052106</td>\n",
              "      <td>0.078287</td>\n",
              "      <td>0.109527</td>\n",
              "      <td>0.084157</td>\n",
              "      <td>0.003841</td>\n",
              "      <td>0.026250</td>\n",
              "      <td>0.026601</td>\n",
              "      <td>0.034757</td>\n",
              "      <td>0.009434</td>\n",
              "      <td>0.009210</td>\n",
              "      <td>0.037483</td>\n",
              "      <td>0.017509</td>\n",
              "      <td>0.283137</td>\n",
              "      <td>1</td>\n",
              "    </tr>\n",
              "    <tr>\n",
              "      <th>3</th>\n",
              "      <td>ward-k</td>\n",
              "      <td>Ward, Kim S.</td>\n",
              "      <td>s..ward@enron.com</td>\n",
              "      <td>kim.ward@enron.com</td>\n",
              "      <td></td>\n",
              "      <td>[cell]</td>\n",
              "      <td>[(1972, 1)]</td>\n",
              "      <td>0</td>\n",
              "      <td>77</td>\n",
              "      <td>1</td>\n",
              "      <td>0</td>\n",
              "      <td>0</td>\n",
              "      <td>0</td>\n",
              "      <td>0</td>\n",
              "      <td>0</td>\n",
              "      <td>1</td>\n",
              "      <td>0</td>\n",
              "      <td>0</td>\n",
              "      <td>0</td>\n",
              "      <td>0</td>\n",
              "      <td>0</td>\n",
              "      <td>0</td>\n",
              "      <td>1</td>\n",
              "      <td>0</td>\n",
              "      <td>0</td>\n",
              "      <td>0</td>\n",
              "      <td>0</td>\n",
              "      <td>0</td>\n",
              "      <td>0.047087</td>\n",
              "      <td>0.074944</td>\n",
              "      <td>0.014863</td>\n",
              "      <td>0.035337</td>\n",
              "      <td>0.052378</td>\n",
              "      <td>0.072908</td>\n",
              "      <td>0.042489</td>\n",
              "      <td>0.035604</td>\n",
              "      <td>0.095323</td>\n",
              "      <td>0.019089</td>\n",
              "      <td>0.018485</td>\n",
              "      <td>0.014314</td>\n",
              "      <td>0.040394</td>\n",
              "      <td>0.012323</td>\n",
              "      <td>0.424461</td>\n",
              "      <td>0</td>\n",
              "    </tr>\n",
              "    <tr>\n",
              "      <th>4</th>\n",
              "      <td>zipper-a</td>\n",
              "      <td>Zipper, Andy</td>\n",
              "      <td>andy.zipper@enron.com</td>\n",
              "      <td></td>\n",
              "      <td>GIDDINGS BBQ FLY IN  DEC 15</td>\n",
              "      <td>[noon, see, flyin, successful, like, bean, pil...</td>\n",
              "      <td>[(19, 1), (20, 1), (47, 1), (50, 1), (67, 1), ...</td>\n",
              "      <td>27</td>\n",
              "      <td>916</td>\n",
              "      <td>0</td>\n",
              "      <td>1</td>\n",
              "      <td>0</td>\n",
              "      <td>0</td>\n",
              "      <td>0</td>\n",
              "      <td>0</td>\n",
              "      <td>0</td>\n",
              "      <td>0</td>\n",
              "      <td>0</td>\n",
              "      <td>1</td>\n",
              "      <td>0</td>\n",
              "      <td>0</td>\n",
              "      <td>0</td>\n",
              "      <td>0</td>\n",
              "      <td>0</td>\n",
              "      <td>0</td>\n",
              "      <td>1</td>\n",
              "      <td>0</td>\n",
              "      <td>0</td>\n",
              "      <td>0.008533</td>\n",
              "      <td>0.103858</td>\n",
              "      <td>0.002687</td>\n",
              "      <td>0.006684</td>\n",
              "      <td>0.051875</td>\n",
              "      <td>0.061260</td>\n",
              "      <td>0.037960</td>\n",
              "      <td>0.006464</td>\n",
              "      <td>0.099943</td>\n",
              "      <td>0.021313</td>\n",
              "      <td>0.044093</td>\n",
              "      <td>0.092402</td>\n",
              "      <td>0.052321</td>\n",
              "      <td>0.002228</td>\n",
              "      <td>0.408379</td>\n",
              "      <td>0</td>\n",
              "    </tr>\n",
              "  </tbody>\n",
              "</table>\n",
              "</div>"
            ],
            "text/plain": [
              "      sname               name  ...   topic15 deleted\n",
              "0    beck-s         Sally Beck  ...  0.392563       0\n",
              "1    bass-e         Bass, Eric  ...  0.373610       1\n",
              "2   allen-p  Allen, Phillip K.  ...  0.283137       1\n",
              "3    ward-k       Ward, Kim S.  ...  0.424461       0\n",
              "4  zipper-a       Zipper, Andy  ...  0.408379       0\n",
              "\n",
              "[5 rows x 44 columns]"
            ]
          },
          "metadata": {
            "tags": []
          },
          "execution_count": 71
        }
      ]
    },
    {
      "cell_type": "code",
      "metadata": {
        "id": "MryJdnnfC7oc"
      },
      "source": [
        "snames = [sname for sname in final_df['sname'].unique()]\n",
        "final_df['ind'] = final_df.apply(lambda row: snames.index(row['sname']) + 1, axis = 1)\n",
        "final_df = final_df[[c for c in final_df if c not in ['deleted']] + ['deleted']]\n",
        "ind_column = final_df.pop('ind')\n",
        "final_df.insert(1, 'ind', ind_column)"
      ],
      "execution_count": null,
      "outputs": []
    },
    {
      "cell_type": "code",
      "metadata": {
        "colab": {
          "base_uri": "https://localhost:8080/",
          "height": 581
        },
        "id": "3d_HsoBAFIZb",
        "outputId": "e8a5fdd6-4def-4d08-d260-10ee2b24c60d"
      },
      "source": [
        "final_df.head()"
      ],
      "execution_count": null,
      "outputs": [
        {
          "output_type": "execute_result",
          "data": {
            "text/html": [
              "<div>\n",
              "<style scoped>\n",
              "    .dataframe tbody tr th:only-of-type {\n",
              "        vertical-align: middle;\n",
              "    }\n",
              "\n",
              "    .dataframe tbody tr th {\n",
              "        vertical-align: top;\n",
              "    }\n",
              "\n",
              "    .dataframe thead th {\n",
              "        text-align: right;\n",
              "    }\n",
              "</style>\n",
              "<table border=\"1\" class=\"dataframe\">\n",
              "  <thead>\n",
              "    <tr style=\"text-align: right;\">\n",
              "      <th></th>\n",
              "      <th>sname</th>\n",
              "      <th>ind</th>\n",
              "      <th>name</th>\n",
              "      <th>email1</th>\n",
              "      <th>email2</th>\n",
              "      <th>subject</th>\n",
              "      <th>processedBody</th>\n",
              "      <th>bowBody</th>\n",
              "      <th>subjectLength</th>\n",
              "      <th>bodyLength</th>\n",
              "      <th>notOnToOrCcLine</th>\n",
              "      <th>firstOnToLine</th>\n",
              "      <th>secondOnToLine</th>\n",
              "      <th>thirdOrLaterOnToLine</th>\n",
              "      <th>firstOnCcLine</th>\n",
              "      <th>secondOrLaterOnCcLine</th>\n",
              "      <th>bodyLength[0-100]</th>\n",
              "      <th>bodyLength[101-200]</th>\n",
              "      <th>bodyLength[201-400]</th>\n",
              "      <th>bodyLength[401-1000]</th>\n",
              "      <th>bodyLength[1001-2000]</th>\n",
              "      <th>bodyLength[2001-5000]</th>\n",
              "      <th>bodyLength[&gt;5000]</th>\n",
              "      <th>subjectLength[0-7]</th>\n",
              "      <th>subjectLength[8-13]</th>\n",
              "      <th>subjectLength[14-20]</th>\n",
              "      <th>subjectLength[21-30]</th>\n",
              "      <th>subjectLength[31-45]</th>\n",
              "      <th>subjectLength[&gt;45]</th>\n",
              "      <th>topic01</th>\n",
              "      <th>topic02</th>\n",
              "      <th>topic03</th>\n",
              "      <th>topic04</th>\n",
              "      <th>topic05</th>\n",
              "      <th>topic06</th>\n",
              "      <th>topic07</th>\n",
              "      <th>topic08</th>\n",
              "      <th>topic09</th>\n",
              "      <th>topic10</th>\n",
              "      <th>topic11</th>\n",
              "      <th>topic12</th>\n",
              "      <th>topic13</th>\n",
              "      <th>topic14</th>\n",
              "      <th>topic15</th>\n",
              "      <th>deleted</th>\n",
              "    </tr>\n",
              "  </thead>\n",
              "  <tbody>\n",
              "    <tr>\n",
              "      <th>0</th>\n",
              "      <td>beck-s</td>\n",
              "      <td>1</td>\n",
              "      <td>Sally Beck</td>\n",
              "      <td>sally.beck@enron.com</td>\n",
              "      <td>sally.beck@enron.com</td>\n",
              "      <td>\\\\spr1inf1\\sapfiles\\ifout\\04000\\20020102-DENWE...</td>\n",
              "      <td>[payment, business, emailthi, isare, unit, tha...</td>\n",
              "      <td>[(11, 1), (120, 1), (225, 1), (260, 1), (424, ...</td>\n",
              "      <td>50</td>\n",
              "      <td>242</td>\n",
              "      <td>0</td>\n",
              "      <td>0</td>\n",
              "      <td>1</td>\n",
              "      <td>0</td>\n",
              "      <td>0</td>\n",
              "      <td>0</td>\n",
              "      <td>0</td>\n",
              "      <td>0</td>\n",
              "      <td>1</td>\n",
              "      <td>0</td>\n",
              "      <td>0</td>\n",
              "      <td>0</td>\n",
              "      <td>0</td>\n",
              "      <td>0</td>\n",
              "      <td>0</td>\n",
              "      <td>0</td>\n",
              "      <td>0</td>\n",
              "      <td>0</td>\n",
              "      <td>1</td>\n",
              "      <td>0.021829</td>\n",
              "      <td>0.091879</td>\n",
              "      <td>0.006890</td>\n",
              "      <td>0.016382</td>\n",
              "      <td>0.266443</td>\n",
              "      <td>0.072445</td>\n",
              "      <td>0.019697</td>\n",
              "      <td>0.016506</td>\n",
              "      <td>0.044190</td>\n",
              "      <td>0.009381</td>\n",
              "      <td>0.008569</td>\n",
              "      <td>0.006636</td>\n",
              "      <td>0.020877</td>\n",
              "      <td>0.005713</td>\n",
              "      <td>0.392563</td>\n",
              "      <td>0</td>\n",
              "    </tr>\n",
              "    <tr>\n",
              "      <th>1</th>\n",
              "      <td>bass-e</td>\n",
              "      <td>2</td>\n",
              "      <td>Bass, Eric</td>\n",
              "      <td>eric.bass@enron.com</td>\n",
              "      <td>eric.bass@enron.com</td>\n",
              "      <td>Holiday Specials from Hawaiitropicals.com</td>\n",
              "      <td>[today, novelty, reply, consist, price, gift, ...</td>\n",
              "      <td>[(0, 1), (32, 1), (43, 1), (48, 1), (54, 1), (...</td>\n",
              "      <td>41</td>\n",
              "      <td>1810</td>\n",
              "      <td>1</td>\n",
              "      <td>0</td>\n",
              "      <td>0</td>\n",
              "      <td>0</td>\n",
              "      <td>0</td>\n",
              "      <td>0</td>\n",
              "      <td>0</td>\n",
              "      <td>0</td>\n",
              "      <td>0</td>\n",
              "      <td>0</td>\n",
              "      <td>1</td>\n",
              "      <td>0</td>\n",
              "      <td>0</td>\n",
              "      <td>0</td>\n",
              "      <td>0</td>\n",
              "      <td>0</td>\n",
              "      <td>0</td>\n",
              "      <td>1</td>\n",
              "      <td>0</td>\n",
              "      <td>0.247094</td>\n",
              "      <td>0.063344</td>\n",
              "      <td>0.002073</td>\n",
              "      <td>0.061400</td>\n",
              "      <td>0.039416</td>\n",
              "      <td>0.038206</td>\n",
              "      <td>0.111409</td>\n",
              "      <td>0.004965</td>\n",
              "      <td>0.016921</td>\n",
              "      <td>0.002685</td>\n",
              "      <td>0.016026</td>\n",
              "      <td>0.002004</td>\n",
              "      <td>0.005682</td>\n",
              "      <td>0.015165</td>\n",
              "      <td>0.373610</td>\n",
              "      <td>1</td>\n",
              "    </tr>\n",
              "    <tr>\n",
              "      <th>2</th>\n",
              "      <td>allen-p</td>\n",
              "      <td>3</td>\n",
              "      <td>Allen, Phillip K.</td>\n",
              "      <td>k..allen@enron.com</td>\n",
              "      <td>phillip.allen@enron.com</td>\n",
              "      <td>Mortgage rates hit new lows</td>\n",
              "      <td>[today, receipt, brokerdealer, reply, reserve,...</td>\n",
              "      <td>[(0, 1), (11, 1), (15, 1), (32, 1), (41, 1), (...</td>\n",
              "      <td>27</td>\n",
              "      <td>3055</td>\n",
              "      <td>1</td>\n",
              "      <td>0</td>\n",
              "      <td>0</td>\n",
              "      <td>0</td>\n",
              "      <td>0</td>\n",
              "      <td>0</td>\n",
              "      <td>0</td>\n",
              "      <td>0</td>\n",
              "      <td>0</td>\n",
              "      <td>0</td>\n",
              "      <td>0</td>\n",
              "      <td>1</td>\n",
              "      <td>0</td>\n",
              "      <td>0</td>\n",
              "      <td>0</td>\n",
              "      <td>0</td>\n",
              "      <td>1</td>\n",
              "      <td>0</td>\n",
              "      <td>0</td>\n",
              "      <td>0.157582</td>\n",
              "      <td>0.070119</td>\n",
              "      <td>0.052106</td>\n",
              "      <td>0.078287</td>\n",
              "      <td>0.109527</td>\n",
              "      <td>0.084157</td>\n",
              "      <td>0.003841</td>\n",
              "      <td>0.026250</td>\n",
              "      <td>0.026601</td>\n",
              "      <td>0.034757</td>\n",
              "      <td>0.009434</td>\n",
              "      <td>0.009210</td>\n",
              "      <td>0.037483</td>\n",
              "      <td>0.017509</td>\n",
              "      <td>0.283137</td>\n",
              "      <td>1</td>\n",
              "    </tr>\n",
              "    <tr>\n",
              "      <th>3</th>\n",
              "      <td>ward-k</td>\n",
              "      <td>4</td>\n",
              "      <td>Ward, Kim S.</td>\n",
              "      <td>s..ward@enron.com</td>\n",
              "      <td>kim.ward@enron.com</td>\n",
              "      <td></td>\n",
              "      <td>[cell]</td>\n",
              "      <td>[(1972, 1)]</td>\n",
              "      <td>0</td>\n",
              "      <td>77</td>\n",
              "      <td>1</td>\n",
              "      <td>0</td>\n",
              "      <td>0</td>\n",
              "      <td>0</td>\n",
              "      <td>0</td>\n",
              "      <td>0</td>\n",
              "      <td>1</td>\n",
              "      <td>0</td>\n",
              "      <td>0</td>\n",
              "      <td>0</td>\n",
              "      <td>0</td>\n",
              "      <td>0</td>\n",
              "      <td>0</td>\n",
              "      <td>1</td>\n",
              "      <td>0</td>\n",
              "      <td>0</td>\n",
              "      <td>0</td>\n",
              "      <td>0</td>\n",
              "      <td>0</td>\n",
              "      <td>0.047087</td>\n",
              "      <td>0.074944</td>\n",
              "      <td>0.014863</td>\n",
              "      <td>0.035337</td>\n",
              "      <td>0.052378</td>\n",
              "      <td>0.072908</td>\n",
              "      <td>0.042489</td>\n",
              "      <td>0.035604</td>\n",
              "      <td>0.095323</td>\n",
              "      <td>0.019089</td>\n",
              "      <td>0.018485</td>\n",
              "      <td>0.014314</td>\n",
              "      <td>0.040394</td>\n",
              "      <td>0.012323</td>\n",
              "      <td>0.424461</td>\n",
              "      <td>0</td>\n",
              "    </tr>\n",
              "    <tr>\n",
              "      <th>4</th>\n",
              "      <td>zipper-a</td>\n",
              "      <td>5</td>\n",
              "      <td>Zipper, Andy</td>\n",
              "      <td>andy.zipper@enron.com</td>\n",
              "      <td></td>\n",
              "      <td>GIDDINGS BBQ FLY IN  DEC 15</td>\n",
              "      <td>[noon, see, flyin, successful, like, bean, pil...</td>\n",
              "      <td>[(19, 1), (20, 1), (47, 1), (50, 1), (67, 1), ...</td>\n",
              "      <td>27</td>\n",
              "      <td>916</td>\n",
              "      <td>0</td>\n",
              "      <td>1</td>\n",
              "      <td>0</td>\n",
              "      <td>0</td>\n",
              "      <td>0</td>\n",
              "      <td>0</td>\n",
              "      <td>0</td>\n",
              "      <td>0</td>\n",
              "      <td>0</td>\n",
              "      <td>1</td>\n",
              "      <td>0</td>\n",
              "      <td>0</td>\n",
              "      <td>0</td>\n",
              "      <td>0</td>\n",
              "      <td>0</td>\n",
              "      <td>0</td>\n",
              "      <td>1</td>\n",
              "      <td>0</td>\n",
              "      <td>0</td>\n",
              "      <td>0.008533</td>\n",
              "      <td>0.103858</td>\n",
              "      <td>0.002687</td>\n",
              "      <td>0.006684</td>\n",
              "      <td>0.051875</td>\n",
              "      <td>0.061260</td>\n",
              "      <td>0.037960</td>\n",
              "      <td>0.006464</td>\n",
              "      <td>0.099943</td>\n",
              "      <td>0.021313</td>\n",
              "      <td>0.044093</td>\n",
              "      <td>0.092402</td>\n",
              "      <td>0.052321</td>\n",
              "      <td>0.002228</td>\n",
              "      <td>0.408379</td>\n",
              "      <td>0</td>\n",
              "    </tr>\n",
              "  </tbody>\n",
              "</table>\n",
              "</div>"
            ],
            "text/plain": [
              "      sname  ind               name  ...   topic14   topic15 deleted\n",
              "0    beck-s    1         Sally Beck  ...  0.005713  0.392563       0\n",
              "1    bass-e    2         Bass, Eric  ...  0.015165  0.373610       1\n",
              "2   allen-p    3  Allen, Phillip K.  ...  0.017509  0.283137       1\n",
              "3    ward-k    4       Ward, Kim S.  ...  0.012323  0.424461       0\n",
              "4  zipper-a    5       Zipper, Andy  ...  0.002228  0.408379       0\n",
              "\n",
              "[5 rows x 45 columns]"
            ]
          },
          "metadata": {
            "tags": []
          },
          "execution_count": 73
        }
      ]
    },
    {
      "cell_type": "code",
      "metadata": {
        "colab": {
          "base_uri": "https://localhost:8080/"
        },
        "id": "dplPVlpFBCob",
        "outputId": "290faa8d-7ced-4b48-e4c0-bbf2ae56aac5"
      },
      "source": [
        "# split train/test \n",
        "train_perc = 0.7 # percentage of training data\n",
        "split_point = int(train_perc*len(final_df))\n",
        "\n",
        "df_train = final_df.iloc[:split_point,:]\n",
        "df_test = final_df.iloc[split_point+1:,:]\n",
        "\n",
        "print(\"train df:\", df_train.shape)\n",
        "print(\"test df: \", df_test.shape)"
      ],
      "execution_count": null,
      "outputs": [
        {
          "output_type": "stream",
          "text": [
            "train df: (6919, 45)\n",
            "test df:  (2965, 45)\n"
          ],
          "name": "stdout"
        }
      ]
    },
    {
      "cell_type": "markdown",
      "metadata": {
        "id": "wPDoKZfcQQlz"
      },
      "source": [
        "## 05.02. Classifier 201"
      ]
    },
    {
      "cell_type": "markdown",
      "metadata": {
        "id": "kjLMzWw21-dQ"
      },
      "source": [
        "A starter hierarchal model using the following features:\n",
        "- BodyLength Bins (One-of-N-feature)\n",
        "- SubjectLength Bins (One-of-N-feature)\n",
        "- ToCcPosiiton features (One-of-N-feature)"
      ]
    },
    {
      "cell_type": "markdown",
      "metadata": {
        "id": "llKBRhfybH5s"
      },
      "source": [
        "![PGM-1-201.jpg](data:image/jpeg;base64,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)"
      ]
    },
    {
      "cell_type": "code",
      "metadata": {
        "colab": {
          "base_uri": "https://localhost:8080/"
        },
        "id": "bqDqpn3bIk-5",
        "outputId": "e13be656-3a12-4049-cea6-4d1904a4b8c1"
      },
      "source": [
        "# train\n",
        "mat_train = df_train.values\n",
        "X_train = mat_train[:,10:-16]\n",
        "y_train = mat_train[:,-1].astype(\"int\")\n",
        "ind_train = mat_train[:,1].astype(\"int\")\n",
        "print(\"train x: {}, y: {}, ind: {}\".format(X_train.shape, y_train.shape, ind_train.shape))\n",
        "\n",
        "# test\n",
        "mat_test = df_test.values\n",
        "X_test = mat_test[:,10:-16]\n",
        "y_test = mat_test[:,-1].astype(\"int\")\n",
        "ind_test = mat_test[:,1].astype(\"int\")\n",
        "print(\"test x: {}, y: {}, ind: {}\".format(X_test.shape, y_test.shape, ind_test.shape))"
      ],
      "execution_count": null,
      "outputs": [
        {
          "output_type": "stream",
          "text": [
            "train x: (6919, 19), y: (6919,), ind: (6919,)\n",
            "test x: (2965, 19), y: (2965,), ind: (2965,)\n"
          ],
          "name": "stdout"
        }
      ]
    },
    {
      "cell_type": "code",
      "metadata": {
        "id": "GXId51YEy_OK"
      },
      "source": [
        "def hierarchical_model(X, ind, n_ind, obs=None):\n",
        "    input_dim = X.shape[1]\n",
        "\n",
        "    alpha_mu = pyro.sample(\"alpha_mu\", dist.Normal(0, 10.).to_event()) # Prior for the bias mean\n",
        "    alpha_sigma  = pyro.sample(\"alpha_sigma\",  dist.HalfCauchy(10.).to_event()) # Prior for the bias standard deviation\n",
        "\n",
        "    beta  = pyro.sample(\"beta\", dist.Normal(torch.zeros(input_dim), 10.*torch.ones(input_dim)).to_event()) \n",
        "    \n",
        "    with pyro.plate(\"ind\", n_ind):\n",
        "        alpha = pyro.sample(\"alpha\", dist.Normal(alpha_mu, alpha_sigma).to_event())\n",
        "\n",
        "    with pyro.plate(\"data\", X.shape[0]):\n",
        "        logits = alpha[ind] + X.matmul(beta)\n",
        "        y = pyro.sample(\"y\", dist.Bernoulli(logits=logits), obs=obs)\n",
        "        \n",
        "    return y"
      ],
      "execution_count": null,
      "outputs": []
    },
    {
      "cell_type": "code",
      "metadata": {
        "id": "ErZd19OkKDQT"
      },
      "source": [
        "X_train = X_train.astype(np.float64)\n",
        "y_train = y_train.astype(np.int32)"
      ],
      "execution_count": null,
      "outputs": []
    },
    {
      "cell_type": "code",
      "metadata": {
        "colab": {
          "base_uri": "https://localhost:8080/"
        },
        "id": "73-PlFGjKHbV",
        "outputId": "9c2ad0c7-d414-4bc1-d626-e697b3a602b4"
      },
      "source": [
        "X_train[0]"
      ],
      "execution_count": null,
      "outputs": [
        {
          "output_type": "execute_result",
          "data": {
            "text/plain": [
              "array([0., 0., 1., 0., 0., 0., 0., 0., 1., 0., 0., 0., 0., 0., 0., 0., 0.,\n",
              "       0., 1.])"
            ]
          },
          "metadata": {
            "tags": []
          },
          "execution_count": 78
        }
      ]
    },
    {
      "cell_type": "code",
      "metadata": {
        "id": "t05uxOPOJwSl"
      },
      "source": [
        "# Prepare data for Pyro model\n",
        "n_ind = ind_train.max()\n",
        "X_train = torch.tensor(X_train).float()\n",
        "y_train = torch.tensor(y_train).float()\n",
        "ind_train = torch.tensor(ind_train).long() # these are indices, therefore they need to be (long) integers"
      ],
      "execution_count": null,
      "outputs": []
    },
    {
      "cell_type": "code",
      "metadata": {
        "colab": {
          "base_uri": "https://localhost:8080/"
        },
        "id": "R8hWAPjI7SKs",
        "outputId": "ac13b682-301f-4449-e439-52a25e5dfe6e"
      },
      "source": [
        "X_train.shape, n_ind"
      ],
      "execution_count": null,
      "outputs": [
        {
          "output_type": "execute_result",
          "data": {
            "text/plain": [
              "(torch.Size([6919, 19]), 32)"
            ]
          },
          "metadata": {
            "tags": []
          },
          "execution_count": 80
        }
      ]
    },
    {
      "cell_type": "code",
      "metadata": {
        "colab": {
          "base_uri": "https://localhost:8080/"
        },
        "id": "6ZmbDuNtLHFl",
        "outputId": "d4368b13-094d-4911-fcb4-4ee7410d484d"
      },
      "source": [
        "%%time\n",
        "\n",
        "nuts_kernel = NUTS(hierarchical_model)\n",
        "mcmc = MCMC(nuts_kernel, num_samples=500, warmup_steps=100, num_chains=1)\n",
        "mcmc.run(X_train, ind_train-1, n_ind, y_train)"
      ],
      "execution_count": null,
      "outputs": [
        {
          "output_type": "stream",
          "text": [
            "Sample: 100%|██████████| 600/600 [04:19,  2.31it/s, step size=3.39e-02, acc. prob=0.926]"
          ],
          "name": "stderr"
        },
        {
          "output_type": "stream",
          "text": [
            "CPU times: user 4min 18s, sys: 1.58 s, total: 4min 19s\n",
            "Wall time: 4min 19s\n"
          ],
          "name": "stdout"
        },
        {
          "output_type": "stream",
          "text": [
            "\n"
          ],
          "name": "stderr"
        }
      ]
    },
    {
      "cell_type": "code",
      "metadata": {
        "id": "1AIl6nvF56Iu"
      },
      "source": [
        "samples = mcmc.get_samples()\n",
        "beta_samples = samples[\"beta\"].detach().numpy()\n",
        "alpha_samples = samples[\"alpha\"].detach().numpy()\n",
        "alpha_mu_samples = samples[\"alpha_mu\"].detach().numpy()\n",
        "alpha_sigma_samples = samples[\"alpha_sigma\"].detach().numpy()"
      ],
      "execution_count": null,
      "outputs": []
    },
    {
      "cell_type": "code",
      "metadata": {
        "id": "Ge2jCLho574h",
        "colab": {
          "base_uri": "https://localhost:8080/",
          "height": 537
        },
        "outputId": "3c5c0251-685a-469c-bc60-e1edee4a467c"
      },
      "source": [
        "sns.distplot(alpha_mu_samples)\n",
        "plt.show()"
      ],
      "execution_count": null,
      "outputs": [
        {
          "output_type": "stream",
          "text": [
            "/usr/local/lib/python3.7/dist-packages/seaborn/distributions.py:2557: FutureWarning: `distplot` is a deprecated function and will be removed in a future version. Please adapt your code to use either `displot` (a figure-level function with similar flexibility) or `histplot` (an axes-level function for histograms).\n",
            "  warnings.warn(msg, FutureWarning)\n"
          ],
          "name": "stderr"
        },
        {
          "output_type": "display_data",
          "data": {
            "image/png": "[encoded data removed]",
            "text/plain": [
              "<Figure size 864x576 with 1 Axes>"
            ]
          },
          "metadata": {
            "tags": [],
            "needs_background": "light"
          }
        }
      ]
    },
    {
      "cell_type": "code",
      "metadata": {
        "id": "9NmIKLkK59_Y",
        "colab": {
          "base_uri": "https://localhost:8080/",
          "height": 537
        },
        "outputId": "60011d22-1c03-47a9-dfd4-6ec0f7a786b1"
      },
      "source": [
        "sns.distplot(alpha_sigma_samples)\n",
        "plt.show()"
      ],
      "execution_count": null,
      "outputs": [
        {
          "output_type": "stream",
          "text": [
            "/usr/local/lib/python3.7/dist-packages/seaborn/distributions.py:2557: FutureWarning: `distplot` is a deprecated function and will be removed in a future version. Please adapt your code to use either `displot` (a figure-level function with similar flexibility) or `histplot` (an axes-level function for histograms).\n",
            "  warnings.warn(msg, FutureWarning)\n"
          ],
          "name": "stderr"
        },
        {
          "output_type": "display_data",
          "data": {
            "image/png": "[encoded data removed]",
            "text/plain": [
              "<Figure size 864x576 with 1 Axes>"
            ]
          },
          "metadata": {
            "tags": [],
            "needs_background": "light"
          }
        }
      ]
    },
    {
      "cell_type": "code",
      "metadata": {
        "id": "Qy5hbD-69MOM"
      },
      "source": [
        "# extract expected values of the parameters\n",
        "alpha_hat = samples[\"alpha\"].mean(axis=0).detach().numpy()\n",
        "beta_hat = samples[\"beta\"].mean(axis=0).detach().numpy()"
      ],
      "execution_count": null,
      "outputs": []
    },
    {
      "cell_type": "code",
      "metadata": {
        "id": "GhPEMeacUGV-",
        "colab": {
          "base_uri": "https://localhost:8080/"
        },
        "outputId": "1d880c3a-baef-4a22-febd-4088fc84e38c"
      },
      "source": [
        "# make predictions for test set\n",
        "y_hat = alpha_hat[ind_test-1] + np.dot(X_test, beta_hat.T)\n",
        "y_hat = np.squeeze(y_hat)\n",
        "y_hat = (y_hat > 0).astype(np.int)\n",
        "\n",
        "print(\"predictions:\", y_hat)\n",
        "print(\"true values:\", y_test)\n",
        "\n",
        "# evaluate prediction accuracy\n",
        "acc_c_201 = 1.0*np.sum(y_hat == y_test) / len(y_test)\n",
        "accuracies.append(acc_c_201)\n",
        "print(\"Accuracy:\", acc_c_201)"
      ],
      "execution_count": null,
      "outputs": [
        {
          "output_type": "stream",
          "text": [
            "predictions: [1 1 1 ... 0 0 1]\n",
            "true values: [1 0 1 ... 0 1 1]\n",
            "Accuracy: 0.6428330522765598\n"
          ],
          "name": "stdout"
        }
      ]
    },
    {
      "cell_type": "markdown",
      "metadata": {
        "id": "rXP9QLOFUh0L"
      },
      "source": [
        "## 05.03. Classifer 202"
      ]
    },
    {
      "cell_type": "markdown",
      "metadata": {
        "id": "Mw23bgWM2UgD"
      },
      "source": [
        "A hierarchal model which uses the topics:\n",
        "- BodyLength Bins (One-of-N-feature)\n",
        "- SubjectLength Bins (One-of-N-feature)\n",
        "- ToCcPosiiton features (One-of-N-feature)\n",
        "- Topics (Numeric features)"
      ]
    },
    {
      "cell_type": "markdown",
      "metadata": {
        "id": "AOgiFQ7TbM--"
      },
      "source": [
        "![PGM-1-202.jpg](data:image/jpeg;base64,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)"
      ]
    },
    {
      "cell_type": "code",
      "metadata": {
        "id": "idrYEBvXUh0X",
        "colab": {
          "base_uri": "https://localhost:8080/"
        },
        "outputId": "f7c9e307-98ce-4524-dafc-b7aa768046b4"
      },
      "source": [
        "# train\n",
        "mat_train = df_train.values\n",
        "X_train = mat_train[:,10:-1]\n",
        "y_train = mat_train[:,-1].astype(\"int\")\n",
        "ind_train = mat_train[:,1].astype(\"int\")\n",
        "print(\"train x: {}, y: {}, ind: {}\".format(X_train.shape, y_train.shape, ind_train.shape))\n",
        "\n",
        "# test\n",
        "mat_test = df_test.values\n",
        "X_test = mat_test[:,10:-1]\n",
        "y_test = mat_test[:,-1].astype(\"int\")\n",
        "ind_test = mat_test[:,1].astype(\"int\")\n",
        "print(\"test x: {}, y: {}, ind: {}\".format(X_test.shape, y_test.shape, ind_test.shape))"
      ],
      "execution_count": null,
      "outputs": [
        {
          "output_type": "stream",
          "text": [
            "train x: (6919, 34), y: (6919,), ind: (6919,)\n",
            "test x: (2965, 34), y: (2965,), ind: (2965,)\n"
          ],
          "name": "stdout"
        }
      ]
    },
    {
      "cell_type": "code",
      "metadata": {
        "id": "JW-GK-utUh0X"
      },
      "source": [
        "def hierarchical_model(X, ind, n_ind, obs=None):\n",
        "    input_dim = X.shape[1]\n",
        "\n",
        "    alpha_mu = pyro.sample(\"alpha_mu\", dist.Normal(0, 10.).to_event()) # Prior for the bias mean\n",
        "    alpha_sigma  = pyro.sample(\"alpha_sigma\",  dist.HalfCauchy(10.).to_event()) # Prior for the bias standard deviation\n",
        "\n",
        "    beta  = pyro.sample(\"beta\", dist.Normal(torch.zeros(input_dim), 10.*torch.ones(input_dim)).to_event()) \n",
        "    \n",
        "    with pyro.plate(\"ind\", n_ind):\n",
        "        alpha = pyro.sample(\"alpha\", dist.Normal(alpha_mu, alpha_sigma).to_event()) \n",
        "\n",
        "    with pyro.plate(\"data\", X.shape[0]):\n",
        "        logits = alpha[ind] + X.matmul(beta)\n",
        "        y = pyro.sample(\"y\", dist.Bernoulli(logits=logits), obs=obs)\n",
        "        \n",
        "    return y"
      ],
      "execution_count": null,
      "outputs": []
    },
    {
      "cell_type": "code",
      "metadata": {
        "id": "xtkxvMHIUh0X"
      },
      "source": [
        "X_train = X_train.astype(np.float64)\n",
        "y_train = y_train.astype(np.int32)"
      ],
      "execution_count": null,
      "outputs": []
    },
    {
      "cell_type": "code",
      "metadata": {
        "id": "RcCZobsOUh0Z",
        "colab": {
          "base_uri": "https://localhost:8080/"
        },
        "outputId": "19c5d1c2-16b1-4a3e-a976-ab03a929aedd"
      },
      "source": [
        "X_train[0]"
      ],
      "execution_count": null,
      "outputs": [
        {
          "output_type": "execute_result",
          "data": {
            "text/plain": [
              "array([0.        , 0.        , 1.        , 0.        , 0.        ,\n",
              "       0.        , 0.        , 0.        , 1.        , 0.        ,\n",
              "       0.        , 0.        , 0.        , 0.        , 0.        ,\n",
              "       0.        , 0.        , 0.        , 1.        , 0.02182894,\n",
              "       0.0918789 , 0.00689045, 0.01638173, 0.26644301, 0.07244524,\n",
              "       0.01969702, 0.01650561, 0.04419015, 0.00938133, 0.00856918,\n",
              "       0.00663583, 0.02087654, 0.00571272, 0.39256328])"
            ]
          },
          "metadata": {
            "tags": []
          },
          "execution_count": 90
        }
      ]
    },
    {
      "cell_type": "code",
      "metadata": {
        "id": "PULMv9GQUh0a"
      },
      "source": [
        "# Prepare data for Pyro model\n",
        "n_ind = ind_train.max()\n",
        "X_train = torch.tensor(X_train).float()\n",
        "y_train = torch.tensor(y_train).float()\n",
        "ind_train = torch.tensor(ind_train).long() # these are indices, therefore they need to be (long) integers"
      ],
      "execution_count": null,
      "outputs": []
    },
    {
      "cell_type": "code",
      "metadata": {
        "id": "5c5cQnd-Uh0a",
        "colab": {
          "base_uri": "https://localhost:8080/"
        },
        "outputId": "285a6230-be18-469b-b1f7-a6d6213d7a16"
      },
      "source": [
        "X_train.shape, n_ind"
      ],
      "execution_count": null,
      "outputs": [
        {
          "output_type": "execute_result",
          "data": {
            "text/plain": [
              "(torch.Size([6919, 34]), 32)"
            ]
          },
          "metadata": {
            "tags": []
          },
          "execution_count": 92
        }
      ]
    },
    {
      "cell_type": "code",
      "metadata": {
        "id": "D_pw3RKEUh0b",
        "colab": {
          "base_uri": "https://localhost:8080/"
        },
        "outputId": "7d21fb24-3ae9-4fe3-a440-92c02a54f177"
      },
      "source": [
        "%%time\n",
        "\n",
        "nuts_kernel = NUTS(hierarchical_model)\n",
        "mcmc = MCMC(nuts_kernel, num_samples=500, warmup_steps=100, num_chains=1)\n",
        "mcmc.run(X_train, ind_train-1, n_ind, y_train)"
      ],
      "execution_count": null,
      "outputs": [
        {
          "output_type": "stream",
          "text": [
            "Sample: 100%|██████████| 600/600 [18:28,  1.85s/it, step size=1.35e-02, acc. prob=0.843]"
          ],
          "name": "stderr"
        },
        {
          "output_type": "stream",
          "text": [
            "CPU times: user 18min 22s, sys: 5.17 s, total: 18min 27s\n",
            "Wall time: 18min 28s\n"
          ],
          "name": "stdout"
        },
        {
          "output_type": "stream",
          "text": [
            "\n"
          ],
          "name": "stderr"
        }
      ]
    },
    {
      "cell_type": "code",
      "metadata": {
        "id": "hWdhIQlhUh0b"
      },
      "source": [
        "samples = mcmc.get_samples()\n",
        "beta_samples = samples[\"beta\"].detach().numpy()\n",
        "alpha_samples = samples[\"alpha\"].detach().numpy()\n",
        "alpha_mu_samples = samples[\"alpha_mu\"].detach().numpy()\n",
        "alpha_sigma_samples = samples[\"alpha_sigma\"].detach().numpy()"
      ],
      "execution_count": null,
      "outputs": []
    },
    {
      "cell_type": "code",
      "metadata": {
        "id": "kHmrPe26Uh0b",
        "colab": {
          "base_uri": "https://localhost:8080/",
          "height": 537
        },
        "outputId": "fe5b961b-0177-45f5-9df3-68b7f283cd0d"
      },
      "source": [
        "sns.distplot(alpha_mu_samples)\n",
        "plt.show()"
      ],
      "execution_count": null,
      "outputs": [
        {
          "output_type": "stream",
          "text": [
            "/usr/local/lib/python3.7/dist-packages/seaborn/distributions.py:2557: FutureWarning: `distplot` is a deprecated function and will be removed in a future version. Please adapt your code to use either `displot` (a figure-level function with similar flexibility) or `histplot` (an axes-level function for histograms).\n",
            "  warnings.warn(msg, FutureWarning)\n"
          ],
          "name": "stderr"
        },
        {
          "output_type": "display_data",
          "data": {
            "image/png": "[encoded data removed]",
            "text/plain": [
              "<Figure size 864x576 with 1 Axes>"
            ]
          },
          "metadata": {
            "tags": [],
            "needs_background": "light"
          }
        }
      ]
    },
    {
      "cell_type": "code",
      "metadata": {
        "id": "xnycJf5NUh0b",
        "colab": {
          "base_uri": "https://localhost:8080/",
          "height": 537
        },
        "outputId": "a5ba6396-8ba2-4004-9b6b-57f6c84c3bc8"
      },
      "source": [
        "sns.distplot(alpha_sigma_samples)\n",
        "plt.show()"
      ],
      "execution_count": null,
      "outputs": [
        {
          "output_type": "stream",
          "text": [
            "/usr/local/lib/python3.7/dist-packages/seaborn/distributions.py:2557: FutureWarning: `distplot` is a deprecated function and will be removed in a future version. Please adapt your code to use either `displot` (a figure-level function with similar flexibility) or `histplot` (an axes-level function for histograms).\n",
            "  warnings.warn(msg, FutureWarning)\n"
          ],
          "name": "stderr"
        },
        {
          "output_type": "display_data",
          "data": {
            "image/png": "[encoded data removed]",
            "text/plain": [
              "<Figure size 864x576 with 1 Axes>"
            ]
          },
          "metadata": {
            "tags": [],
            "needs_background": "light"
          }
        }
      ]
    },
    {
      "cell_type": "code",
      "metadata": {
        "id": "LIu8KNtkUh0c"
      },
      "source": [
        "# extract expected values of the parameters\n",
        "alpha_hat = samples[\"alpha\"].mean(axis=0).detach().numpy()\n",
        "beta_hat = samples[\"beta\"].mean(axis=0).detach().numpy()"
      ],
      "execution_count": null,
      "outputs": []
    },
    {
      "cell_type": "code",
      "metadata": {
        "id": "2V5MAOWRUh0c",
        "colab": {
          "base_uri": "https://localhost:8080/"
        },
        "outputId": "e884df0b-1b7d-4c2d-a2b8-2b0662381363"
      },
      "source": [
        "# make predictions for test set\n",
        "y_hat = alpha_hat[ind_test-1] + np.dot(X_test, beta_hat.T)\n",
        "y_hat = np.squeeze(y_hat)\n",
        "y_hat = (y_hat > 0).astype(np.int)\n",
        "\n",
        "print(\"predictions:\", y_hat)\n",
        "print(\"true values:\", y_test)\n",
        "\n",
        "# evaluate prediction accuracy\n",
        "acc_c_202 = 1.0*np.sum(y_hat == y_test) / len(y_test)\n",
        "accuracies.append(acc_c_202)\n",
        "print(\"Accuracy:\", acc_c_202)"
      ],
      "execution_count": null,
      "outputs": [
        {
          "output_type": "stream",
          "text": [
            "predictions: [1 1 1 ... 0 0 1]\n",
            "true values: [1 0 1 ... 0 1 1]\n",
            "Accuracy: 0.6536256323777403\n"
          ],
          "name": "stdout"
        }
      ]
    },
    {
      "cell_type": "markdown",
      "metadata": {
        "id": "e8MNWkdKgulP"
      },
      "source": [
        "# 06. Comparing Results"
      ]
    },
    {
      "cell_type": "code",
      "metadata": {
        "id": "sdyHIA93uf6Y"
      },
      "source": [
        "# reconstruct the list again, in case of multiple runs\n",
        "accuracies = []\n",
        "accuracies.append(acc_c_101)\n",
        "accuracies.append(acc_c_102)\n",
        "accuracies.append(acc_c_103)\n",
        "accuracies.append(acc_c_201)\n",
        "accuracies.append(acc_c_202)"
      ],
      "execution_count": null,
      "outputs": []
    },
    {
      "cell_type": "code",
      "metadata": {
        "id": "PNQST2uIgtkp",
        "colab": {
          "base_uri": "https://localhost:8080/",
          "height": 624
        },
        "outputId": "89bcc656-9f71-4e07-a0b7-821f63d79fc5"
      },
      "source": [
        "# plotting the accuracy of all the models\n",
        "fig = plt.figure()\n",
        "ax = fig.add_axes([0,0,1,1])\n",
        "labels = ['C-101', 'C-102', 'C-103', 'C-201', 'C-202']\n",
        "ax.bar(labels, accuracies, color='purple', alpha=0.7)\n",
        "plt.show()"
      ],
      "execution_count": null,
      "outputs": [
        {
          "output_type": "display_data",
          "data": {
            "image/png": "[encoded data removed]",
            "text/plain": [
              "<Figure size 864x576 with 1 Axes>"
            ]
          },
          "metadata": {
            "tags": [],
            "needs_background": "light"
          }
        }
      ]
    },
    {
      "cell_type": "code",
      "metadata": {
        "id": "9tRRKorfjOXv"
      },
      "source": [
        ""
      ],
      "execution_count": null,
      "outputs": []
    }
  ]
}